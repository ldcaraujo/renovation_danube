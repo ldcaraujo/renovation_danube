{
 "cells": [
  {
   "cell_type": "code",
   "execution_count": 1,
   "id": "e9a56abf",
   "metadata": {},
   "outputs": [],
   "source": [
    "import pandas as pd\n",
    "import matplotlib.pyplot as plt\n",
    "import numpy as np"
   ]
  },
  {
   "cell_type": "code",
   "execution_count": 2,
   "id": "e7669b22",
   "metadata": {},
   "outputs": [
    {
     "ename": "FileNotFoundError",
     "evalue": "[Errno 2] No such file or directory: 'E:\\\\Post-doc_LMDC_Paendora2\\\\final_work\\\\rapport\\\\join_roof_and_rock\\\\analyzed_groups_stats_U_e.xlsx'",
     "output_type": "error",
     "traceback": [
      "\u001b[1;31m---------------------------------------------------------------------------\u001b[0m",
      "\u001b[1;31mFileNotFoundError\u001b[0m                         Traceback (most recent call last)",
      "\u001b[1;32m~\\AppData\\Local\\Temp/ipykernel_18096/210504726.py\u001b[0m in \u001b[0;36m<module>\u001b[1;34m\u001b[0m\n\u001b[0;32m      1\u001b[0m \u001b[0mpath_old_table\u001b[0m \u001b[1;33m=\u001b[0m \u001b[1;34mr\"E:\\Post-doc_LMDC_Paendora2\\final_work\\rapport\\join_roof_and_rock\\analyzed_groups_stats_U_e.xlsx\"\u001b[0m\u001b[1;33m\u001b[0m\u001b[1;33m\u001b[0m\u001b[0m\n\u001b[1;32m----> 2\u001b[1;33m \u001b[0mdf_old\u001b[0m \u001b[1;33m=\u001b[0m \u001b[0mpd\u001b[0m\u001b[1;33m.\u001b[0m\u001b[0mread_excel\u001b[0m\u001b[1;33m(\u001b[0m\u001b[0mpath_old_table\u001b[0m\u001b[1;33m,\u001b[0m \u001b[0mindex_col\u001b[0m\u001b[1;33m=\u001b[0m\u001b[1;36m0\u001b[0m\u001b[1;33m)\u001b[0m\u001b[1;33m\u001b[0m\u001b[1;33m\u001b[0m\u001b[0m\n\u001b[0m\u001b[0;32m      3\u001b[0m \u001b[1;33m\u001b[0m\u001b[0m\n\u001b[0;32m      4\u001b[0m \u001b[0mpath_table_2\u001b[0m \u001b[1;33m=\u001b[0m \u001b[1;34mr\"E:\\Post-doc_LMDC_Paendora2\\final_work\\rapport\\join_roof\\by_roof_analyzed_groups_stats_U_e.xlsx\"\u001b[0m\u001b[1;33m\u001b[0m\u001b[1;33m\u001b[0m\u001b[0m\n\u001b[0;32m      5\u001b[0m \u001b[0mdf_2\u001b[0m \u001b[1;33m=\u001b[0m \u001b[0mpd\u001b[0m\u001b[1;33m.\u001b[0m\u001b[0mread_excel\u001b[0m\u001b[1;33m(\u001b[0m\u001b[0mpath_table_2\u001b[0m\u001b[1;33m,\u001b[0m \u001b[0mindex_col\u001b[0m\u001b[1;33m=\u001b[0m\u001b[1;36m0\u001b[0m\u001b[1;33m)\u001b[0m\u001b[1;33m\u001b[0m\u001b[1;33m\u001b[0m\u001b[0m\n",
      "\u001b[1;32m~\\Anaconda3\\lib\\site-packages\\pandas\\util\\_decorators.py\u001b[0m in \u001b[0;36mwrapper\u001b[1;34m(*args, **kwargs)\u001b[0m\n\u001b[0;32m    309\u001b[0m                     \u001b[0mstacklevel\u001b[0m\u001b[1;33m=\u001b[0m\u001b[0mstacklevel\u001b[0m\u001b[1;33m,\u001b[0m\u001b[1;33m\u001b[0m\u001b[1;33m\u001b[0m\u001b[0m\n\u001b[0;32m    310\u001b[0m                 )\n\u001b[1;32m--> 311\u001b[1;33m             \u001b[1;32mreturn\u001b[0m \u001b[0mfunc\u001b[0m\u001b[1;33m(\u001b[0m\u001b[1;33m*\u001b[0m\u001b[0margs\u001b[0m\u001b[1;33m,\u001b[0m \u001b[1;33m**\u001b[0m\u001b[0mkwargs\u001b[0m\u001b[1;33m)\u001b[0m\u001b[1;33m\u001b[0m\u001b[1;33m\u001b[0m\u001b[0m\n\u001b[0m\u001b[0;32m    312\u001b[0m \u001b[1;33m\u001b[0m\u001b[0m\n\u001b[0;32m    313\u001b[0m         \u001b[1;32mreturn\u001b[0m \u001b[0mwrapper\u001b[0m\u001b[1;33m\u001b[0m\u001b[1;33m\u001b[0m\u001b[0m\n",
      "\u001b[1;32m~\\Anaconda3\\lib\\site-packages\\pandas\\io\\excel\\_base.py\u001b[0m in \u001b[0;36mread_excel\u001b[1;34m(io, sheet_name, header, names, index_col, usecols, squeeze, dtype, engine, converters, true_values, false_values, skiprows, nrows, na_values, keep_default_na, na_filter, verbose, parse_dates, date_parser, thousands, comment, skipfooter, convert_float, mangle_dupe_cols, storage_options)\u001b[0m\n\u001b[0;32m    362\u001b[0m     \u001b[1;32mif\u001b[0m \u001b[1;32mnot\u001b[0m \u001b[0misinstance\u001b[0m\u001b[1;33m(\u001b[0m\u001b[0mio\u001b[0m\u001b[1;33m,\u001b[0m \u001b[0mExcelFile\u001b[0m\u001b[1;33m)\u001b[0m\u001b[1;33m:\u001b[0m\u001b[1;33m\u001b[0m\u001b[1;33m\u001b[0m\u001b[0m\n\u001b[0;32m    363\u001b[0m         \u001b[0mshould_close\u001b[0m \u001b[1;33m=\u001b[0m \u001b[1;32mTrue\u001b[0m\u001b[1;33m\u001b[0m\u001b[1;33m\u001b[0m\u001b[0m\n\u001b[1;32m--> 364\u001b[1;33m         \u001b[0mio\u001b[0m \u001b[1;33m=\u001b[0m \u001b[0mExcelFile\u001b[0m\u001b[1;33m(\u001b[0m\u001b[0mio\u001b[0m\u001b[1;33m,\u001b[0m \u001b[0mstorage_options\u001b[0m\u001b[1;33m=\u001b[0m\u001b[0mstorage_options\u001b[0m\u001b[1;33m,\u001b[0m \u001b[0mengine\u001b[0m\u001b[1;33m=\u001b[0m\u001b[0mengine\u001b[0m\u001b[1;33m)\u001b[0m\u001b[1;33m\u001b[0m\u001b[1;33m\u001b[0m\u001b[0m\n\u001b[0m\u001b[0;32m    365\u001b[0m     \u001b[1;32melif\u001b[0m \u001b[0mengine\u001b[0m \u001b[1;32mand\u001b[0m \u001b[0mengine\u001b[0m \u001b[1;33m!=\u001b[0m \u001b[0mio\u001b[0m\u001b[1;33m.\u001b[0m\u001b[0mengine\u001b[0m\u001b[1;33m:\u001b[0m\u001b[1;33m\u001b[0m\u001b[1;33m\u001b[0m\u001b[0m\n\u001b[0;32m    366\u001b[0m         raise ValueError(\n",
      "\u001b[1;32m~\\Anaconda3\\lib\\site-packages\\pandas\\io\\excel\\_base.py\u001b[0m in \u001b[0;36m__init__\u001b[1;34m(self, path_or_buffer, engine, storage_options)\u001b[0m\n\u001b[0;32m   1189\u001b[0m                 \u001b[0mext\u001b[0m \u001b[1;33m=\u001b[0m \u001b[1;34m\"xls\"\u001b[0m\u001b[1;33m\u001b[0m\u001b[1;33m\u001b[0m\u001b[0m\n\u001b[0;32m   1190\u001b[0m             \u001b[1;32melse\u001b[0m\u001b[1;33m:\u001b[0m\u001b[1;33m\u001b[0m\u001b[1;33m\u001b[0m\u001b[0m\n\u001b[1;32m-> 1191\u001b[1;33m                 ext = inspect_excel_format(\n\u001b[0m\u001b[0;32m   1192\u001b[0m                     \u001b[0mcontent_or_path\u001b[0m\u001b[1;33m=\u001b[0m\u001b[0mpath_or_buffer\u001b[0m\u001b[1;33m,\u001b[0m \u001b[0mstorage_options\u001b[0m\u001b[1;33m=\u001b[0m\u001b[0mstorage_options\u001b[0m\u001b[1;33m\u001b[0m\u001b[1;33m\u001b[0m\u001b[0m\n\u001b[0;32m   1193\u001b[0m                 )\n",
      "\u001b[1;32m~\\Anaconda3\\lib\\site-packages\\pandas\\io\\excel\\_base.py\u001b[0m in \u001b[0;36minspect_excel_format\u001b[1;34m(content_or_path, storage_options)\u001b[0m\n\u001b[0;32m   1068\u001b[0m         \u001b[0mcontent_or_path\u001b[0m \u001b[1;33m=\u001b[0m \u001b[0mBytesIO\u001b[0m\u001b[1;33m(\u001b[0m\u001b[0mcontent_or_path\u001b[0m\u001b[1;33m)\u001b[0m\u001b[1;33m\u001b[0m\u001b[1;33m\u001b[0m\u001b[0m\n\u001b[0;32m   1069\u001b[0m \u001b[1;33m\u001b[0m\u001b[0m\n\u001b[1;32m-> 1070\u001b[1;33m     with get_handle(\n\u001b[0m\u001b[0;32m   1071\u001b[0m         \u001b[0mcontent_or_path\u001b[0m\u001b[1;33m,\u001b[0m \u001b[1;34m\"rb\"\u001b[0m\u001b[1;33m,\u001b[0m \u001b[0mstorage_options\u001b[0m\u001b[1;33m=\u001b[0m\u001b[0mstorage_options\u001b[0m\u001b[1;33m,\u001b[0m \u001b[0mis_text\u001b[0m\u001b[1;33m=\u001b[0m\u001b[1;32mFalse\u001b[0m\u001b[1;33m\u001b[0m\u001b[1;33m\u001b[0m\u001b[0m\n\u001b[0;32m   1072\u001b[0m     ) as handle:\n",
      "\u001b[1;32m~\\Anaconda3\\lib\\site-packages\\pandas\\io\\common.py\u001b[0m in \u001b[0;36mget_handle\u001b[1;34m(path_or_buf, mode, encoding, compression, memory_map, is_text, errors, storage_options)\u001b[0m\n\u001b[0;32m    709\u001b[0m         \u001b[1;32melse\u001b[0m\u001b[1;33m:\u001b[0m\u001b[1;33m\u001b[0m\u001b[1;33m\u001b[0m\u001b[0m\n\u001b[0;32m    710\u001b[0m             \u001b[1;31m# Binary mode\u001b[0m\u001b[1;33m\u001b[0m\u001b[1;33m\u001b[0m\u001b[0m\n\u001b[1;32m--> 711\u001b[1;33m             \u001b[0mhandle\u001b[0m \u001b[1;33m=\u001b[0m \u001b[0mopen\u001b[0m\u001b[1;33m(\u001b[0m\u001b[0mhandle\u001b[0m\u001b[1;33m,\u001b[0m \u001b[0mioargs\u001b[0m\u001b[1;33m.\u001b[0m\u001b[0mmode\u001b[0m\u001b[1;33m)\u001b[0m\u001b[1;33m\u001b[0m\u001b[1;33m\u001b[0m\u001b[0m\n\u001b[0m\u001b[0;32m    712\u001b[0m         \u001b[0mhandles\u001b[0m\u001b[1;33m.\u001b[0m\u001b[0mappend\u001b[0m\u001b[1;33m(\u001b[0m\u001b[0mhandle\u001b[0m\u001b[1;33m)\u001b[0m\u001b[1;33m\u001b[0m\u001b[1;33m\u001b[0m\u001b[0m\n\u001b[0;32m    713\u001b[0m \u001b[1;33m\u001b[0m\u001b[0m\n",
      "\u001b[1;31mFileNotFoundError\u001b[0m: [Errno 2] No such file or directory: 'E:\\\\Post-doc_LMDC_Paendora2\\\\final_work\\\\rapport\\\\join_roof_and_rock\\\\analyzed_groups_stats_U_e.xlsx'"
     ]
    }
   ],
   "source": [
    "path_old_table = r\"E:\\Post-doc_LMDC_Paendora2\\final_work\\rapport\\join_roof_and_rock\\analyzed_groups_stats_U_e.xlsx\"\n",
    "df_old = pd.read_excel(path_old_table, index_col=0)\n",
    "\n",
    "path_table_2 = r\"E:\\Post-doc_LMDC_Paendora2\\final_work\\rapport\\join_roof\\by_roof_analyzed_groups_stats_U_e.xlsx\"\n",
    "df_2 = pd.read_excel(path_table_2, index_col=0)\n",
    "df_2.head()\n",
    "\n",
    "path_table = r\"E:\\Post-doc_LMDC_Paendora2\\final_work\\rapport\\join_roof\\by_roof_nrv_analyzed_groups_stats_U_e.xlsx\"\n",
    "df = pd.read_excel(path_table, index_col=0)\n",
    "df.head()"
   ]
  },
  {
   "cell_type": "code",
   "execution_count": null,
   "id": "0dfb1101",
   "metadata": {},
   "outputs": [],
   "source": [
    "list(df.columns)"
   ]
  },
  {
   "cell_type": "code",
   "execution_count": null,
   "id": "7599b7fe",
   "metadata": {},
   "outputs": [],
   "source": [
    "set(df.columns) - set(df_2.columns)"
   ]
  },
  {
   "cell_type": "markdown",
   "id": "a0ec89eb",
   "metadata": {},
   "source": [
    "### Mur"
   ]
  },
  {
   "cell_type": "code",
   "execution_count": null,
   "id": "8e5af320",
   "metadata": {},
   "outputs": [],
   "source": [
    "font_color = '#525252'\n",
    "hfont = {'fontname':'Calibri'}\n",
    "facecolor = '#eaeaf2'\n",
    "color_red = '#fd625e'\n",
    "color_blue = '#01b8aa'\n",
    "index = df.index\n",
    "column0 = df['EP_ISOLANT_M1']\n",
    "column1 = df['EP_ISOL_M1_renov_med']\n",
    "title0 = 'EP_ISOLANT_M1 (cm)'\n",
    "title1 = 'EP_ISOL_M1_renov_med (cm)'"
   ]
  },
  {
   "cell_type": "code",
   "execution_count": null,
   "id": "31c5dbaf",
   "metadata": {},
   "outputs": [],
   "source": [
    "df.sort_values([\"EP_ISOLANT_M1\", \"EP_ISOL_M1_dist_med\", \"archetype\"], inplace=True)"
   ]
  },
  {
   "cell_type": "code",
   "execution_count": null,
   "id": "1e864202",
   "metadata": {},
   "outputs": [],
   "source": [
    "df.sort_values([\"archetype\"], inplace=True)"
   ]
  },
  {
   "cell_type": "code",
   "execution_count": null,
   "id": "45b574b1",
   "metadata": {},
   "outputs": [],
   "source": [
    "df_hab = df[df[\"USAGE\"]==\"HABITAT\"]"
   ]
  },
  {
   "cell_type": "code",
   "execution_count": null,
   "id": "5eae767c",
   "metadata": {},
   "outputs": [],
   "source": [
    "ind = np.arange(len(df_hab))\n",
    "width = 0.25\n",
    "\n",
    "fig, ax = plt.subplots(figsize=(5,12))\n",
    "\n",
    "color_dan = '#fd625e'\n",
    "color_dist =  'royalblue' #'#01b8aa'#'blueviolet'\n",
    "color_renov = 'forestgreen'\n",
    "\n",
    "ax.barh(ind, df_hab.EP_ISOLANT_M1, width, color=color_dan, label='Danube')\n",
    "ax.barh(ind + width, df_hab.EP_ISOL_M1_dist_med, width, color=color_dist, label='Mediane - total')\n",
    "ax.barh(ind + 2* width, df_hab.EP_ISOL_M1_renov_med, width, color=color_renov, label='Mediane - renové')\n",
    "\n",
    "\n",
    "ax.set(yticks=ind + width, yticklabels=df_hab.archetype, ylim=[2*width - 1, len(df_hab)])\n",
    "ax.invert_yaxis() \n",
    "\n",
    "ax.set_title(\"Epaisseur isolant mur (cm)\", fontsize=15, pad=15, **hfont)\n",
    "# ax.set_xlim(-2,22)\n",
    "plt.grid(axis = 'x', alpha=0.5)\n",
    "ax.legend()\n",
    "\n",
    "plt.show()"
   ]
  },
  {
   "cell_type": "code",
   "execution_count": null,
   "id": "39bbb140",
   "metadata": {},
   "outputs": [],
   "source": [
    "list(df.columns)"
   ]
  },
  {
   "cell_type": "code",
   "execution_count": null,
   "id": "83d5ab21",
   "metadata": {},
   "outputs": [],
   "source": [
    "ind = np.arange(len(df_hab))\n",
    "width = 0.25\n",
    "\n",
    "fig, ax = plt.subplots(figsize=(5,12))\n",
    "\n",
    "color_dan = '#fd625e'\n",
    "color_dist =  'royalblue' #'#01b8aa'#'blueviolet'\n",
    "color_renov = 'forestgreen'\n",
    "\n",
    "ax.barh(ind, df_hab.Uw_min, width, color=color_dan, label='Uw_min')\n",
    "ax.barh(ind + width, df_hab.dist_wall_Q2, width, color=color_dist, label='Mediane - total - dist_wall_Q2')\n",
    "ax.barh(ind + 2* width, df_hab.renov_wall_Q2, width, color=color_renov, label='Mediane - renové - renov_wall_Q2')\n",
    "\n",
    "\n",
    "ax.set(yticks=ind + width, yticklabels=df_hab.archetype, ylim=[2*width - 1, len(df_hab)])\n",
    "ax.invert_yaxis() \n",
    "\n",
    "ax.set_title(\"U valeur [W/(m².K)]\", fontsize=15, pad=15, **hfont)\n",
    "# ax.set_xlim(-2,22)\n",
    "plt.grid(axis = 'x', alpha=0.5)\n",
    "ax.legend()\n",
    "\n",
    "plt.show()"
   ]
  },
  {
   "cell_type": "code",
   "execution_count": null,
   "id": "f370c046",
   "metadata": {},
   "outputs": [],
   "source": [
    "X_coords = np.array([df_hab.Uw_min, df_hab.Uw_max])\n",
    "Y_coords = np.array([range(len(df_hab)), \n",
    "                    range(len(df_hab))])\n",
    "\n",
    "\n",
    "ind = np.arange(len(df_hab))\n",
    "width = 0.25\n",
    "\n",
    "fig, ax = plt.subplots(figsize=(5,12))\n",
    "# '#fd625e'\n",
    "color_dan = 'yellow'\n",
    "color_dist =  'rosybrown' #'#01b8aa'#'blueviolet'\n",
    "color_renov = 'forestgreen'\n",
    "color_non_rnv='lightgrey'\n",
    "\n",
    "# ax.barh(ind, df_hab.Uw_min, width, color=color_dan, label='Uw_min')\n",
    "ax.plot(X_coords, Y_coords, color=color_dan, alpha=0.2, linewidth=10)\n",
    "ax.barh(ind -width , df_hab.nonrnv_wall_Q2, width, color=color_non_rnv, label='Partie non rénovée (Q2)')\n",
    "ax.barh(ind , df_hab.dist_wall_Q2, width, color=color_dist, label='Toute la distribution (Q2)')\n",
    "ax.barh(ind + width, df_hab.renov_wall_Q2, width, color=color_renov, label='Partie rénovée (Q2)')\n",
    "\n",
    "\n",
    "ax.set(yticks=ind + width, yticklabels=df_hab.archetype, ylim=[2*width - 1, len(df_hab)])\n",
    "ax.invert_yaxis() \n",
    "\n",
    "ax.set_title(\"U valeur mur [W/(m².K)]\", fontsize=15, pad=15, **hfont)\n",
    "# ax.set_xlim(-2,22)\n",
    "plt.grid(axis = 'x', alpha=0.5)\n",
    "# plt.grid(alpha=0.5)\n",
    "\n",
    "def add_patch(legend):\n",
    "    from matplotlib.patches import Patch\n",
    "    ax = legend.axes\n",
    "\n",
    "    handles, labels = ax.get_legend_handles_labels()\n",
    "    handles.append(Patch(facecolor=color_dan, alpha=0.2))\n",
    "    labels.append(\"Plage Danube\")\n",
    "\n",
    "    legend._legend_box = None\n",
    "    legend._init_legend_box(handles, labels)\n",
    "    legend._set_loc(legend._loc)\n",
    "    legend.set_title(legend.get_title().get_text())\n",
    "\n",
    "lgd = ax.legend(loc='lower right')\n",
    "add_patch(lgd)\n",
    "\n",
    "plt.show()"
   ]
  },
  {
   "cell_type": "code",
   "execution_count": null,
   "id": "d4680b94",
   "metadata": {},
   "outputs": [],
   "source": [
    "len(df)"
   ]
  },
  {
   "cell_type": "code",
   "execution_count": null,
   "id": "264e2474",
   "metadata": {},
   "outputs": [],
   "source": []
  },
  {
   "cell_type": "markdown",
   "id": "aac92046",
   "metadata": {},
   "source": [
    "### Toit"
   ]
  },
  {
   "cell_type": "code",
   "execution_count": null,
   "id": "73e1025e",
   "metadata": {},
   "outputs": [],
   "source": [
    "list(df.columns)"
   ]
  },
  {
   "cell_type": "code",
   "execution_count": null,
   "id": "62d22139",
   "metadata": {},
   "outputs": [],
   "source": [
    "X_coords = np.array([df_hab.Uph_min, df_hab.Uph_max])\n",
    "Y_coords = np.array([range(len(df_hab)), \n",
    "                    range(len(df_hab))])\n",
    "\n",
    "\n",
    "ind = np.arange(len(df_hab))\n",
    "width = 0.25\n",
    "\n",
    "fig, ax = plt.subplots(figsize=(5,12))\n",
    "# '#fd625e'\n",
    "color_dan = 'blue'\n",
    "color_dist =  'rosybrown' #'#01b8aa'#'blueviolet'\n",
    "color_renov = 'forestgreen'\n",
    "color_non_rnv='lightgrey'\n",
    "\n",
    "# ax.barh(ind, df_hab.Uw_min, width, color=color_dan, label='Uw_min')\n",
    "ax.plot(X_coords, Y_coords, color=color_dan, alpha=0.2, linewidth=10)\n",
    "ax.barh(ind -width , df_hab.nonrnv_roof_Q2, width, color=color_non_rnv, label='Partie non rénovée (Q2)')\n",
    "ax.barh(ind , df_hab.dist_roof_Q2, width, color=color_dist, label='Toute la distribution (Q2)')\n",
    "ax.barh(ind + width, df_hab.renov_roof_Q2, width, color=color_renov, label='Partie rénovée (Q2)')\n",
    "\n",
    "\n",
    "ax.set(yticks=ind + width, yticklabels=df_hab.archetype, ylim=[2*width - 1, len(df_hab)])\n",
    "ax.invert_yaxis() \n",
    "\n",
    "ax.set_title(\"U valeur toit [W/(m².K)]\", fontsize=15, pad=15, **hfont)\n",
    "# ax.set_xlim(-2,22)\n",
    "plt.grid(axis = 'x', alpha=0.5)\n",
    "# plt.grid(alpha=0.5)\n",
    "\n",
    "def add_patch(legend):\n",
    "    from matplotlib.patches import Patch\n",
    "    ax = legend.axes\n",
    "\n",
    "    handles, labels = ax.get_legend_handles_labels()\n",
    "    handles.append(Patch(facecolor=color_dan, alpha=0.2))\n",
    "    labels.append(\"Plage Danube\")\n",
    "\n",
    "    legend._legend_box = None\n",
    "    legend._init_legend_box(handles, labels)\n",
    "    legend._set_loc(legend._loc)\n",
    "    legend.set_title(legend.get_title().get_text())\n",
    "\n",
    "lgd = ax.legend(loc='lower right')\n",
    "add_patch(lgd)\n",
    "\n",
    "plt.show()"
   ]
  },
  {
   "cell_type": "code",
   "execution_count": null,
   "id": "4ffc45d8",
   "metadata": {},
   "outputs": [],
   "source": []
  },
  {
   "cell_type": "markdown",
   "id": "3826eb74",
   "metadata": {},
   "source": [
    "### Chech specific cases "
   ]
  },
  {
   "cell_type": "code",
   "execution_count": null,
   "id": "d3fa8589",
   "metadata": {},
   "outputs": [],
   "source": [
    "df_check = df[df.archetype == \"P1-I-HABITAT-FRANCE_PIERRE_SCHISTE_TUILE\"]"
   ]
  },
  {
   "cell_type": "code",
   "execution_count": null,
   "id": "d944f424",
   "metadata": {},
   "outputs": [],
   "source": [
    "df_check.to_dict()"
   ]
  },
  {
   "cell_type": "code",
   "execution_count": null,
   "id": "565b8f09",
   "metadata": {},
   "outputs": [],
   "source": []
  },
  {
   "cell_type": "code",
   "execution_count": null,
   "id": "c08a316e",
   "metadata": {},
   "outputs": [],
   "source": []
  },
  {
   "cell_type": "code",
   "execution_count": null,
   "id": "f4c20f2b",
   "metadata": {},
   "outputs": [],
   "source": [
    "df_check = df[df.archetype == \"P6-I-HABITAT-FRANCE_TUILE\"]"
   ]
  },
  {
   "cell_type": "code",
   "execution_count": null,
   "id": "4eec4bee",
   "metadata": {},
   "outputs": [],
   "source": [
    "df_check.to_dict()"
   ]
  },
  {
   "cell_type": "code",
   "execution_count": null,
   "id": "77eaeb88",
   "metadata": {},
   "outputs": [],
   "source": [
    "  'Uw_min': {49: 0.3515151515151515}, => {45: 0.35}\n",
    " 'Uw_max': {49: 0.47},=>{45: 0.47},\n",
    "    \n",
    "    'EP_ISOLANT_M1': {49: 10},=> 'EP_ISOLANT_M1': {45: 10},\n",
    "        'dist_wall_Q2': {49: 0.36},=> 'dist_wall_Q2': {45: 0.36},\n",
    "    'EP_ISOL_M1_dist_med': {49: 10},=> 'EP_ISOL_M1_dist_med': {45: 10},\n",
    "        \n",
    " 'renov_wall_Q2': {49: 0.35},=> 'renov_wall_Q2': {45: 0.32},\n",
    "'EP_ISOL_M1_renov_med': {49: 10},=> 'EP_ISOL_M1_renov_med': {45: 11},"
   ]
  },
  {
   "cell_type": "code",
   "execution_count": null,
   "id": "506ec638",
   "metadata": {},
   "outputs": [],
   "source": []
  },
  {
   "cell_type": "code",
   "execution_count": null,
   "id": "138b8520",
   "metadata": {},
   "outputs": [],
   "source": [
    "1/(1/2.9+0.1/0.04)"
   ]
  },
  {
   "cell_type": "markdown",
   "id": "a66302b1",
   "metadata": {},
   "source": [
    "arrondir les plages au 2 cases decimales, pour les eteindre"
   ]
  },
  {
   "cell_type": "code",
   "execution_count": null,
   "id": "2be03446",
   "metadata": {},
   "outputs": [],
   "source": []
  },
  {
   "cell_type": "code",
   "execution_count": null,
   "id": "93667e88",
   "metadata": {},
   "outputs": [],
   "source": []
  },
  {
   "cell_type": "code",
   "execution_count": null,
   "id": "4b1cb202",
   "metadata": {},
   "outputs": [],
   "source": [
    "pierre = df[df['archetype'].str.contains('PIERRE')][[\"archetype\", \"EP_PORTEUR_M1\", \"fichier\"]]"
   ]
  },
  {
   "cell_type": "code",
   "execution_count": null,
   "id": "e8f91416",
   "metadata": {},
   "outputs": [],
   "source": [
    "pierre.sort_values(\"EP_PORTEUR_M1\")"
   ]
  },
  {
   "cell_type": "code",
   "execution_count": null,
   "id": "ffa49e14",
   "metadata": {},
   "outputs": [],
   "source": [
    "pier_group = pierre.groupby(\"EP_PORTEUR_M1\")"
   ]
  },
  {
   "cell_type": "code",
   "execution_count": null,
   "id": "ba0ad34a",
   "metadata": {},
   "outputs": [],
   "source": [
    "pier_group.count()"
   ]
  },
  {
   "cell_type": "code",
   "execution_count": null,
   "id": "d2c9d60a",
   "metadata": {},
   "outputs": [],
   "source": [
    "pier_group.archetype"
   ]
  },
  {
   "cell_type": "code",
   "execution_count": null,
   "id": "4e7b76de",
   "metadata": {},
   "outputs": [],
   "source": [
    "print(pier_group.archetype.apply(list).reset_index())"
   ]
  },
  {
   "cell_type": "code",
   "execution_count": null,
   "id": "13b158f5",
   "metadata": {},
   "outputs": [],
   "source": [
    "pier_group.archetype.apply(list)[35]"
   ]
  },
  {
   "cell_type": "code",
   "execution_count": null,
   "id": "dd9614b4",
   "metadata": {},
   "outputs": [],
   "source": [
    "pier_group.archetype.apply(list)[40]"
   ]
  },
  {
   "cell_type": "code",
   "execution_count": null,
   "id": "63988dbf",
   "metadata": {},
   "outputs": [],
   "source": [
    "pier_group.archetype.apply(list)[60]"
   ]
  },
  {
   "cell_type": "code",
   "execution_count": null,
   "id": "195fae09",
   "metadata": {},
   "outputs": [],
   "source": [
    "pier_group.archetype.apply(list)[70]"
   ]
  },
  {
   "cell_type": "code",
   "execution_count": null,
   "id": "d0158e47",
   "metadata": {},
   "outputs": [],
   "source": [
    "pier_group.archetype.apply(list)[80]"
   ]
  },
  {
   "cell_type": "code",
   "execution_count": null,
   "id": "439cb969",
   "metadata": {},
   "outputs": [],
   "source": []
  },
  {
   "cell_type": "code",
   "execution_count": null,
   "id": "0dfcf5fa",
   "metadata": {},
   "outputs": [],
   "source": []
  },
  {
   "cell_type": "code",
   "execution_count": null,
   "id": "81af40ed",
   "metadata": {},
   "outputs": [],
   "source": []
  },
  {
   "cell_type": "code",
   "execution_count": null,
   "id": "1ba05746",
   "metadata": {},
   "outputs": [],
   "source": []
  },
  {
   "cell_type": "code",
   "execution_count": null,
   "id": "d861b8b2",
   "metadata": {},
   "outputs": [],
   "source": []
  }
 ],
 "metadata": {
  "kernelspec": {
   "display_name": "Python 3 (ipykernel)",
   "language": "python",
   "name": "python3"
  },
  "language_info": {
   "codemirror_mode": {
    "name": "ipython",
    "version": 3
   },
   "file_extension": ".py",
   "mimetype": "text/x-python",
   "name": "python",
   "nbconvert_exporter": "python",
   "pygments_lexer": "ipython3",
   "version": "3.9.7"
  },
  "toc": {
   "base_numbering": 1,
   "nav_menu": {},
   "number_sections": true,
   "sideBar": true,
   "skip_h1_title": false,
   "title_cell": "Table of Contents",
   "title_sidebar": "Contents",
   "toc_cell": false,
   "toc_position": {},
   "toc_section_display": true,
   "toc_window_display": false
  }
 },
 "nbformat": 4,
 "nbformat_minor": 5
}
