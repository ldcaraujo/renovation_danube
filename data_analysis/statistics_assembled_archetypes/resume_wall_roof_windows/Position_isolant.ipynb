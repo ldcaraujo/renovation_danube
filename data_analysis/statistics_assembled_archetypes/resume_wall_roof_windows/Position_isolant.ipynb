{
 "cells": [
  {
   "cell_type": "code",
   "execution_count": 14,
   "id": "b7e4bc85",
   "metadata": {},
   "outputs": [],
   "source": [
    "from pathlib import Path\n",
    "from os import listdir\n",
    "import numpy as np\n",
    "import pandas as pd\n",
    "import matplotlib.pyplot as plt"
   ]
  },
  {
   "cell_type": "markdown",
   "id": "34da48c3",
   "metadata": {},
   "source": [
    "### Files to analyse "
   ]
  },
  {
   "cell_type": "code",
   "execution_count": 15,
   "id": "92b41c2b",
   "metadata": {},
   "outputs": [],
   "source": [
    "source_folder = Path(r\"E:\\Post-doc_LMDC_Paendora2\\final_work\\correct_analysis\\with_complete_dpe_data_by_roof\")"
   ]
  },
  {
   "cell_type": "code",
   "execution_count": 16,
   "id": "a3e03169",
   "metadata": {},
   "outputs": [
    {
     "data": {
      "text/html": [
       "<div>\n",
       "<style scoped>\n",
       "    .dataframe tbody tr th:only-of-type {\n",
       "        vertical-align: middle;\n",
       "    }\n",
       "\n",
       "    .dataframe tbody tr th {\n",
       "        vertical-align: top;\n",
       "    }\n",
       "\n",
       "    .dataframe thead th {\n",
       "        text-align: right;\n",
       "    }\n",
       "</style>\n",
       "<table border=\"1\" class=\"dataframe\">\n",
       "  <thead>\n",
       "    <tr style=\"text-align: right;\">\n",
       "      <th></th>\n",
       "      <th>USAGE</th>\n",
       "      <th>NOM_TYPOLOGIE</th>\n",
       "      <th>PERIODE</th>\n",
       "      <th>TERRITOIRE</th>\n",
       "      <th>DISPOSITIF_M1</th>\n",
       "      <th>PORTEUR_M1</th>\n",
       "      <th>EP_PORTEUR_M1</th>\n",
       "      <th>ISOLANT_M1</th>\n",
       "      <th>EP_ISOLANT_M1</th>\n",
       "      <th>REVETEMENT_INT_M1</th>\n",
       "      <th>...</th>\n",
       "      <th>Uph_0_moy</th>\n",
       "      <th>Uph_min</th>\n",
       "      <th>Uph_max</th>\n",
       "      <th>Uw_0</th>\n",
       "      <th>Uw_min</th>\n",
       "      <th>Uw_max</th>\n",
       "      <th>archetype</th>\n",
       "      <th>one_one</th>\n",
       "      <th>two_one</th>\n",
       "      <th>fichier</th>\n",
       "    </tr>\n",
       "  </thead>\n",
       "  <tbody>\n",
       "    <tr>\n",
       "      <th>0</th>\n",
       "      <td>BATIMENT AGRICOLE</td>\n",
       "      <td>BA</td>\n",
       "      <td>P1</td>\n",
       "      <td>FRANCE</td>\n",
       "      <td>PAV_M_P1_TBr_br</td>\n",
       "      <td>BRIQUE PLEINE</td>\n",
       "      <td>60</td>\n",
       "      <td>NON</td>\n",
       "      <td>0</td>\n",
       "      <td>ENDUIT</td>\n",
       "      <td>...</td>\n",
       "      <td>1.7375</td>\n",
       "      <td>1.2</td>\n",
       "      <td>2.5</td>\n",
       "      <td>1.35</td>\n",
       "      <td>1.35</td>\n",
       "      <td>2.5</td>\n",
       "      <td>P1-BA-BATIMENT AGRICOLE-FRANCE</td>\n",
       "      <td>NaN</td>\n",
       "      <td>NaN</td>\n",
       "      <td>NaN</td>\n",
       "    </tr>\n",
       "    <tr>\n",
       "      <th>1</th>\n",
       "      <td>BATIMENT AGRICOLE</td>\n",
       "      <td>BA</td>\n",
       "      <td>P1</td>\n",
       "      <td>FRANCE_BOIS_ARDOISE</td>\n",
       "      <td>PAV_M_P1_TBo-bo</td>\n",
       "      <td>BOIS</td>\n",
       "      <td>50</td>\n",
       "      <td>IR</td>\n",
       "      <td>0</td>\n",
       "      <td>NON</td>\n",
       "      <td>...</td>\n",
       "      <td>1.7375</td>\n",
       "      <td>1.2</td>\n",
       "      <td>2.5</td>\n",
       "      <td>0.80</td>\n",
       "      <td>0.80</td>\n",
       "      <td>2.5</td>\n",
       "      <td>P1-BA-BATIMENT AGRICOLE-FRANCE_BOIS_ARDOISE</td>\n",
       "      <td>NaN</td>\n",
       "      <td>NaN</td>\n",
       "      <td>NaN</td>\n",
       "    </tr>\n",
       "    <tr>\n",
       "      <th>2</th>\n",
       "      <td>BATIMENT AGRICOLE</td>\n",
       "      <td>BA</td>\n",
       "      <td>P1</td>\n",
       "      <td>FRANCE_BOIS_TUILE</td>\n",
       "      <td>PAV_M_P1_TBo-bo</td>\n",
       "      <td>BOIS</td>\n",
       "      <td>50</td>\n",
       "      <td>IR</td>\n",
       "      <td>0</td>\n",
       "      <td>NON</td>\n",
       "      <td>...</td>\n",
       "      <td>1.7375</td>\n",
       "      <td>1.2</td>\n",
       "      <td>2.5</td>\n",
       "      <td>0.80</td>\n",
       "      <td>0.80</td>\n",
       "      <td>2.5</td>\n",
       "      <td>P1-BA-BATIMENT AGRICOLE-FRANCE_BOIS_TUILE</td>\n",
       "      <td>NaN</td>\n",
       "      <td>NaN</td>\n",
       "      <td>NaN</td>\n",
       "    </tr>\n",
       "    <tr>\n",
       "      <th>3</th>\n",
       "      <td>BATIMENT AGRICOLE</td>\n",
       "      <td>BA</td>\n",
       "      <td>P1</td>\n",
       "      <td>FRANCE_BRIQUE_TUILE</td>\n",
       "      <td>PAV_M_P1_TBr_br</td>\n",
       "      <td>BRIQUE PLEINE</td>\n",
       "      <td>60</td>\n",
       "      <td>NON</td>\n",
       "      <td>0</td>\n",
       "      <td>ENDUIT</td>\n",
       "      <td>...</td>\n",
       "      <td>1.7375</td>\n",
       "      <td>1.2</td>\n",
       "      <td>2.5</td>\n",
       "      <td>1.35</td>\n",
       "      <td>1.35</td>\n",
       "      <td>2.5</td>\n",
       "      <td>P1-BA-BATIMENT AGRICOLE-FRANCE_BRIQUE_TUILE</td>\n",
       "      <td>NaN</td>\n",
       "      <td>NaN</td>\n",
       "      <td>NaN</td>\n",
       "    </tr>\n",
       "    <tr>\n",
       "      <th>4</th>\n",
       "      <td>BATIMENT AGRICOLE</td>\n",
       "      <td>BA</td>\n",
       "      <td>P1</td>\n",
       "      <td>FRANCE_PIERRE_CALCAIRE_ARDOISE</td>\n",
       "      <td>PAV_M_P1_TPi_Cal</td>\n",
       "      <td>CALCAIRE</td>\n",
       "      <td>80</td>\n",
       "      <td>NON</td>\n",
       "      <td>0</td>\n",
       "      <td>NON</td>\n",
       "      <td>...</td>\n",
       "      <td>1.7375</td>\n",
       "      <td>1.2</td>\n",
       "      <td>2.5</td>\n",
       "      <td>1.50</td>\n",
       "      <td>1.50</td>\n",
       "      <td>2.5</td>\n",
       "      <td>P1-BA-BATIMENT AGRICOLE-FRANCE_PIERRE_CALCAIRE...</td>\n",
       "      <td>NaN</td>\n",
       "      <td>NaN</td>\n",
       "      <td>NaN</td>\n",
       "    </tr>\n",
       "  </tbody>\n",
       "</table>\n",
       "<p>5 rows × 78 columns</p>\n",
       "</div>"
      ],
      "text/plain": [
       "               USAGE NOM_TYPOLOGIE PERIODE                      TERRITOIRE  \\\n",
       "0  BATIMENT AGRICOLE            BA      P1                          FRANCE   \n",
       "1  BATIMENT AGRICOLE            BA      P1             FRANCE_BOIS_ARDOISE   \n",
       "2  BATIMENT AGRICOLE            BA      P1               FRANCE_BOIS_TUILE   \n",
       "3  BATIMENT AGRICOLE            BA      P1             FRANCE_BRIQUE_TUILE   \n",
       "4  BATIMENT AGRICOLE            BA      P1  FRANCE_PIERRE_CALCAIRE_ARDOISE   \n",
       "\n",
       "      DISPOSITIF_M1     PORTEUR_M1  EP_PORTEUR_M1 ISOLANT_M1  EP_ISOLANT_M1  \\\n",
       "0   PAV_M_P1_TBr_br  BRIQUE PLEINE             60        NON              0   \n",
       "1   PAV_M_P1_TBo-bo           BOIS             50         IR              0   \n",
       "2   PAV_M_P1_TBo-bo           BOIS             50         IR              0   \n",
       "3   PAV_M_P1_TBr_br  BRIQUE PLEINE             60        NON              0   \n",
       "4  PAV_M_P1_TPi_Cal       CALCAIRE             80        NON              0   \n",
       "\n",
       "  REVETEMENT_INT_M1  ...  Uph_0_moy Uph_min  Uph_max  Uw_0 Uw_min  Uw_max  \\\n",
       "0            ENDUIT  ...     1.7375     1.2      2.5  1.35   1.35     2.5   \n",
       "1               NON  ...     1.7375     1.2      2.5  0.80   0.80     2.5   \n",
       "2               NON  ...     1.7375     1.2      2.5  0.80   0.80     2.5   \n",
       "3            ENDUIT  ...     1.7375     1.2      2.5  1.35   1.35     2.5   \n",
       "4               NON  ...     1.7375     1.2      2.5  1.50   1.50     2.5   \n",
       "\n",
       "                                           archetype  one_one two_one  fichier  \n",
       "0                     P1-BA-BATIMENT AGRICOLE-FRANCE      NaN     NaN      NaN  \n",
       "1        P1-BA-BATIMENT AGRICOLE-FRANCE_BOIS_ARDOISE      NaN     NaN      NaN  \n",
       "2          P1-BA-BATIMENT AGRICOLE-FRANCE_BOIS_TUILE      NaN     NaN      NaN  \n",
       "3        P1-BA-BATIMENT AGRICOLE-FRANCE_BRIQUE_TUILE      NaN     NaN      NaN  \n",
       "4  P1-BA-BATIMENT AGRICOLE-FRANCE_PIERRE_CALCAIRE...      NaN     NaN      NaN  \n",
       "\n",
       "[5 rows x 78 columns]"
      ]
     },
     "execution_count": 16,
     "metadata": {},
     "output_type": "execute_result"
    }
   ],
   "source": [
    "dan_bound_path = r\"E:\\Post-doc_LMDC_Paendora2\\final_work\\correct_analysis\\Danube_with_U_bound_association_by_roof.xlsx\"\n",
    "dan = pd.read_excel(dan_bound_path, index_col=0)\n",
    "dan.head()"
   ]
  },
  {
   "cell_type": "code",
   "execution_count": 17,
   "id": "dc6f2141",
   "metadata": {},
   "outputs": [
    {
     "name": "stdout",
     "output_type": "stream",
     "text": [
      "34\n"
     ]
    },
    {
     "data": {
      "text/plain": [
       "['dpe_all3-len_916-P1-I-COMMERCE-FRANCE-nati.csv',\n",
       " 'dpe_all3-len_1010-P1-I-HABITAT-FRANCE_BOIS_TUILE-uniq.csv',\n",
       " 'dpe_all3-len_9405-P1-I-HABITAT-FRANCE_BRIQUE-toit.csv']"
      ]
     },
     "execution_count": 17,
     "metadata": {},
     "output_type": "execute_result"
    }
   ],
   "source": [
    "files_anlz = list(dan[dan['fichier'].notnull()].fichier.unique())\n",
    "print(len(files_anlz))\n",
    "files_anlz[:3]"
   ]
  },
  {
   "cell_type": "markdown",
   "id": "86f45f1c",
   "metadata": {},
   "source": [
    "#### order by period\n"
   ]
  },
  {
   "cell_type": "code",
   "execution_count": 18,
   "id": "0c916900",
   "metadata": {},
   "outputs": [
    {
     "name": "stdout",
     "output_type": "stream",
     "text": [
      "['dpe_all3-len_916-P1-I-COMMERCE-FRANCE-nati.csv', 'dpe_all3-len_1010-P1-I-HABITAT-FRANCE_BOIS_TUILE-uniq.csv', 'dpe_all3-len_9405-P1-I-HABITAT-FRANCE_BRIQUE-toit.csv', 'dpe_all3-len_13788-P1-I-HABITAT-FRANCE_PIERRE_CALCAIRE-toit.csv', 'dpe_all3-len_621-P1-I-HABITAT-FRANCE_PIERRE_GNEISS_TUILE-uniq.csv', 'dpe_all3-len_1961-P1-I-HABITAT-FRANCE_PIERRE_GRANITE-toit.csv', 'dpe_all3-len_5661-P1-I-HABITAT-FRANCE_PIERRE_GRES-toit.csv', 'dpe_all3-len_1594-P1-I-HABITAT-FRANCE_PIERRE_MEULIERE_TUILE-uniq.csv', 'dpe_all3-len_617-P1-I-HABITAT-FRANCE_PIERRE_SCHISTE_TUILE-uniq.csv', 'dpe_all3-len_1074-P1-I-HABITAT-FRANCE_TERRE_TUILE-uniq.csv', 'dpe_all3-len_2141-P1-P-HABITAT-FRANCE_BOIS_TUILE-uniq.csv', 'dpe_all3-len_34181-P1-P-HABITAT-FRANCE_BRIQUE-toit.csv', 'dpe_all3-len_27244-P1-P-HABITAT-FRANCE_PIERRE_CALCAIRE-toit.csv', 'dpe_all3-len_1637-P1-P-HABITAT-FRANCE_PIERRE_GNEISS_TUILE-uniq.csv', 'dpe_all3-len_5265-P1-P-HABITAT-FRANCE_PIERRE_GRANITE-toit.csv', 'dpe_all3-len_13447-P1-P-HABITAT-FRANCE_PIERRE_GRES-toit.csv', 'dpe_all3-len_2943-P1-P-HABITAT-FRANCE_PIERRE_MEULIERE_TUILE-uniq.csv', 'dpe_all3-len_1439-P1-P-HABITAT-FRANCE_PIERRE_SCHISTE_TUILE-uniq.csv', 'dpe_all3-len_2343-P1-P-HABITAT-FRANCE_TERRE_TUILE-uniq.csv', 'dpe_all3-len_634-P2-I-COMMERCE-FRANCE-nati.csv', 'dpe_all3-len_49532-P2-I-HABITAT-FRANCE-toit.csv', 'dpe_all3-len_320-P2-I-TERTIAIRE-FRANCE-nati.csv', 'dpe_all3-len_349662-P2-P-HABITAT-FRANCE-toit.csv', 'dpe_all3-len_13728-P3-I-HABITAT-FRANCE-toit.csv', 'dpe_all3-len_185528-P3-P-HABITAT-FRANCE-toit.csv', 'dpe_all3-len_11838-P4-I-HABITAT-FRANCE-toit.csv', 'dpe_all3-len_144873-P4-P-HABITAT-FRANCE-toit.csv', 'dpe_all3-len_23434-P5-I-HABITAT-FRANCE-toit.csv', 'dpe_all3-len_141836-P5-P-HABITAT-FRANCE-toit.csv', 'dpe_all3-len_31734-P6-I-HABITAT-FRANCE-toit.csv', 'dpe_all3-len_364-P6-I-TERTIAIRE-FRANCE-nati.csv', 'dpe_all3-len_214978-P6-P-HABITAT-FRANCE-toit.csv', 'dpe_all3-len_9137-P7-I-HABITAT-FRANCE-toit.csv', 'dpe_all3-len_48162-P7-P-HABITAT-FRANCE-toit.csv']\n"
     ]
    }
   ],
   "source": [
    "import re\n",
    "\n",
    "def get_per(value):\n",
    "    match = re.search(r'(?<=-P)\\w+', value)\n",
    "    return int(match.group(0))\n",
    "\n",
    "files_anlzs_sorted = sorted(files_anlz, key=get_per)\n",
    "\n",
    "print(files_anlzs_sorted)"
   ]
  },
  {
   "cell_type": "markdown",
   "id": "c019b1e5",
   "metadata": {},
   "source": [
    "### Position isolant"
   ]
  },
  {
   "cell_type": "code",
   "execution_count": 19,
   "id": "1ee066d0",
   "metadata": {},
   "outputs": [],
   "source": [
    "def position_isolant_mur(dpe, root_name):\n",
    "    \n",
    "    u_median = dpe[['adedpe202006_logtype_mur_pos_isol_ext',\n",
    "                'adedpe202006_logtype_mur_u_ext']].groupby(['adedpe202006_logtype_mur_pos_isol_ext']).median()\n",
    "    pourcentage_type = (dpe[\"adedpe202006_logtype_mur_pos_isol_ext\"].value_counts() *100 /\n",
    "                                dpe.adedpe202006_logtype_mur_pos_isol_ext.notnull().sum())\n",
    "\n",
    "    pos_is = pd.concat([pourcentage_type, u_median],axis=1).sort_values(\"adedpe202006_logtype_mur_pos_isol_ext\", ascending=False)\n",
    "    pos_is = pos_is.T.round(2)\n",
    "    # add multiindex\n",
    "    index_test = [np.array([f'{root_name}', f'{root_name}']),\n",
    "                 np.array(['Pourcentage (%)', 'U median (W/m²/K)', ])]\n",
    "    pos_is.index = index_test\n",
    "    \n",
    "    return pos_is"
   ]
  },
  {
   "cell_type": "code",
   "execution_count": 20,
   "id": "34992c24",
   "metadata": {},
   "outputs": [],
   "source": [
    "def position_isolant_toit(dpe, root_name):\n",
    "    u_median = dpe[['adedpe202006_logtype_ph_pos_isol',\n",
    "                'adedpe202006_logtype_ph_u']].groupby(['adedpe202006_logtype_ph_pos_isol']).median()\n",
    "    pourcentage_type = (dpe[\"adedpe202006_logtype_ph_pos_isol\"].value_counts() *100 /\n",
    "                                dpe.adedpe202006_logtype_ph_pos_isol.notnull().sum())\n",
    "\n",
    "    pos_is = pd.concat([pourcentage_type, u_median],axis=1).sort_values(\"adedpe202006_logtype_ph_pos_isol\", ascending=False)\n",
    "    pos_is = pos_is.T.round(2)\n",
    "    # add multiindex\n",
    "    index_test = [np.array([f'{root_name}', f'{root_name}']),\n",
    "                 np.array(['Pourcentage (%)', 'U median (W/m²/K)', ])]\n",
    "    pos_is.index = index_test\n",
    "    \n",
    "    return pos_is"
   ]
  },
  {
   "cell_type": "markdown",
   "id": "ec1968c5",
   "metadata": {},
   "source": [
    "#### Run function to all"
   ]
  },
  {
   "cell_type": "code",
   "execution_count": 21,
   "id": "a0fba2cc",
   "metadata": {},
   "outputs": [
    {
     "name": "stdout",
     "output_type": "stream",
     "text": [
      "\n",
      " P1-I-COMMERCE-FRANCE\n",
      "dpe_all3-len_916-P1-I-COMMERCE-FRANCE-nati.csv\n",
      "\n",
      " P1-I-HABITAT-FRANCE_BOIS_TUILE\n",
      "dpe_all3-len_1010-P1-I-HABITAT-FRANCE_BOIS_TUILE-uniq.csv\n",
      "\n",
      " P1-I-HABITAT-FRANCE_BRIQUE\n",
      "dpe_all3-len_9405-P1-I-HABITAT-FRANCE_BRIQUE-toit.csv\n"
     ]
    },
    {
     "name": "stderr",
     "output_type": "stream",
     "text": [
      "C:\\Users\\ldecarva\\Anaconda3\\lib\\site-packages\\IPython\\core\\interactiveshell.py:3444: DtypeWarning: Columns (155,172,299,301) have mixed types.Specify dtype option on import or set low_memory=False.\n",
      "  exec(code_obj, self.user_global_ns, self.user_ns)\n"
     ]
    },
    {
     "name": "stdout",
     "output_type": "stream",
     "text": [
      "\n",
      " P1-I-HABITAT-FRANCE_PIERRE_CALCAIRE\n",
      "dpe_all3-len_13788-P1-I-HABITAT-FRANCE_PIERRE_CALCAIRE-toit.csv\n"
     ]
    },
    {
     "name": "stderr",
     "output_type": "stream",
     "text": [
      "C:\\Users\\ldecarva\\Anaconda3\\lib\\site-packages\\IPython\\core\\interactiveshell.py:3444: DtypeWarning: Columns (172) have mixed types.Specify dtype option on import or set low_memory=False.\n",
      "  exec(code_obj, self.user_global_ns, self.user_ns)\n"
     ]
    },
    {
     "name": "stdout",
     "output_type": "stream",
     "text": [
      "\n",
      " P1-I-HABITAT-FRANCE_PIERRE_GNEISS_TUILE\n",
      "dpe_all3-len_621-P1-I-HABITAT-FRANCE_PIERRE_GNEISS_TUILE-uniq.csv\n",
      "\n",
      " P1-I-HABITAT-FRANCE_PIERRE_GRANITE\n",
      "dpe_all3-len_1961-P1-I-HABITAT-FRANCE_PIERRE_GRANITE-toit.csv\n",
      "\n",
      " P1-I-HABITAT-FRANCE_PIERRE_GRES\n",
      "dpe_all3-len_5661-P1-I-HABITAT-FRANCE_PIERRE_GRES-toit.csv\n"
     ]
    },
    {
     "name": "stderr",
     "output_type": "stream",
     "text": [
      "C:\\Users\\ldecarva\\Anaconda3\\lib\\site-packages\\IPython\\core\\interactiveshell.py:3444: DtypeWarning: Columns (172,299,300,301) have mixed types.Specify dtype option on import or set low_memory=False.\n",
      "  exec(code_obj, self.user_global_ns, self.user_ns)\n"
     ]
    },
    {
     "name": "stdout",
     "output_type": "stream",
     "text": [
      "\n",
      " P1-I-HABITAT-FRANCE_PIERRE_MEULIERE_TUILE\n",
      "dpe_all3-len_1594-P1-I-HABITAT-FRANCE_PIERRE_MEULIERE_TUILE-uniq.csv\n",
      "\n",
      " P1-I-HABITAT-FRANCE_PIERRE_SCHISTE_TUILE\n",
      "dpe_all3-len_617-P1-I-HABITAT-FRANCE_PIERRE_SCHISTE_TUILE-uniq.csv\n",
      "\n",
      " P1-I-HABITAT-FRANCE_TERRE_TUILE\n",
      "dpe_all3-len_1074-P1-I-HABITAT-FRANCE_TERRE_TUILE-uniq.csv\n",
      "\n",
      " P1-P-HABITAT-FRANCE_BOIS_TUILE\n",
      "dpe_all3-len_2141-P1-P-HABITAT-FRANCE_BOIS_TUILE-uniq.csv\n"
     ]
    },
    {
     "name": "stderr",
     "output_type": "stream",
     "text": [
      "C:\\Users\\ldecarva\\Anaconda3\\lib\\site-packages\\IPython\\core\\interactiveshell.py:3444: DtypeWarning: Columns (53,54,75,199,248,250,251,302,303,304) have mixed types.Specify dtype option on import or set low_memory=False.\n",
      "  exec(code_obj, self.user_global_ns, self.user_ns)\n"
     ]
    },
    {
     "name": "stdout",
     "output_type": "stream",
     "text": [
      "\n",
      " P1-P-HABITAT-FRANCE_BRIQUE\n",
      "dpe_all3-len_34181-P1-P-HABITAT-FRANCE_BRIQUE-toit.csv\n"
     ]
    },
    {
     "name": "stderr",
     "output_type": "stream",
     "text": [
      "C:\\Users\\ldecarva\\Anaconda3\\lib\\site-packages\\IPython\\core\\interactiveshell.py:3444: DtypeWarning: Columns (8,9,53,54,75,172,248,299,301,303) have mixed types.Specify dtype option on import or set low_memory=False.\n",
      "  exec(code_obj, self.user_global_ns, self.user_ns)\n"
     ]
    },
    {
     "name": "stdout",
     "output_type": "stream",
     "text": [
      "\n",
      " P1-P-HABITAT-FRANCE_PIERRE_CALCAIRE\n",
      "dpe_all3-len_27244-P1-P-HABITAT-FRANCE_PIERRE_CALCAIRE-toit.csv\n"
     ]
    },
    {
     "name": "stderr",
     "output_type": "stream",
     "text": [
      "C:\\Users\\ldecarva\\Anaconda3\\lib\\site-packages\\IPython\\core\\interactiveshell.py:3444: DtypeWarning: Columns (53,54,75,172,199,248,299,300,301) have mixed types.Specify dtype option on import or set low_memory=False.\n",
      "  exec(code_obj, self.user_global_ns, self.user_ns)\n"
     ]
    },
    {
     "name": "stdout",
     "output_type": "stream",
     "text": [
      "\n",
      " P1-P-HABITAT-FRANCE_PIERRE_GNEISS_TUILE\n",
      "dpe_all3-len_1637-P1-P-HABITAT-FRANCE_PIERRE_GNEISS_TUILE-uniq.csv\n",
      "\n",
      " P1-P-HABITAT-FRANCE_PIERRE_GRANITE\n",
      "dpe_all3-len_5265-P1-P-HABITAT-FRANCE_PIERRE_GRANITE-toit.csv\n"
     ]
    },
    {
     "name": "stderr",
     "output_type": "stream",
     "text": [
      "C:\\Users\\ldecarva\\Anaconda3\\lib\\site-packages\\IPython\\core\\interactiveshell.py:3444: DtypeWarning: Columns (127,128,130,172,303,304) have mixed types.Specify dtype option on import or set low_memory=False.\n",
      "  exec(code_obj, self.user_global_ns, self.user_ns)\n"
     ]
    },
    {
     "name": "stdout",
     "output_type": "stream",
     "text": [
      "\n",
      " P1-P-HABITAT-FRANCE_PIERRE_GRES\n",
      "dpe_all3-len_13447-P1-P-HABITAT-FRANCE_PIERRE_GRES-toit.csv\n"
     ]
    },
    {
     "name": "stderr",
     "output_type": "stream",
     "text": [
      "C:\\Users\\ldecarva\\Anaconda3\\lib\\site-packages\\IPython\\core\\interactiveshell.py:3444: DtypeWarning: Columns (53,54,75,248) have mixed types.Specify dtype option on import or set low_memory=False.\n",
      "  exec(code_obj, self.user_global_ns, self.user_ns)\n",
      "C:\\Users\\ldecarva\\Anaconda3\\lib\\site-packages\\IPython\\core\\interactiveshell.py:3444: DtypeWarning: Columns (50,51,52,53,54,55,56,57,205,222) have mixed types.Specify dtype option on import or set low_memory=False.\n",
      "  exec(code_obj, self.user_global_ns, self.user_ns)\n"
     ]
    },
    {
     "name": "stdout",
     "output_type": "stream",
     "text": [
      "\n",
      " P1-P-HABITAT-FRANCE_PIERRE_MEULIERE_TUILE\n",
      "dpe_all3-len_2943-P1-P-HABITAT-FRANCE_PIERRE_MEULIERE_TUILE-uniq.csv\n",
      "\n",
      " P1-P-HABITAT-FRANCE_PIERRE_SCHISTE_TUILE\n",
      "dpe_all3-len_1439-P1-P-HABITAT-FRANCE_PIERRE_SCHISTE_TUILE-uniq.csv\n",
      "\n",
      " P1-P-HABITAT-FRANCE_TERRE_TUILE\n",
      "dpe_all3-len_2343-P1-P-HABITAT-FRANCE_TERRE_TUILE-uniq.csv\n"
     ]
    },
    {
     "name": "stderr",
     "output_type": "stream",
     "text": [
      "C:\\Users\\ldecarva\\Anaconda3\\lib\\site-packages\\IPython\\core\\interactiveshell.py:3444: DtypeWarning: Columns (8,9,75,172,248,251,303) have mixed types.Specify dtype option on import or set low_memory=False.\n",
      "  exec(code_obj, self.user_global_ns, self.user_ns)\n"
     ]
    },
    {
     "name": "stdout",
     "output_type": "stream",
     "text": [
      "\n",
      " P2-I-COMMERCE-FRANCE\n",
      "dpe_all3-len_634-P2-I-COMMERCE-FRANCE-nati.csv\n",
      "\n",
      " P2-I-HABITAT-FRANCE\n",
      "dpe_all3-len_49532-P2-I-HABITAT-FRANCE-toit.csv\n"
     ]
    },
    {
     "name": "stderr",
     "output_type": "stream",
     "text": [
      "C:\\Users\\ldecarva\\Anaconda3\\lib\\site-packages\\IPython\\core\\interactiveshell.py:3444: DtypeWarning: Columns (8,9,50,51,52,53,54,55,56,57,115,127,128,130,155,172,198,205,222,295,299,300,301,307) have mixed types.Specify dtype option on import or set low_memory=False.\n",
      "  exec(code_obj, self.user_global_ns, self.user_ns)\n"
     ]
    },
    {
     "name": "stdout",
     "output_type": "stream",
     "text": [
      "\n",
      " P2-I-TERTIAIRE-FRANCE\n",
      "dpe_all3-len_320-P2-I-TERTIAIRE-FRANCE-nati.csv\n",
      "\n",
      " P2-P-HABITAT-FRANCE\n",
      "dpe_all3-len_349662-P2-P-HABITAT-FRANCE-toit.csv\n"
     ]
    },
    {
     "name": "stderr",
     "output_type": "stream",
     "text": [
      "C:\\Users\\ldecarva\\Anaconda3\\lib\\site-packages\\IPython\\core\\interactiveshell.py:3444: DtypeWarning: Columns (8,9,37,50,51,52,53,54,55,56,57,75,127,128,130,155,172,199,205,222,248,250,251,299,300,301,302,303,304) have mixed types.Specify dtype option on import or set low_memory=False.\n",
      "  exec(code_obj, self.user_global_ns, self.user_ns)\n"
     ]
    },
    {
     "name": "stdout",
     "output_type": "stream",
     "text": [
      "\n",
      " P3-I-HABITAT-FRANCE\n",
      "dpe_all3-len_13728-P3-I-HABITAT-FRANCE-toit.csv\n"
     ]
    },
    {
     "name": "stderr",
     "output_type": "stream",
     "text": [
      "C:\\Users\\ldecarva\\Anaconda3\\lib\\site-packages\\IPython\\core\\interactiveshell.py:3444: DtypeWarning: Columns (127,128,130,172,299,301) have mixed types.Specify dtype option on import or set low_memory=False.\n",
      "  exec(code_obj, self.user_global_ns, self.user_ns)\n"
     ]
    },
    {
     "name": "stdout",
     "output_type": "stream",
     "text": [
      "\n",
      " P3-P-HABITAT-FRANCE\n",
      "dpe_all3-len_185528-P3-P-HABITAT-FRANCE-toit.csv\n"
     ]
    },
    {
     "name": "stderr",
     "output_type": "stream",
     "text": [
      "C:\\Users\\ldecarva\\Anaconda3\\lib\\site-packages\\IPython\\core\\interactiveshell.py:3444: DtypeWarning: Columns (8,9,37,50,51,52,53,54,55,56,57,75,127,128,130,172,199,205,222,248,250,251,302,303,304) have mixed types.Specify dtype option on import or set low_memory=False.\n",
      "  exec(code_obj, self.user_global_ns, self.user_ns)\n"
     ]
    },
    {
     "name": "stdout",
     "output_type": "stream",
     "text": [
      "\n",
      " P4-I-HABITAT-FRANCE\n",
      "dpe_all3-len_11838-P4-I-HABITAT-FRANCE-toit.csv\n"
     ]
    },
    {
     "name": "stderr",
     "output_type": "stream",
     "text": [
      "C:\\Users\\ldecarva\\Anaconda3\\lib\\site-packages\\IPython\\core\\interactiveshell.py:3444: DtypeWarning: Columns (127,128,130,172,299,300,301) have mixed types.Specify dtype option on import or set low_memory=False.\n",
      "  exec(code_obj, self.user_global_ns, self.user_ns)\n"
     ]
    },
    {
     "name": "stdout",
     "output_type": "stream",
     "text": [
      "\n",
      " P4-P-HABITAT-FRANCE\n",
      "dpe_all3-len_144873-P4-P-HABITAT-FRANCE-toit.csv\n"
     ]
    },
    {
     "name": "stderr",
     "output_type": "stream",
     "text": [
      "C:\\Users\\ldecarva\\Anaconda3\\lib\\site-packages\\IPython\\core\\interactiveshell.py:3444: DtypeWarning: Columns (8,9,37,53,54,75,127,128,130,172,199,248,250,251,299,300,301,302,303,304) have mixed types.Specify dtype option on import or set low_memory=False.\n",
      "  exec(code_obj, self.user_global_ns, self.user_ns)\n"
     ]
    },
    {
     "name": "stdout",
     "output_type": "stream",
     "text": [
      "\n",
      " P5-I-HABITAT-FRANCE\n",
      "dpe_all3-len_23434-P5-I-HABITAT-FRANCE-toit.csv\n"
     ]
    },
    {
     "name": "stderr",
     "output_type": "stream",
     "text": [
      "C:\\Users\\ldecarva\\Anaconda3\\lib\\site-packages\\IPython\\core\\interactiveshell.py:3444: DtypeWarning: Columns (127,128,130,155,172,299,300,301) have mixed types.Specify dtype option on import or set low_memory=False.\n",
      "  exec(code_obj, self.user_global_ns, self.user_ns)\n"
     ]
    },
    {
     "name": "stdout",
     "output_type": "stream",
     "text": [
      "\n",
      " P5-P-HABITAT-FRANCE\n",
      "dpe_all3-len_141836-P5-P-HABITAT-FRANCE-toit.csv\n"
     ]
    },
    {
     "name": "stderr",
     "output_type": "stream",
     "text": [
      "C:\\Users\\ldecarva\\Anaconda3\\lib\\site-packages\\IPython\\core\\interactiveshell.py:3444: DtypeWarning: Columns (8,9,50,51,52,53,54,55,56,57,75,127,128,130,172,199,205,222,248,250,251,299,301,302,303,304) have mixed types.Specify dtype option on import or set low_memory=False.\n",
      "  exec(code_obj, self.user_global_ns, self.user_ns)\n"
     ]
    },
    {
     "name": "stdout",
     "output_type": "stream",
     "text": [
      "\n",
      " P6-I-HABITAT-FRANCE\n",
      "dpe_all3-len_31734-P6-I-HABITAT-FRANCE-toit.csv\n"
     ]
    },
    {
     "name": "stderr",
     "output_type": "stream",
     "text": [
      "C:\\Users\\ldecarva\\Anaconda3\\lib\\site-packages\\IPython\\core\\interactiveshell.py:3444: DtypeWarning: Columns (53,54,127,128,130,299,301) have mixed types.Specify dtype option on import or set low_memory=False.\n",
      "  exec(code_obj, self.user_global_ns, self.user_ns)\n"
     ]
    },
    {
     "name": "stdout",
     "output_type": "stream",
     "text": [
      "\n",
      " P6-I-TERTIAIRE-FRANCE\n",
      "dpe_all3-len_364-P6-I-TERTIAIRE-FRANCE-nati.csv\n",
      "\n",
      " P6-P-HABITAT-FRANCE\n",
      "dpe_all3-len_214978-P6-P-HABITAT-FRANCE-toit.csv\n"
     ]
    },
    {
     "name": "stderr",
     "output_type": "stream",
     "text": [
      "C:\\Users\\ldecarva\\Anaconda3\\lib\\site-packages\\IPython\\core\\interactiveshell.py:3444: DtypeWarning: Columns (8,9,37,50,51,52,53,54,55,56,57,75,127,128,130,172,199,205,222,248,250,251,299,301,302,303,304) have mixed types.Specify dtype option on import or set low_memory=False.\n",
      "  exec(code_obj, self.user_global_ns, self.user_ns)\n"
     ]
    },
    {
     "name": "stdout",
     "output_type": "stream",
     "text": [
      "\n",
      " P7-I-HABITAT-FRANCE\n",
      "dpe_all3-len_9137-P7-I-HABITAT-FRANCE-toit.csv\n"
     ]
    },
    {
     "name": "stderr",
     "output_type": "stream",
     "text": [
      "C:\\Users\\ldecarva\\Anaconda3\\lib\\site-packages\\IPython\\core\\interactiveshell.py:3444: DtypeWarning: Columns (127,128,130,299,300,301) have mixed types.Specify dtype option on import or set low_memory=False.\n",
      "  exec(code_obj, self.user_global_ns, self.user_ns)\n"
     ]
    },
    {
     "name": "stdout",
     "output_type": "stream",
     "text": [
      "\n",
      " P7-P-HABITAT-FRANCE\n",
      "dpe_all3-len_48162-P7-P-HABITAT-FRANCE-toit.csv\n"
     ]
    },
    {
     "name": "stderr",
     "output_type": "stream",
     "text": [
      "C:\\Users\\ldecarva\\Anaconda3\\lib\\site-packages\\IPython\\core\\interactiveshell.py:3444: DtypeWarning: Columns (75,127,128,130,199,248,299,301,303,304) have mixed types.Specify dtype option on import or set low_memory=False.\n",
      "  exec(code_obj, self.user_global_ns, self.user_ns)\n"
     ]
    }
   ],
   "source": [
    "pos_isol_murs = []\n",
    "pos_isol_toits = []\n",
    "\n",
    "for csv in files_anlzs_sorted:   \n",
    "    path = source_folder / csv\n",
    "    root_name = \"-\".join(path.stem.split(\"-\")[2:-1]) \n",
    "    print(\"\\n\", root_name)\n",
    "    print(csv)\n",
    "    dpe = pd.read_csv(path)\n",
    "    \n",
    "    pos_is_mur = position_isolant_mur(dpe, root_name)\n",
    "    pos_isol_murs.append(pos_is_mur)\n",
    "\n",
    "    pos_is_toit = position_isolant_toit(dpe, root_name)\n",
    "    pos_isol_toits.append(pos_is_toit)"
   ]
  },
  {
   "cell_type": "markdown",
   "id": "d1a15a5d",
   "metadata": {},
   "source": [
    "#### Format wall isol output "
   ]
  },
  {
   "cell_type": "code",
   "execution_count": 22,
   "id": "7d190532",
   "metadata": {},
   "outputs": [
    {
     "data": {
      "text/html": [
       "<div>\n",
       "<style scoped>\n",
       "    .dataframe tbody tr th:only-of-type {\n",
       "        vertical-align: middle;\n",
       "    }\n",
       "\n",
       "    .dataframe tbody tr th {\n",
       "        vertical-align: top;\n",
       "    }\n",
       "\n",
       "    .dataframe thead th {\n",
       "        text-align: right;\n",
       "    }\n",
       "</style>\n",
       "<table border=\"1\" class=\"dataframe\">\n",
       "  <thead>\n",
       "    <tr style=\"text-align: right;\">\n",
       "      <th></th>\n",
       "      <th></th>\n",
       "      <th>ITI</th>\n",
       "      <th>non isole</th>\n",
       "      <th>ITR</th>\n",
       "      <th>ITE</th>\n",
       "      <th>ITI+ITE</th>\n",
       "      <th>ITI+ITR</th>\n",
       "      <th>MOB</th>\n",
       "      <th>ITE+ITR</th>\n",
       "      <th>isole</th>\n",
       "    </tr>\n",
       "  </thead>\n",
       "  <tbody>\n",
       "    <tr>\n",
       "      <th rowspan=\"2\" valign=\"top\">P1-I-COMMERCE-FRANCE</th>\n",
       "      <th>Pourcentage (%)</th>\n",
       "      <td>73.51</td>\n",
       "      <td>22.41</td>\n",
       "      <td>1.77</td>\n",
       "      <td>1.10</td>\n",
       "      <td>0.66</td>\n",
       "      <td>0.44</td>\n",
       "      <td>0.11</td>\n",
       "      <td>NaN</td>\n",
       "      <td>NaN</td>\n",
       "    </tr>\n",
       "    <tr>\n",
       "      <th>U median (W/m²/K)</th>\n",
       "      <td>0.40</td>\n",
       "      <td>2.00</td>\n",
       "      <td>0.37</td>\n",
       "      <td>0.42</td>\n",
       "      <td>0.22</td>\n",
       "      <td>0.34</td>\n",
       "      <td>1.70</td>\n",
       "      <td>NaN</td>\n",
       "      <td>NaN</td>\n",
       "    </tr>\n",
       "    <tr>\n",
       "      <th rowspan=\"2\" valign=\"top\">P1-I-HABITAT-FRANCE_BOIS_TUILE</th>\n",
       "      <th>Pourcentage (%)</th>\n",
       "      <td>72.97</td>\n",
       "      <td>20.62</td>\n",
       "      <td>1.60</td>\n",
       "      <td>2.80</td>\n",
       "      <td>1.20</td>\n",
       "      <td>0.30</td>\n",
       "      <td>0.50</td>\n",
       "      <td>NaN</td>\n",
       "      <td>NaN</td>\n",
       "    </tr>\n",
       "    <tr>\n",
       "      <th>U median (W/m²/K)</th>\n",
       "      <td>0.36</td>\n",
       "      <td>2.00</td>\n",
       "      <td>0.36</td>\n",
       "      <td>0.34</td>\n",
       "      <td>0.35</td>\n",
       "      <td>0.25</td>\n",
       "      <td>0.45</td>\n",
       "      <td>NaN</td>\n",
       "      <td>NaN</td>\n",
       "    </tr>\n",
       "    <tr>\n",
       "      <th>P1-I-HABITAT-FRANCE_BRIQUE</th>\n",
       "      <th>Pourcentage (%)</th>\n",
       "      <td>70.64</td>\n",
       "      <td>25.55</td>\n",
       "      <td>0.82</td>\n",
       "      <td>1.76</td>\n",
       "      <td>0.73</td>\n",
       "      <td>0.40</td>\n",
       "      <td>0.09</td>\n",
       "      <td>0.01</td>\n",
       "      <td>NaN</td>\n",
       "    </tr>\n",
       "  </tbody>\n",
       "</table>\n",
       "</div>"
      ],
      "text/plain": [
       "                                                    ITI  non isole   ITR  \\\n",
       "P1-I-COMMERCE-FRANCE           Pourcentage (%)    73.51      22.41  1.77   \n",
       "                               U median (W/m²/K)   0.40       2.00  0.37   \n",
       "P1-I-HABITAT-FRANCE_BOIS_TUILE Pourcentage (%)    72.97      20.62  1.60   \n",
       "                               U median (W/m²/K)   0.36       2.00  0.36   \n",
       "P1-I-HABITAT-FRANCE_BRIQUE     Pourcentage (%)    70.64      25.55  0.82   \n",
       "\n",
       "                                                   ITE  ITI+ITE  ITI+ITR  \\\n",
       "P1-I-COMMERCE-FRANCE           Pourcentage (%)    1.10     0.66     0.44   \n",
       "                               U median (W/m²/K)  0.42     0.22     0.34   \n",
       "P1-I-HABITAT-FRANCE_BOIS_TUILE Pourcentage (%)    2.80     1.20     0.30   \n",
       "                               U median (W/m²/K)  0.34     0.35     0.25   \n",
       "P1-I-HABITAT-FRANCE_BRIQUE     Pourcentage (%)    1.76     0.73     0.40   \n",
       "\n",
       "                                                   MOB  ITE+ITR  isole  \n",
       "P1-I-COMMERCE-FRANCE           Pourcentage (%)    0.11      NaN    NaN  \n",
       "                               U median (W/m²/K)  1.70      NaN    NaN  \n",
       "P1-I-HABITAT-FRANCE_BOIS_TUILE Pourcentage (%)    0.50      NaN    NaN  \n",
       "                               U median (W/m²/K)  0.45      NaN    NaN  \n",
       "P1-I-HABITAT-FRANCE_BRIQUE     Pourcentage (%)    0.09     0.01    NaN  "
      ]
     },
     "execution_count": 22,
     "metadata": {},
     "output_type": "execute_result"
    }
   ],
   "source": [
    "resume_isol_mur = pd.concat(pos_isol_murs) \n",
    "resume_isol_mur.head()"
   ]
  },
  {
   "cell_type": "code",
   "execution_count": 23,
   "id": "732b528f",
   "metadata": {},
   "outputs": [
    {
     "data": {
      "text/plain": [
       "ITI          35.274559\n",
       "non isole    13.074412\n",
       "ITE           1.494853\n",
       "ITR           0.857879\n",
       "ITI+ITE       0.663788\n",
       "ITI+ITR       0.465000\n",
       "isole         0.433571\n",
       "MOB           0.345370\n",
       "ITE+ITR       0.231111\n",
       "dtype: float64"
      ]
     },
     "execution_count": 23,
     "metadata": {},
     "output_type": "execute_result"
    }
   ],
   "source": [
    "# check values to ignore\n",
    "resume_isol_mur.mean().sort_values(ascending=False)"
   ]
  },
  {
   "cell_type": "code",
   "execution_count": 24,
   "id": "ca39bb7d",
   "metadata": {},
   "outputs": [
    {
     "data": {
      "text/html": [
       "<div>\n",
       "<style scoped>\n",
       "    .dataframe tbody tr th:only-of-type {\n",
       "        vertical-align: middle;\n",
       "    }\n",
       "\n",
       "    .dataframe tbody tr th {\n",
       "        vertical-align: top;\n",
       "    }\n",
       "\n",
       "    .dataframe thead th {\n",
       "        text-align: right;\n",
       "    }\n",
       "</style>\n",
       "<table border=\"1\" class=\"dataframe\">\n",
       "  <thead>\n",
       "    <tr style=\"text-align: right;\">\n",
       "      <th></th>\n",
       "      <th></th>\n",
       "      <th>ITI</th>\n",
       "      <th>ITE</th>\n",
       "      <th>ITR</th>\n",
       "      <th>non isole</th>\n",
       "      <th>autres</th>\n",
       "    </tr>\n",
       "  </thead>\n",
       "  <tbody>\n",
       "    <tr>\n",
       "      <th rowspan=\"2\" valign=\"top\">P1-I-COMMERCE-FRANCE</th>\n",
       "      <th>Pourcentage (%)</th>\n",
       "      <td>73.51</td>\n",
       "      <td>1.10</td>\n",
       "      <td>1.77</td>\n",
       "      <td>22.41</td>\n",
       "      <td>1.21</td>\n",
       "    </tr>\n",
       "    <tr>\n",
       "      <th>U median (W/m²/K)</th>\n",
       "      <td>0.40</td>\n",
       "      <td>0.42</td>\n",
       "      <td>0.37</td>\n",
       "      <td>2.00</td>\n",
       "      <td>2.26</td>\n",
       "    </tr>\n",
       "    <tr>\n",
       "      <th rowspan=\"2\" valign=\"top\">P1-I-HABITAT-FRANCE_BOIS_TUILE</th>\n",
       "      <th>Pourcentage (%)</th>\n",
       "      <td>72.97</td>\n",
       "      <td>2.80</td>\n",
       "      <td>1.60</td>\n",
       "      <td>20.62</td>\n",
       "      <td>2.00</td>\n",
       "    </tr>\n",
       "    <tr>\n",
       "      <th>U median (W/m²/K)</th>\n",
       "      <td>0.36</td>\n",
       "      <td>0.34</td>\n",
       "      <td>0.36</td>\n",
       "      <td>2.00</td>\n",
       "      <td>1.05</td>\n",
       "    </tr>\n",
       "    <tr>\n",
       "      <th>P1-I-HABITAT-FRANCE_BRIQUE</th>\n",
       "      <th>Pourcentage (%)</th>\n",
       "      <td>70.64</td>\n",
       "      <td>1.76</td>\n",
       "      <td>0.82</td>\n",
       "      <td>25.55</td>\n",
       "      <td>1.23</td>\n",
       "    </tr>\n",
       "  </tbody>\n",
       "</table>\n",
       "</div>"
      ],
      "text/plain": [
       "                                                    ITI   ITE   ITR  \\\n",
       "P1-I-COMMERCE-FRANCE           Pourcentage (%)    73.51  1.10  1.77   \n",
       "                               U median (W/m²/K)   0.40  0.42  0.37   \n",
       "P1-I-HABITAT-FRANCE_BOIS_TUILE Pourcentage (%)    72.97  2.80  1.60   \n",
       "                               U median (W/m²/K)   0.36  0.34  0.36   \n",
       "P1-I-HABITAT-FRANCE_BRIQUE     Pourcentage (%)    70.64  1.76  0.82   \n",
       "\n",
       "                                                  non isole  autres  \n",
       "P1-I-COMMERCE-FRANCE           Pourcentage (%)        22.41    1.21  \n",
       "                               U median (W/m²/K)       2.00    2.26  \n",
       "P1-I-HABITAT-FRANCE_BOIS_TUILE Pourcentage (%)        20.62    2.00  \n",
       "                               U median (W/m²/K)       2.00    1.05  \n",
       "P1-I-HABITAT-FRANCE_BRIQUE     Pourcentage (%)        25.55    1.23  "
      ]
     },
     "execution_count": 24,
     "metadata": {},
     "output_type": "execute_result"
    }
   ],
   "source": [
    "cols_to_drop = ['ITI+ITE', 'ITI+ITR', 'MOB','ITE+ITR', 'isole',]\n",
    "resume_isol_mur[\"autres\"]  = resume_isol_mur[cols_to_drop].sum(axis=1)\n",
    "resume_isol_mur = resume_isol_mur[['ITI', 'ITE', 'ITR',  'non isole','autres']]\n",
    "resume_isol_mur.head()"
   ]
  },
  {
   "cell_type": "markdown",
   "id": "2e72da8f",
   "metadata": {},
   "source": [
    "#### Format roof isol output "
   ]
  },
  {
   "cell_type": "code",
   "execution_count": 25,
   "id": "0f64d207",
   "metadata": {},
   "outputs": [
    {
     "data": {
      "text/html": [
       "<div>\n",
       "<style scoped>\n",
       "    .dataframe tbody tr th:only-of-type {\n",
       "        vertical-align: middle;\n",
       "    }\n",
       "\n",
       "    .dataframe tbody tr th {\n",
       "        vertical-align: top;\n",
       "    }\n",
       "\n",
       "    .dataframe thead th {\n",
       "        text-align: right;\n",
       "    }\n",
       "</style>\n",
       "<table border=\"1\" class=\"dataframe\">\n",
       "  <thead>\n",
       "    <tr style=\"text-align: right;\">\n",
       "      <th></th>\n",
       "      <th></th>\n",
       "      <th>ITI</th>\n",
       "      <th>non isole</th>\n",
       "      <th>ITE</th>\n",
       "      <th>isole</th>\n",
       "      <th>ITE+ITI</th>\n",
       "      <th>ITI+ITR</th>\n",
       "    </tr>\n",
       "  </thead>\n",
       "  <tbody>\n",
       "    <tr>\n",
       "      <th rowspan=\"2\" valign=\"top\">P1-I-COMMERCE-FRANCE</th>\n",
       "      <th>Pourcentage (%)</th>\n",
       "      <td>71.23</td>\n",
       "      <td>25.52</td>\n",
       "      <td>2.44</td>\n",
       "      <td>0.58</td>\n",
       "      <td>0.23</td>\n",
       "      <td>NaN</td>\n",
       "    </tr>\n",
       "    <tr>\n",
       "      <th>U median (W/m²/K)</th>\n",
       "      <td>0.20</td>\n",
       "      <td>2.50</td>\n",
       "      <td>0.30</td>\n",
       "      <td>0.24</td>\n",
       "      <td>0.56</td>\n",
       "      <td>NaN</td>\n",
       "    </tr>\n",
       "    <tr>\n",
       "      <th rowspan=\"2\" valign=\"top\">P1-I-HABITAT-FRANCE_BOIS_TUILE</th>\n",
       "      <th>Pourcentage (%)</th>\n",
       "      <td>63.78</td>\n",
       "      <td>31.41</td>\n",
       "      <td>2.35</td>\n",
       "      <td>2.14</td>\n",
       "      <td>0.32</td>\n",
       "      <td>NaN</td>\n",
       "    </tr>\n",
       "    <tr>\n",
       "      <th>U median (W/m²/K)</th>\n",
       "      <td>0.20</td>\n",
       "      <td>2.50</td>\n",
       "      <td>0.24</td>\n",
       "      <td>0.24</td>\n",
       "      <td>0.20</td>\n",
       "      <td>NaN</td>\n",
       "    </tr>\n",
       "    <tr>\n",
       "      <th>P1-I-HABITAT-FRANCE_BRIQUE</th>\n",
       "      <th>Pourcentage (%)</th>\n",
       "      <td>61.14</td>\n",
       "      <td>35.07</td>\n",
       "      <td>2.60</td>\n",
       "      <td>1.09</td>\n",
       "      <td>0.10</td>\n",
       "      <td>NaN</td>\n",
       "    </tr>\n",
       "  </tbody>\n",
       "</table>\n",
       "</div>"
      ],
      "text/plain": [
       "                                                    ITI  non isole   ITE  \\\n",
       "P1-I-COMMERCE-FRANCE           Pourcentage (%)    71.23      25.52  2.44   \n",
       "                               U median (W/m²/K)   0.20       2.50  0.30   \n",
       "P1-I-HABITAT-FRANCE_BOIS_TUILE Pourcentage (%)    63.78      31.41  2.35   \n",
       "                               U median (W/m²/K)   0.20       2.50  0.24   \n",
       "P1-I-HABITAT-FRANCE_BRIQUE     Pourcentage (%)    61.14      35.07  2.60   \n",
       "\n",
       "                                                  isole  ITE+ITI  ITI+ITR  \n",
       "P1-I-COMMERCE-FRANCE           Pourcentage (%)     0.58     0.23      NaN  \n",
       "                               U median (W/m²/K)   0.24     0.56      NaN  \n",
       "P1-I-HABITAT-FRANCE_BOIS_TUILE Pourcentage (%)     2.14     0.32      NaN  \n",
       "                               U median (W/m²/K)   0.24     0.20      NaN  \n",
       "P1-I-HABITAT-FRANCE_BRIQUE     Pourcentage (%)     1.09     0.10      NaN  "
      ]
     },
     "execution_count": 25,
     "metadata": {},
     "output_type": "execute_result"
    }
   ],
   "source": [
    "resume_isol_toit = pd.concat(pos_isol_toits) \n",
    "resume_isol_toit.head()"
   ]
  },
  {
   "cell_type": "code",
   "execution_count": 26,
   "id": "4ca1ec50",
   "metadata": {},
   "outputs": [
    {
     "data": {
      "text/plain": [
       "ITI          34.505588\n",
       "non isole    13.819706\n",
       "ITE           2.460588\n",
       "isole         0.736618\n",
       "ITE+ITI       0.205152\n",
       "ITI+ITR       0.115000\n",
       "dtype: float64"
      ]
     },
     "execution_count": 26,
     "metadata": {},
     "output_type": "execute_result"
    }
   ],
   "source": [
    "resume_isol_toit.mean().sort_values(ascending=False)"
   ]
  },
  {
   "cell_type": "code",
   "execution_count": 27,
   "id": "8f3a98f3",
   "metadata": {},
   "outputs": [
    {
     "data": {
      "text/html": [
       "<div>\n",
       "<style scoped>\n",
       "    .dataframe tbody tr th:only-of-type {\n",
       "        vertical-align: middle;\n",
       "    }\n",
       "\n",
       "    .dataframe tbody tr th {\n",
       "        vertical-align: top;\n",
       "    }\n",
       "\n",
       "    .dataframe thead th {\n",
       "        text-align: right;\n",
       "    }\n",
       "</style>\n",
       "<table border=\"1\" class=\"dataframe\">\n",
       "  <thead>\n",
       "    <tr style=\"text-align: right;\">\n",
       "      <th></th>\n",
       "      <th></th>\n",
       "      <th>ITI</th>\n",
       "      <th>ITE</th>\n",
       "      <th>non isole</th>\n",
       "      <th>autres</th>\n",
       "    </tr>\n",
       "  </thead>\n",
       "  <tbody>\n",
       "    <tr>\n",
       "      <th rowspan=\"2\" valign=\"top\">P1-I-COMMERCE-FRANCE</th>\n",
       "      <th>Pourcentage (%)</th>\n",
       "      <td>71.23</td>\n",
       "      <td>2.44</td>\n",
       "      <td>25.52</td>\n",
       "      <td>0.81</td>\n",
       "    </tr>\n",
       "    <tr>\n",
       "      <th>U median (W/m²/K)</th>\n",
       "      <td>0.20</td>\n",
       "      <td>0.30</td>\n",
       "      <td>2.50</td>\n",
       "      <td>0.80</td>\n",
       "    </tr>\n",
       "    <tr>\n",
       "      <th rowspan=\"2\" valign=\"top\">P1-I-HABITAT-FRANCE_BOIS_TUILE</th>\n",
       "      <th>Pourcentage (%)</th>\n",
       "      <td>63.78</td>\n",
       "      <td>2.35</td>\n",
       "      <td>31.41</td>\n",
       "      <td>2.46</td>\n",
       "    </tr>\n",
       "    <tr>\n",
       "      <th>U median (W/m²/K)</th>\n",
       "      <td>0.20</td>\n",
       "      <td>0.24</td>\n",
       "      <td>2.50</td>\n",
       "      <td>0.44</td>\n",
       "    </tr>\n",
       "    <tr>\n",
       "      <th>P1-I-HABITAT-FRANCE_BRIQUE</th>\n",
       "      <th>Pourcentage (%)</th>\n",
       "      <td>61.14</td>\n",
       "      <td>2.60</td>\n",
       "      <td>35.07</td>\n",
       "      <td>1.19</td>\n",
       "    </tr>\n",
       "  </tbody>\n",
       "</table>\n",
       "</div>"
      ],
      "text/plain": [
       "                                                    ITI   ITE  non isole  \\\n",
       "P1-I-COMMERCE-FRANCE           Pourcentage (%)    71.23  2.44      25.52   \n",
       "                               U median (W/m²/K)   0.20  0.30       2.50   \n",
       "P1-I-HABITAT-FRANCE_BOIS_TUILE Pourcentage (%)    63.78  2.35      31.41   \n",
       "                               U median (W/m²/K)   0.20  0.24       2.50   \n",
       "P1-I-HABITAT-FRANCE_BRIQUE     Pourcentage (%)    61.14  2.60      35.07   \n",
       "\n",
       "                                                  autres  \n",
       "P1-I-COMMERCE-FRANCE           Pourcentage (%)      0.81  \n",
       "                               U median (W/m²/K)    0.80  \n",
       "P1-I-HABITAT-FRANCE_BOIS_TUILE Pourcentage (%)      2.46  \n",
       "                               U median (W/m²/K)    0.44  \n",
       "P1-I-HABITAT-FRANCE_BRIQUE     Pourcentage (%)      1.19  "
      ]
     },
     "execution_count": 27,
     "metadata": {},
     "output_type": "execute_result"
    }
   ],
   "source": [
    "cols_to_drop = ['isole','ITE+ITI', 'ITI+ITR',]\n",
    "resume_isol_toit[\"autres\"]  = resume_isol_toit[cols_to_drop].sum(axis=1)\n",
    "resume_isol_toit = resume_isol_toit[['ITI', 'ITE', 'non isole','autres']]\n",
    "resume_isol_toit.head()"
   ]
  },
  {
   "cell_type": "markdown",
   "id": "7b24e181",
   "metadata": {},
   "source": [
    "#### Export tables"
   ]
  },
  {
   "cell_type": "code",
   "execution_count": 28,
   "id": "68a1a73e",
   "metadata": {},
   "outputs": [],
   "source": [
    "resume_isol_mur.to_excel(\"resume_pos_isolat_mur.xlsx\")\n",
    "resume_isol_toit.to_excel(\"resume_pos_isolat_toit.xlsx\")"
   ]
  },
  {
   "cell_type": "code",
   "execution_count": 29,
   "id": "ecc75154",
   "metadata": {},
   "outputs": [
    {
     "data": {
      "text/html": [
       "<div>\n",
       "<style scoped>\n",
       "    .dataframe tbody tr th:only-of-type {\n",
       "        vertical-align: middle;\n",
       "    }\n",
       "\n",
       "    .dataframe tbody tr th {\n",
       "        vertical-align: top;\n",
       "    }\n",
       "\n",
       "    .dataframe thead th {\n",
       "        text-align: right;\n",
       "    }\n",
       "</style>\n",
       "<table border=\"1\" class=\"dataframe\">\n",
       "  <thead>\n",
       "    <tr style=\"text-align: right;\">\n",
       "      <th></th>\n",
       "      <th></th>\n",
       "      <th>ITI</th>\n",
       "      <th>ITE</th>\n",
       "      <th>ITR</th>\n",
       "      <th>non isole</th>\n",
       "      <th>autres</th>\n",
       "    </tr>\n",
       "  </thead>\n",
       "  <tbody>\n",
       "    <tr>\n",
       "      <th rowspan=\"2\" valign=\"top\">P1-I-COMMERCE-FRANCE</th>\n",
       "      <th>Pourcentage (%)</th>\n",
       "      <td>73.51</td>\n",
       "      <td>1.10</td>\n",
       "      <td>1.77</td>\n",
       "      <td>22.41</td>\n",
       "      <td>1.21</td>\n",
       "    </tr>\n",
       "    <tr>\n",
       "      <th>U median (W/m²/K)</th>\n",
       "      <td>0.40</td>\n",
       "      <td>0.42</td>\n",
       "      <td>0.37</td>\n",
       "      <td>2.00</td>\n",
       "      <td>2.26</td>\n",
       "    </tr>\n",
       "    <tr>\n",
       "      <th rowspan=\"2\" valign=\"top\">P1-I-HABITAT-FRANCE_BOIS_TUILE</th>\n",
       "      <th>Pourcentage (%)</th>\n",
       "      <td>72.97</td>\n",
       "      <td>2.80</td>\n",
       "      <td>1.60</td>\n",
       "      <td>20.62</td>\n",
       "      <td>2.00</td>\n",
       "    </tr>\n",
       "    <tr>\n",
       "      <th>U median (W/m²/K)</th>\n",
       "      <td>0.36</td>\n",
       "      <td>0.34</td>\n",
       "      <td>0.36</td>\n",
       "      <td>2.00</td>\n",
       "      <td>1.05</td>\n",
       "    </tr>\n",
       "    <tr>\n",
       "      <th>P1-I-HABITAT-FRANCE_BRIQUE</th>\n",
       "      <th>Pourcentage (%)</th>\n",
       "      <td>70.64</td>\n",
       "      <td>1.76</td>\n",
       "      <td>0.82</td>\n",
       "      <td>25.55</td>\n",
       "      <td>1.23</td>\n",
       "    </tr>\n",
       "    <tr>\n",
       "      <th>...</th>\n",
       "      <th>...</th>\n",
       "      <td>...</td>\n",
       "      <td>...</td>\n",
       "      <td>...</td>\n",
       "      <td>...</td>\n",
       "      <td>...</td>\n",
       "    </tr>\n",
       "    <tr>\n",
       "      <th>P6-P-HABITAT-FRANCE</th>\n",
       "      <th>U median (W/m²/K)</th>\n",
       "      <td>0.36</td>\n",
       "      <td>0.35</td>\n",
       "      <td>0.35</td>\n",
       "      <td>0.47</td>\n",
       "      <td>1.52</td>\n",
       "    </tr>\n",
       "    <tr>\n",
       "      <th rowspan=\"2\" valign=\"top\">P7-I-HABITAT-FRANCE</th>\n",
       "      <th>Pourcentage (%)</th>\n",
       "      <td>75.41</td>\n",
       "      <td>7.24</td>\n",
       "      <td>1.94</td>\n",
       "      <td>10.13</td>\n",
       "      <td>5.28</td>\n",
       "    </tr>\n",
       "    <tr>\n",
       "      <th>U median (W/m²/K)</th>\n",
       "      <td>0.36</td>\n",
       "      <td>0.30</td>\n",
       "      <td>0.34</td>\n",
       "      <td>1.90</td>\n",
       "      <td>1.52</td>\n",
       "    </tr>\n",
       "    <tr>\n",
       "      <th rowspan=\"2\" valign=\"top\">P7-P-HABITAT-FRANCE</th>\n",
       "      <th>Pourcentage (%)</th>\n",
       "      <td>85.73</td>\n",
       "      <td>2.01</td>\n",
       "      <td>2.03</td>\n",
       "      <td>5.51</td>\n",
       "      <td>4.72</td>\n",
       "    </tr>\n",
       "    <tr>\n",
       "      <th>U median (W/m²/K)</th>\n",
       "      <td>0.35</td>\n",
       "      <td>0.26</td>\n",
       "      <td>0.25</td>\n",
       "      <td>1.90</td>\n",
       "      <td>1.13</td>\n",
       "    </tr>\n",
       "  </tbody>\n",
       "</table>\n",
       "<p>68 rows × 5 columns</p>\n",
       "</div>"
      ],
      "text/plain": [
       "                                                    ITI   ITE   ITR  \\\n",
       "P1-I-COMMERCE-FRANCE           Pourcentage (%)    73.51  1.10  1.77   \n",
       "                               U median (W/m²/K)   0.40  0.42  0.37   \n",
       "P1-I-HABITAT-FRANCE_BOIS_TUILE Pourcentage (%)    72.97  2.80  1.60   \n",
       "                               U median (W/m²/K)   0.36  0.34  0.36   \n",
       "P1-I-HABITAT-FRANCE_BRIQUE     Pourcentage (%)    70.64  1.76  0.82   \n",
       "...                                                 ...   ...   ...   \n",
       "P6-P-HABITAT-FRANCE            U median (W/m²/K)   0.36  0.35  0.35   \n",
       "P7-I-HABITAT-FRANCE            Pourcentage (%)    75.41  7.24  1.94   \n",
       "                               U median (W/m²/K)   0.36  0.30  0.34   \n",
       "P7-P-HABITAT-FRANCE            Pourcentage (%)    85.73  2.01  2.03   \n",
       "                               U median (W/m²/K)   0.35  0.26  0.25   \n",
       "\n",
       "                                                  non isole  autres  \n",
       "P1-I-COMMERCE-FRANCE           Pourcentage (%)        22.41    1.21  \n",
       "                               U median (W/m²/K)       2.00    2.26  \n",
       "P1-I-HABITAT-FRANCE_BOIS_TUILE Pourcentage (%)        20.62    2.00  \n",
       "                               U median (W/m²/K)       2.00    1.05  \n",
       "P1-I-HABITAT-FRANCE_BRIQUE     Pourcentage (%)        25.55    1.23  \n",
       "...                                                     ...     ...  \n",
       "P6-P-HABITAT-FRANCE            U median (W/m²/K)       0.47    1.52  \n",
       "P7-I-HABITAT-FRANCE            Pourcentage (%)        10.13    5.28  \n",
       "                               U median (W/m²/K)       1.90    1.52  \n",
       "P7-P-HABITAT-FRANCE            Pourcentage (%)         5.51    4.72  \n",
       "                               U median (W/m²/K)       1.90    1.13  \n",
       "\n",
       "[68 rows x 5 columns]"
      ]
     },
     "execution_count": 29,
     "metadata": {},
     "output_type": "execute_result"
    }
   ],
   "source": [
    "resume_isol_mur"
   ]
  },
  {
   "cell_type": "code",
   "execution_count": 30,
   "id": "8893bc37",
   "metadata": {},
   "outputs": [
    {
     "data": {
      "text/html": [
       "<div>\n",
       "<style scoped>\n",
       "    .dataframe tbody tr th:only-of-type {\n",
       "        vertical-align: middle;\n",
       "    }\n",
       "\n",
       "    .dataframe tbody tr th {\n",
       "        vertical-align: top;\n",
       "    }\n",
       "\n",
       "    .dataframe thead th {\n",
       "        text-align: right;\n",
       "    }\n",
       "</style>\n",
       "<table border=\"1\" class=\"dataframe\">\n",
       "  <thead>\n",
       "    <tr style=\"text-align: right;\">\n",
       "      <th></th>\n",
       "      <th></th>\n",
       "      <th>ITI</th>\n",
       "      <th>ITE</th>\n",
       "      <th>non isole</th>\n",
       "      <th>autres</th>\n",
       "    </tr>\n",
       "  </thead>\n",
       "  <tbody>\n",
       "    <tr>\n",
       "      <th rowspan=\"2\" valign=\"top\">P1-I-COMMERCE-FRANCE</th>\n",
       "      <th>Pourcentage (%)</th>\n",
       "      <td>71.23</td>\n",
       "      <td>2.44</td>\n",
       "      <td>25.52</td>\n",
       "      <td>0.81</td>\n",
       "    </tr>\n",
       "    <tr>\n",
       "      <th>U median (W/m²/K)</th>\n",
       "      <td>0.20</td>\n",
       "      <td>0.30</td>\n",
       "      <td>2.50</td>\n",
       "      <td>0.80</td>\n",
       "    </tr>\n",
       "    <tr>\n",
       "      <th rowspan=\"2\" valign=\"top\">P1-I-HABITAT-FRANCE_BOIS_TUILE</th>\n",
       "      <th>Pourcentage (%)</th>\n",
       "      <td>63.78</td>\n",
       "      <td>2.35</td>\n",
       "      <td>31.41</td>\n",
       "      <td>2.46</td>\n",
       "    </tr>\n",
       "    <tr>\n",
       "      <th>U median (W/m²/K)</th>\n",
       "      <td>0.20</td>\n",
       "      <td>0.24</td>\n",
       "      <td>2.50</td>\n",
       "      <td>0.44</td>\n",
       "    </tr>\n",
       "    <tr>\n",
       "      <th>P1-I-HABITAT-FRANCE_BRIQUE</th>\n",
       "      <th>Pourcentage (%)</th>\n",
       "      <td>61.14</td>\n",
       "      <td>2.60</td>\n",
       "      <td>35.07</td>\n",
       "      <td>1.19</td>\n",
       "    </tr>\n",
       "    <tr>\n",
       "      <th>...</th>\n",
       "      <th>...</th>\n",
       "      <td>...</td>\n",
       "      <td>...</td>\n",
       "      <td>...</td>\n",
       "      <td>...</td>\n",
       "    </tr>\n",
       "    <tr>\n",
       "      <th>P6-P-HABITAT-FRANCE</th>\n",
       "      <th>U median (W/m²/K)</th>\n",
       "      <td>0.19</td>\n",
       "      <td>0.20</td>\n",
       "      <td>2.50</td>\n",
       "      <td>0.61</td>\n",
       "    </tr>\n",
       "    <tr>\n",
       "      <th rowspan=\"2\" valign=\"top\">P7-I-HABITAT-FRANCE</th>\n",
       "      <th>Pourcentage (%)</th>\n",
       "      <td>62.36</td>\n",
       "      <td>7.47</td>\n",
       "      <td>28.43</td>\n",
       "      <td>1.74</td>\n",
       "    </tr>\n",
       "    <tr>\n",
       "      <th>U median (W/m²/K)</th>\n",
       "      <td>0.20</td>\n",
       "      <td>0.27</td>\n",
       "      <td>2.50</td>\n",
       "      <td>0.46</td>\n",
       "    </tr>\n",
       "    <tr>\n",
       "      <th rowspan=\"2\" valign=\"top\">P7-P-HABITAT-FRANCE</th>\n",
       "      <th>Pourcentage (%)</th>\n",
       "      <td>89.08</td>\n",
       "      <td>3.59</td>\n",
       "      <td>5.59</td>\n",
       "      <td>1.74</td>\n",
       "    </tr>\n",
       "    <tr>\n",
       "      <th>U median (W/m²/K)</th>\n",
       "      <td>0.16</td>\n",
       "      <td>0.23</td>\n",
       "      <td>2.50</td>\n",
       "      <td>0.39</td>\n",
       "    </tr>\n",
       "  </tbody>\n",
       "</table>\n",
       "<p>68 rows × 4 columns</p>\n",
       "</div>"
      ],
      "text/plain": [
       "                                                    ITI   ITE  non isole  \\\n",
       "P1-I-COMMERCE-FRANCE           Pourcentage (%)    71.23  2.44      25.52   \n",
       "                               U median (W/m²/K)   0.20  0.30       2.50   \n",
       "P1-I-HABITAT-FRANCE_BOIS_TUILE Pourcentage (%)    63.78  2.35      31.41   \n",
       "                               U median (W/m²/K)   0.20  0.24       2.50   \n",
       "P1-I-HABITAT-FRANCE_BRIQUE     Pourcentage (%)    61.14  2.60      35.07   \n",
       "...                                                 ...   ...        ...   \n",
       "P6-P-HABITAT-FRANCE            U median (W/m²/K)   0.19  0.20       2.50   \n",
       "P7-I-HABITAT-FRANCE            Pourcentage (%)    62.36  7.47      28.43   \n",
       "                               U median (W/m²/K)   0.20  0.27       2.50   \n",
       "P7-P-HABITAT-FRANCE            Pourcentage (%)    89.08  3.59       5.59   \n",
       "                               U median (W/m²/K)   0.16  0.23       2.50   \n",
       "\n",
       "                                                  autres  \n",
       "P1-I-COMMERCE-FRANCE           Pourcentage (%)      0.81  \n",
       "                               U median (W/m²/K)    0.80  \n",
       "P1-I-HABITAT-FRANCE_BOIS_TUILE Pourcentage (%)      2.46  \n",
       "                               U median (W/m²/K)    0.44  \n",
       "P1-I-HABITAT-FRANCE_BRIQUE     Pourcentage (%)      1.19  \n",
       "...                                                  ...  \n",
       "P6-P-HABITAT-FRANCE            U median (W/m²/K)    0.61  \n",
       "P7-I-HABITAT-FRANCE            Pourcentage (%)      1.74  \n",
       "                               U median (W/m²/K)    0.46  \n",
       "P7-P-HABITAT-FRANCE            Pourcentage (%)      1.74  \n",
       "                               U median (W/m²/K)    0.39  \n",
       "\n",
       "[68 rows x 4 columns]"
      ]
     },
     "execution_count": 30,
     "metadata": {},
     "output_type": "execute_result"
    }
   ],
   "source": [
    "resume_isol_toit"
   ]
  }
 ],
 "metadata": {
  "kernelspec": {
   "display_name": "Python 3 (ipykernel)",
   "language": "python",
   "name": "python3"
  },
  "language_info": {
   "codemirror_mode": {
    "name": "ipython",
    "version": 3
   },
   "file_extension": ".py",
   "mimetype": "text/x-python",
   "name": "python",
   "nbconvert_exporter": "python",
   "pygments_lexer": "ipython3",
   "version": "3.9.7"
  },
  "toc": {
   "base_numbering": 1,
   "nav_menu": {},
   "number_sections": true,
   "sideBar": true,
   "skip_h1_title": false,
   "title_cell": "Table of Contents",
   "title_sidebar": "Contents",
   "toc_cell": false,
   "toc_position": {
    "height": "calc(100% - 180px)",
    "left": "10px",
    "top": "150px",
    "width": "165px"
   },
   "toc_section_display": true,
   "toc_window_display": false
  }
 },
 "nbformat": 4,
 "nbformat_minor": 5
}
