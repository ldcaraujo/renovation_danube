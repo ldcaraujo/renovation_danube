{
 "cells": [
  {
   "cell_type": "code",
   "execution_count": 9,
   "id": "b7e4bc85",
   "metadata": {},
   "outputs": [],
   "source": [
    "from pathlib import Path\n",
    "import numpy as np\n",
    "import pandas as pd\n",
    "import matplotlib.pyplot as plt"
   ]
  },
  {
   "cell_type": "code",
   "execution_count": 10,
   "id": "5743c544",
   "metadata": {},
   "outputs": [
    {
     "ename": "SyntaxError",
     "evalue": "unexpected EOF while parsing (Temp/ipykernel_5896/3783587577.py, line 1)",
     "output_type": "error",
     "traceback": [
      "\u001b[1;36m  File \u001b[1;32m\"C:\\Users\\ldecarva\\AppData\\Local\\Temp/ipykernel_5896/3783587577.py\"\u001b[1;36m, line \u001b[1;32m1\u001b[0m\n\u001b[1;33m    source_folder = Path(r\"U:\\WORK\\assembled_same_U\\with_complete_dpe_data\\all\"\u001b[0m\n\u001b[1;37m                                                                               ^\u001b[0m\n\u001b[1;31mSyntaxError\u001b[0m\u001b[1;31m:\u001b[0m unexpected EOF while parsing\n"
     ]
    }
   ],
   "source": [
    "source_folder = Path(r\"U:\\WORK\\assembled_same_U\\with_complete_dpe_data\\all\""
   ]
  },
  {
   "cell_type": "code",
   "execution_count": null,
   "id": "f22985d4",
   "metadata": {},
   "outputs": [],
   "source": [
    "csv = r\"dpe_all3-len_1010-P1-I-HABITAT-FRANCE_BOIS_TUILE-uniq.csv\"\n",
    "path = source_folder / csv\n",
    "dpe = pd.read_csv(path)"
   ]
  },
  {
   "cell_type": "code",
   "execution_count": null,
   "id": "abebccdb",
   "metadata": {},
   "outputs": [],
   "source": [
    "def plot_dens_walll_roof(dpe):\n",
    "    # Create density and unity density for each data\n",
    "    x_roof = dpe.adedpe202006_logtype_ph_u.to_numpy()\n",
    "    len_dens_roof = round((max(x_roof) - min(x_roof))/0.01)+1\n",
    "    print(\"len_dens_roof\", len_dens_roof)\n",
    "    x_d_roof = np.linspace(min(x_roof), max(x_roof), len_dens_roof)\n",
    "    density_roof = sum((abs(xi - x_d_roof) < 0.01) for xi in x_roof)\n",
    "    unity_density_roof = density_roof / density_roof.sum()\n",
    "\n",
    "    x_wall = dpe.adedpe202006_logtype_mur_u_ext.to_numpy()\n",
    "    len_dens_wall = round((max(x_wall) - min(x_wall))/0.01)+1\n",
    "    print(\"len_dens_wall\",len_dens_wall)\n",
    "    x_d_wall = np.linspace(min(x_wall), max(x_wall), len_dens_wall)\n",
    "    density_wall = sum((abs(xi - x_d_wall) < 0.01) for xi in x_wall)\n",
    "    unity_density_wall = density_wall / density_wall.sum()\n",
    "\n",
    "    #plot\n",
    "    format_roof = {\"color\":\"firebrick\", \"alpha\":0.5, \"label\":'toit'}\n",
    "    format_wall = {\"color\":\"cadetblue\", \"alpha\":0.5, \"label\":'mur'}\n",
    "    \n",
    "    fig, ax = plt.subplots()\n",
    "\n",
    "    ax.fill_between(x_d_wall, unity_density_wall, **format_wall)\n",
    "\n",
    "    ax.fill_between(x_d_roof, unity_density_roof, **format_roof)\n",
    "    plt.legend(loc=9)\n",
    "    plt.show()\n",
    "    return fig\n",
    "    \n"
   ]
  },
  {
   "cell_type": "code",
   "execution_count": null,
   "id": "e62be1cd",
   "metadata": {},
   "outputs": [],
   "source": [
    "save_fig_folder = r\"U:\\WORK\\code_gpd\\data_analysis\\analysis_assembled_archetypes\\dpe_density_plots\\plots_wall_rooffigure = plot_dens_walll_roof(dpe)\n"
   ]
  },
  {
   "cell_type": "code",
   "execution_count": null,
   "id": "346f22c9",
   "metadata": {},
   "outputs": [],
   "source": [
    "x_roof = dpe.adedpe202006_logtype_ph_u.to_numpy()\n",
    "len_dens_roof = round((max(x_roof) - min(x_roof))/0.01)+1\n",
    "print(\"len_dens_roof\", len_dens_roof)\n",
    "x_d_roof = np.linspace(min(x_roof), max(x_roof), len_dens_roof)\n",
    "density_roof = sum((abs(xi - x_d_roof) < 0.01) for xi in x_roof)\n",
    "unity_density_roof = density_roof / density_roof.sum()"
   ]
  },
  {
   "cell_type": "code",
   "execution_count": null,
   "id": "eaf9d125",
   "metadata": {},
   "outputs": [],
   "source": [
    "df = pd.DataFrame({'x_d_roof':x_d_roof, \n",
    "                   'density_roof':density_roof,\n",
    "                   'unity_density_roof':unity_density_roof,\n",
    "                  })"
   ]
  },
  {
   "cell_type": "code",
   "execution_count": null,
   "id": "0f06a102",
   "metadata": {},
   "outputs": [],
   "source": [
    "df.sort_values(\"density_roof\")"
   ]
  },
  {
   "cell_type": "code",
   "execution_count": null,
   "id": "35778a3d",
   "metadata": {},
   "outputs": [],
   "source": []
  }
 ],
 "metadata": {
  "kernelspec": {
   "display_name": "Python 3 (ipykernel)",
   "language": "python",
   "name": "python3"
  },
  "language_info": {
   "codemirror_mode": {
    "name": "ipython",
    "version": 3
   },
   "file_extension": ".py",
   "mimetype": "text/x-python",
   "name": "python",
   "nbconvert_exporter": "python",
   "pygments_lexer": "ipython3",
   "version": "3.9.7"
  },
  "toc": {
   "base_numbering": 1,
   "nav_menu": {},
   "number_sections": true,
   "sideBar": true,
   "skip_h1_title": false,
   "title_cell": "Table of Contents",
   "title_sidebar": "Contents",
   "toc_cell": false,
   "toc_position": {},
   "toc_section_display": true,
   "toc_window_display": false
  }
 },
 "nbformat": 4,
 "nbformat_minor": 5
}
