{
 "cells": [
  {
   "cell_type": "code",
   "execution_count": 1,
   "id": "b9ec72dd",
   "metadata": {},
   "outputs": [],
   "source": [
    "# Site DJU\n",
    "# https://www.statistiques.developpement-durable.gouv.fr/indice-de-rigueur-degres-jours-unifies-aux-niveaux-national-regional-et-departemental\n",
    " # site Zone Geo H1...    \n",
    "# https://www.calculcee.fr/article/repartition-departements-francais-zones-climatiques/"
   ]
  },
  {
   "cell_type": "code",
   "execution_count": 2,
   "id": "89719da7",
   "metadata": {},
   "outputs": [],
   "source": [
    "from pathlib import Path\n",
    "from os import listdir\n",
    "import numpy as np\n",
    "import pandas as pd\n",
    "import matplotlib.pyplot as plt\n",
    "import seaborn as sns"
   ]
  },
  {
   "cell_type": "markdown",
   "id": "e5186597",
   "metadata": {},
   "source": [
    "### DJU "
   ]
  },
  {
   "cell_type": "code",
   "execution_count": 3,
   "id": "c49d4096",
   "metadata": {},
   "outputs": [
    {
     "name": "stderr",
     "output_type": "stream",
     "text": [
      "C:\\Users\\ldecarva\\AppData\\Local\\Temp/ipykernel_18380/3809260031.py:4: FutureWarning: Dropping of nuisance columns in DataFrame reductions (with 'numeric_only=None') is deprecated; in a future version this will raise TypeError.  Select only valid columns before calling the reduction.\n",
      "  dju[\"mean\"] = dju.mean(axis=1)\n"
     ]
    },
    {
     "data": {
      "text/html": [
       "<div>\n",
       "<style scoped>\n",
       "    .dataframe tbody tr th:only-of-type {\n",
       "        vertical-align: middle;\n",
       "    }\n",
       "\n",
       "    .dataframe tbody tr th {\n",
       "        vertical-align: top;\n",
       "    }\n",
       "\n",
       "    .dataframe thead th {\n",
       "        text-align: right;\n",
       "    }\n",
       "</style>\n",
       "<table border=\"1\" class=\"dataframe\">\n",
       "  <thead>\n",
       "    <tr style=\"text-align: right;\">\n",
       "      <th></th>\n",
       "      <th>Nom département</th>\n",
       "      <th>1996</th>\n",
       "      <th>1997</th>\n",
       "      <th>1998</th>\n",
       "      <th>1999</th>\n",
       "      <th>2000</th>\n",
       "      <th>2001</th>\n",
       "      <th>2002</th>\n",
       "      <th>2003</th>\n",
       "      <th>2004</th>\n",
       "      <th>...</th>\n",
       "      <th>2013</th>\n",
       "      <th>2014</th>\n",
       "      <th>2015</th>\n",
       "      <th>2016</th>\n",
       "      <th>2017</th>\n",
       "      <th>2018</th>\n",
       "      <th>2019</th>\n",
       "      <th>2020</th>\n",
       "      <th>2021</th>\n",
       "      <th>mean</th>\n",
       "    </tr>\n",
       "    <tr>\n",
       "      <th>Code département</th>\n",
       "      <th></th>\n",
       "      <th></th>\n",
       "      <th></th>\n",
       "      <th></th>\n",
       "      <th></th>\n",
       "      <th></th>\n",
       "      <th></th>\n",
       "      <th></th>\n",
       "      <th></th>\n",
       "      <th></th>\n",
       "      <th></th>\n",
       "      <th></th>\n",
       "      <th></th>\n",
       "      <th></th>\n",
       "      <th></th>\n",
       "      <th></th>\n",
       "      <th></th>\n",
       "      <th></th>\n",
       "      <th></th>\n",
       "      <th></th>\n",
       "      <th></th>\n",
       "    </tr>\n",
       "  </thead>\n",
       "  <tbody>\n",
       "    <tr>\n",
       "      <th>01</th>\n",
       "      <td>AIN</td>\n",
       "      <td>2341.80</td>\n",
       "      <td>2151.50</td>\n",
       "      <td>2349.95</td>\n",
       "      <td>2228.15</td>\n",
       "      <td>2006.70</td>\n",
       "      <td>2132.70</td>\n",
       "      <td>1964.6</td>\n",
       "      <td>2270.30</td>\n",
       "      <td>2323.80</td>\n",
       "      <td>...</td>\n",
       "      <td>2400.05</td>\n",
       "      <td>1759.85</td>\n",
       "      <td>1998.25</td>\n",
       "      <td>2176.65</td>\n",
       "      <td>2138.70</td>\n",
       "      <td>1923.95</td>\n",
       "      <td>2091.85</td>\n",
       "      <td>1937.80</td>\n",
       "      <td>2359.20</td>\n",
       "      <td>2159.017308</td>\n",
       "    </tr>\n",
       "    <tr>\n",
       "      <th>02</th>\n",
       "      <td>AISNE</td>\n",
       "      <td>2741.30</td>\n",
       "      <td>2364.75</td>\n",
       "      <td>2394.05</td>\n",
       "      <td>2266.15</td>\n",
       "      <td>2170.90</td>\n",
       "      <td>2276.00</td>\n",
       "      <td>2139.8</td>\n",
       "      <td>2381.25</td>\n",
       "      <td>2405.10</td>\n",
       "      <td>...</td>\n",
       "      <td>2549.15</td>\n",
       "      <td>1923.25</td>\n",
       "      <td>2105.95</td>\n",
       "      <td>2355.00</td>\n",
       "      <td>2193.80</td>\n",
       "      <td>2143.55</td>\n",
       "      <td>2156.20</td>\n",
       "      <td>1946.90</td>\n",
       "      <td>2368.10</td>\n",
       "      <td>2277.661538</td>\n",
       "    </tr>\n",
       "    <tr>\n",
       "      <th>03</th>\n",
       "      <td>ALLIER</td>\n",
       "      <td>2367.55</td>\n",
       "      <td>2098.35</td>\n",
       "      <td>2304.40</td>\n",
       "      <td>2151.40</td>\n",
       "      <td>1965.70</td>\n",
       "      <td>2161.15</td>\n",
       "      <td>1929.2</td>\n",
       "      <td>2269.30</td>\n",
       "      <td>2312.70</td>\n",
       "      <td>...</td>\n",
       "      <td>2385.75</td>\n",
       "      <td>1794.20</td>\n",
       "      <td>2016.60</td>\n",
       "      <td>2233.00</td>\n",
       "      <td>2096.05</td>\n",
       "      <td>1886.10</td>\n",
       "      <td>1999.90</td>\n",
       "      <td>1789.55</td>\n",
       "      <td>2247.10</td>\n",
       "      <td>2137.478846</td>\n",
       "    </tr>\n",
       "    <tr>\n",
       "      <th>04</th>\n",
       "      <td>ALPES-DE-HAUTE-PROVENCE</td>\n",
       "      <td>2013.85</td>\n",
       "      <td>1736.50</td>\n",
       "      <td>2029.85</td>\n",
       "      <td>1976.75</td>\n",
       "      <td>1844.25</td>\n",
       "      <td>1797.50</td>\n",
       "      <td>1711.8</td>\n",
       "      <td>1989.75</td>\n",
       "      <td>1986.85</td>\n",
       "      <td>...</td>\n",
       "      <td>1955.75</td>\n",
       "      <td>1585.75</td>\n",
       "      <td>1681.50</td>\n",
       "      <td>1776.90</td>\n",
       "      <td>1735.65</td>\n",
       "      <td>1666.55</td>\n",
       "      <td>1728.35</td>\n",
       "      <td>1695.55</td>\n",
       "      <td>1901.95</td>\n",
       "      <td>1841.694231</td>\n",
       "    </tr>\n",
       "    <tr>\n",
       "      <th>05</th>\n",
       "      <td>HAUTES-ALPES</td>\n",
       "      <td>2537.35</td>\n",
       "      <td>2223.70</td>\n",
       "      <td>2497.45</td>\n",
       "      <td>2593.50</td>\n",
       "      <td>2410.90</td>\n",
       "      <td>2338.15</td>\n",
       "      <td>2258.5</td>\n",
       "      <td>2386.50</td>\n",
       "      <td>2472.40</td>\n",
       "      <td>...</td>\n",
       "      <td>2507.00</td>\n",
       "      <td>2125.40</td>\n",
       "      <td>2149.10</td>\n",
       "      <td>2342.45</td>\n",
       "      <td>2275.40</td>\n",
       "      <td>2179.70</td>\n",
       "      <td>2245.55</td>\n",
       "      <td>2080.00</td>\n",
       "      <td>2433.85</td>\n",
       "      <td>2355.130769</td>\n",
       "    </tr>\n",
       "  </tbody>\n",
       "</table>\n",
       "<p>5 rows × 28 columns</p>\n",
       "</div>"
      ],
      "text/plain": [
       "                          Nom département     1996     1997     1998     1999  \\\n",
       "Code département                                                                \n",
       "01                                    AIN  2341.80  2151.50  2349.95  2228.15   \n",
       "02                                  AISNE  2741.30  2364.75  2394.05  2266.15   \n",
       "03                                 ALLIER  2367.55  2098.35  2304.40  2151.40   \n",
       "04                ALPES-DE-HAUTE-PROVENCE  2013.85  1736.50  2029.85  1976.75   \n",
       "05                           HAUTES-ALPES  2537.35  2223.70  2497.45  2593.50   \n",
       "\n",
       "                     2000     2001    2002     2003     2004  ...     2013  \\\n",
       "Code département                                              ...            \n",
       "01                2006.70  2132.70  1964.6  2270.30  2323.80  ...  2400.05   \n",
       "02                2170.90  2276.00  2139.8  2381.25  2405.10  ...  2549.15   \n",
       "03                1965.70  2161.15  1929.2  2269.30  2312.70  ...  2385.75   \n",
       "04                1844.25  1797.50  1711.8  1989.75  1986.85  ...  1955.75   \n",
       "05                2410.90  2338.15  2258.5  2386.50  2472.40  ...  2507.00   \n",
       "\n",
       "                     2014     2015     2016     2017     2018     2019  \\\n",
       "Code département                                                         \n",
       "01                1759.85  1998.25  2176.65  2138.70  1923.95  2091.85   \n",
       "02                1923.25  2105.95  2355.00  2193.80  2143.55  2156.20   \n",
       "03                1794.20  2016.60  2233.00  2096.05  1886.10  1999.90   \n",
       "04                1585.75  1681.50  1776.90  1735.65  1666.55  1728.35   \n",
       "05                2125.40  2149.10  2342.45  2275.40  2179.70  2245.55   \n",
       "\n",
       "                     2020     2021         mean  \n",
       "Code département                                 \n",
       "01                1937.80  2359.20  2159.017308  \n",
       "02                1946.90  2368.10  2277.661538  \n",
       "03                1789.55  2247.10  2137.478846  \n",
       "04                1695.55  1901.95  1841.694231  \n",
       "05                2080.00  2433.85  2355.130769  \n",
       "\n",
       "[5 rows x 28 columns]"
      ]
     },
     "execution_count": 3,
     "metadata": {},
     "output_type": "execute_result"
    }
   ],
   "source": [
    "path_dju = r\"U:\\WORK\\code_gpd\\data_analysis\\analysis_assembled_archetypes\\Anova regression\\dju-dep-1996-2021.xlsx\"\n",
    "dju = pd.read_excel(path_dju, header=3)\n",
    "dju.set_index(\"Code département\", inplace=True)\n",
    "dju[\"mean\"] = dju.mean(axis=1)\n",
    "dju.head()"
   ]
  },
  {
   "cell_type": "code",
   "execution_count": 4,
   "id": "df87ef22",
   "metadata": {},
   "outputs": [],
   "source": [
    "dep_dju_ = dju[[\"mean\"]].dropna().to_dict()[\"mean\"]"
   ]
  },
  {
   "cell_type": "code",
   "execution_count": 5,
   "id": "93bd3083",
   "metadata": {},
   "outputs": [],
   "source": [
    "correct_0_keys = [dep[-1:] if dep.startswith('0') else dep for dep in dep_dju_.keys() ]"
   ]
  },
  {
   "cell_type": "code",
   "execution_count": 6,
   "id": "765ae6fd",
   "metadata": {},
   "outputs": [],
   "source": [
    "dep_dju = dict(zip(correct_0_keys, dep_dju_.values()))"
   ]
  },
  {
   "cell_type": "markdown",
   "id": "576c9e3b",
   "metadata": {},
   "source": [
    "### DPE"
   ]
  },
  {
   "cell_type": "code",
   "execution_count": 98,
   "id": "9668f5bb",
   "metadata": {},
   "outputs": [],
   "source": [
    "u_wall_min = 0.5\n",
    "u_wall_max = 1.11\n",
    "u_roof_min = 0.4\n",
    "u_roof_max = 2.3"
   ]
  },
  {
   "cell_type": "code",
   "execution_count": 7,
   "id": "ae102c38",
   "metadata": {},
   "outputs": [],
   "source": [
    "path = r\"U:\\WORK\\assembled_same_U\\with_complete_dpe_data\\all\\dpe_all3-len_185528-P3-P-HABITAT-FRANCE-toit.csv\""
   ]
  },
  {
   "cell_type": "code",
   "execution_count": 8,
   "id": "2c0526cd",
   "metadata": {},
   "outputs": [
    {
     "name": "stderr",
     "output_type": "stream",
     "text": [
      "C:\\Users\\ldecarva\\Anaconda3\\lib\\site-packages\\IPython\\core\\interactiveshell.py:3444: DtypeWarning: Columns (8,9,37,50,51,52,53,54,55,56,57,75,127,128,130,172,199,205,222,248,250,251,302,303,304) have mixed types.Specify dtype option on import or set low_memory=False.\n",
      "  exec(code_obj, self.user_global_ns, self.user_ns)\n"
     ]
    }
   ],
   "source": [
    "df = pd.read_csv(path, index_col=0)"
   ]
  },
  {
   "cell_type": "code",
   "execution_count": 9,
   "id": "3620641a",
   "metadata": {},
   "outputs": [],
   "source": [
    "cols = list(df.columns)"
   ]
  },
  {
   "cell_type": "code",
   "execution_count": 10,
   "id": "4837f53e",
   "metadata": {},
   "outputs": [
    {
     "data": {
      "text/plain": [
       "array([1, 2, 3, 4, 5, 6, 7, 8, 9, 10, 11, 13, 14, 15, 16, 17, 18, 21, 23,\n",
       "       24, 25, 26, 27, 28, '28', '2A', '2B', '30', 30, 31, 32, 33, 34, 36,\n",
       "       38, 39, 40, 41, 42, 43, 45, 46, 47, 51, 52, 54, 55, 57, 58, 59, 60,\n",
       "       61, 62, 63, 64, 65, 66, 67, 68, 69, 70, 71, 72, 73, 74, 77, 78, 79,\n",
       "       80, 81, 82, 83, 84, 85, 86, 87, 88, 89, 90, 91, 92, 93, 94, 95, 12,\n",
       "       19, 22, 29, 35, 37, 44, 48, 49, 50, 53, 56, 76], dtype=object)"
      ]
     },
     "execution_count": 10,
     "metadata": {},
     "output_type": "execute_result"
    }
   ],
   "source": [
    "df.departement.unique()"
   ]
  },
  {
   "cell_type": "code",
   "execution_count": 11,
   "id": "67a09238",
   "metadata": {},
   "outputs": [
    {
     "data": {
      "text/plain": [
       "int"
      ]
     },
     "execution_count": 11,
     "metadata": {},
     "output_type": "execute_result"
    }
   ],
   "source": [
    "type(df.departement.iloc[0])"
   ]
  },
  {
   "cell_type": "code",
   "execution_count": 12,
   "id": "ab20cd57",
   "metadata": {},
   "outputs": [
    {
     "data": {
      "text/plain": [
       "str"
      ]
     },
     "execution_count": 12,
     "metadata": {},
     "output_type": "execute_result"
    }
   ],
   "source": [
    "df['departement'] = df['departement'].apply(str)\n",
    "type(df.departement.iloc[0])"
   ]
  },
  {
   "cell_type": "code",
   "execution_count": 13,
   "id": "2f6a6aed",
   "metadata": {},
   "outputs": [
    {
     "data": {
      "text/html": [
       "<div>\n",
       "<style scoped>\n",
       "    .dataframe tbody tr th:only-of-type {\n",
       "        vertical-align: middle;\n",
       "    }\n",
       "\n",
       "    .dataframe tbody tr th {\n",
       "        vertical-align: top;\n",
       "    }\n",
       "\n",
       "    .dataframe thead th {\n",
       "        text-align: right;\n",
       "    }\n",
       "</style>\n",
       "<table border=\"1\" class=\"dataframe\">\n",
       "  <thead>\n",
       "    <tr style=\"text-align: right;\">\n",
       "      <th></th>\n",
       "      <th>departement</th>\n",
       "      <th>DJU</th>\n",
       "    </tr>\n",
       "  </thead>\n",
       "  <tbody>\n",
       "    <tr>\n",
       "      <th>1995757</th>\n",
       "      <td>76</td>\n",
       "      <td>2188.682692</td>\n",
       "    </tr>\n",
       "    <tr>\n",
       "      <th>1995760</th>\n",
       "      <td>76</td>\n",
       "      <td>2188.682692</td>\n",
       "    </tr>\n",
       "    <tr>\n",
       "      <th>1995775</th>\n",
       "      <td>76</td>\n",
       "      <td>2188.682692</td>\n",
       "    </tr>\n",
       "    <tr>\n",
       "      <th>1995798</th>\n",
       "      <td>76</td>\n",
       "      <td>2188.682692</td>\n",
       "    </tr>\n",
       "    <tr>\n",
       "      <th>1995810</th>\n",
       "      <td>76</td>\n",
       "      <td>2188.682692</td>\n",
       "    </tr>\n",
       "  </tbody>\n",
       "</table>\n",
       "</div>"
      ],
      "text/plain": [
       "        departement          DJU\n",
       "1995757          76  2188.682692\n",
       "1995760          76  2188.682692\n",
       "1995775          76  2188.682692\n",
       "1995798          76  2188.682692\n",
       "1995810          76  2188.682692"
      ]
     },
     "execution_count": 13,
     "metadata": {},
     "output_type": "execute_result"
    }
   ],
   "source": [
    "df[\"DJU\"] = df[\"departement\"].map(dep_dju)\n",
    "df[[\"departement\", \"DJU\"]].tail()"
   ]
  },
  {
   "cell_type": "markdown",
   "id": "01eb4548",
   "metadata": {},
   "source": [
    "### Correlation "
   ]
  },
  {
   "cell_type": "code",
   "execution_count": 14,
   "id": "cc343332",
   "metadata": {},
   "outputs": [],
   "source": [
    "df_data = df[['filosofi_part_proprietaire',\n",
    " 'filosofi_part_pauvrete','DJU', 'adedpe202006_logtype_ph_u','adedpe202006_logtype_mur_u_ext']]"
   ]
  },
  {
   "cell_type": "code",
   "execution_count": 19,
   "id": "63213eb8",
   "metadata": {},
   "outputs": [
    {
     "data": {
      "text/plain": [
       "<AxesSubplot:>"
      ]
     },
     "execution_count": 19,
     "metadata": {},
     "output_type": "execute_result"
    },
    {
     "data": {
      "image/png": "[encoded data removed]",
      "text/plain": [
       "<Figure size 576x432 with 2 Axes>"
      ]
     },
     "metadata": {
      "needs_background": "light"
     },
     "output_type": "display_data"
    }
   ],
   "source": [
    "plt.rcParams[\"figure.figsize\"] = (8, 6)\n",
    "sns.heatmap(df_data.corr(method=\"pearson\"), annot=True, fmt='.2g' , vmin=-1, vmax=1, cmap=\"bwr_r\",)"
   ]
  },
  {
   "cell_type": "markdown",
   "id": "1e398ce6",
   "metadata": {},
   "source": [
    "### ANOVA "
   ]
  },
  {
   "cell_type": "code",
   "execution_count": 29,
   "id": "8dd7a849",
   "metadata": {},
   "outputs": [],
   "source": [
    "from scipy.stats import f_oneway"
   ]
  },
  {
   "cell_type": "markdown",
   "id": "70706872",
   "metadata": {},
   "source": [
    "'filosofi_part_proprietaire',\n",
    "'filosofi_part_pauvrete',\n",
    "'DJU', \n",
    "'adedpe202006_logtype_ph_u',\n",
    "'adedpe202006_logtype_mur_u_ext']]"
   ]
  },
  {
   "cell_type": "code",
   "execution_count": 40,
   "id": "96c13cea",
   "metadata": {},
   "outputs": [],
   "source": [
    "part_proprieté_lim = [0.5, 0.75, 0.98]\n",
    "part_pauv_lim = [0.02, 0.18, 0.32]"
   ]
  },
  {
   "cell_type": "code",
   "execution_count": 58,
   "id": "bca48a38",
   "metadata": {},
   "outputs": [
    {
     "data": {
      "text/plain": [
       "F_onewayResult(statistic=174.39865127082828, pvalue=6.480913023299696e-113)"
      ]
     },
     "execution_count": 58,
     "metadata": {},
     "output_type": "execute_result"
    }
   ],
   "source": [
    "pauv1 = df[df.filosofi_part_pauvrete < part_pauv_lim[0]].adedpe202006_logtype_mur_u_ext\n",
    "pauv2 = df[(df.filosofi_part_pauvrete >= part_pauv_lim[0])&\n",
    "          (df.filosofi_part_pauvrete < part_pauv_lim[1])].adedpe202006_logtype_mur_u_ext\n",
    "pauv3 = df[(df.filosofi_part_pauvrete >= part_pauv_lim[1])&\n",
    "          (df.filosofi_part_pauvrete < part_pauv_lim[2])].adedpe202006_logtype_mur_u_ext\n",
    "pauv4 = df[df.filosofi_part_pauvrete >= part_pauv_lim[2]].adedpe202006_logtype_mur_u_ext"
   ]
  },
  {
   "cell_type": "code",
   "execution_count": 89,
   "id": "45ba423d",
   "metadata": {},
   "outputs": [],
   "source": [
    "from statsmodels.stats.diagnostic import normal_ad, kstest_fit\n",
    "def check_normality(data):\n",
    "    p_value = kstest_fit(data)[1]\n",
    "    if p_value < 0.05:\n",
    "            print('U values are not normally distributed')\n",
    "    else:\n",
    "            print('U values are normally distributed')"
   ]
  },
  {
   "cell_type": "code",
   "execution_count": 95,
   "id": "b7ca1c8d",
   "metadata": {},
   "outputs": [
    {
     "name": "stdout",
     "output_type": "stream",
     "text": [
      "\n",
      "pauv1\n",
      " len 37203\n",
      " mean 0.776\n",
      " std 0.463\n",
      "U values are not normally distributed\n",
      "\n",
      "pauv2\n",
      " len 128822\n",
      " mean 0.818\n",
      " std 0.491\n",
      "U values are not normally distributed\n",
      "\n",
      "pauv3\n",
      " len 16057\n",
      " mean 0.870\n",
      " std 0.526\n",
      "U values are not normally distributed\n",
      "\n",
      "pauv4\n",
      " len 2508\n",
      " mean 0.903\n",
      " std 0.523\n",
      "U values are not normally distributed\n"
     ]
    }
   ],
   "source": [
    "i=1\n",
    "for pauv in [pauv1, pauv2, pauv3, pauv4]:\n",
    "    print(f\"\\npauv{i}\")\n",
    "    print(f\" len {len(pauv)}\")\n",
    "    print(f\" mean {pauv.mean():.3f}\")\n",
    "    print(f\" std {pauv.std():.3f}\")\n",
    "    check_normality(pauv)\n",
    "    i+=1\n",
    "    "
   ]
  },
  {
   "cell_type": "code",
   "execution_count": 94,
   "id": "23f4a082",
   "metadata": {},
   "outputs": [
    {
     "data": {
      "text/plain": [
       "2.750648767564483e-62"
      ]
     },
     "execution_count": 94,
     "metadata": {},
     "output_type": "execute_result"
    }
   ],
   "source": [
    "from scipy.stats import levene\n",
    "stat, p = levene(pauv1, pauv2, pauv3, pauv4)\n",
    "p\n",
    "# The small p-value suggests that the populations do not have equal variances."
   ]
  },
  {
   "cell_type": "markdown",
   "id": "0dbb959f",
   "metadata": {},
   "source": [
    "The criteria for using anova is not fullfilled, since the data is not normally distributed neither has homoscedasticity"
   ]
  },
  {
   "cell_type": "code",
   "execution_count": 60,
   "id": "4b7aa08d",
   "metadata": {},
   "outputs": [
    {
     "data": {
      "text/plain": [
       "6.480913023299696e-113"
      ]
     },
     "execution_count": 60,
     "metadata": {},
     "output_type": "execute_result"
    }
   ],
   "source": [
    "F, p = f_oneway(pauv1, pauv2, pauv3, pauv4)\n",
    "p"
   ]
  },
  {
   "cell_type": "markdown",
   "id": "f6ebb860",
   "metadata": {},
   "source": [
    "Comme la valeur de p est inférieure à 0,05, l'hypothèse nulle, selon laquelle les moyennes sont égales, peut être vraisemblablement rejetée. C'est-à-dire que les variables qualitatives ont un effet significatif sur la variable quantitative : une moyenne au moins se distingue dans une large mesure au sein de l'échantillon.\n",
    "\n",
    "Mais comme les critères de l'ANOVA ne sont pas respectés, cette analyse n'est pas fiable"
   ]
  },
  {
   "cell_type": "markdown",
   "id": "0d1d14b6",
   "metadata": {},
   "source": [
    "### Chi square "
   ]
  },
  {
   "cell_type": "markdown",
   "id": "c244d3ec",
   "metadata": {},
   "source": [
    "Check if the buildings considered renovated have the same frequences of part proprietaire than the population\n"
   ]
  },
  {
   "cell_type": "code",
   "execution_count": 102,
   "id": "7f7e104a",
   "metadata": {},
   "outputs": [
    {
     "data": {
      "text/html": [
       "<div>\n",
       "<style scoped>\n",
       "    .dataframe tbody tr th:only-of-type {\n",
       "        vertical-align: middle;\n",
       "    }\n",
       "\n",
       "    .dataframe tbody tr th {\n",
       "        vertical-align: top;\n",
       "    }\n",
       "\n",
       "    .dataframe thead th {\n",
       "        text-align: right;\n",
       "    }\n",
       "</style>\n",
       "<table border=\"1\" class=\"dataframe\">\n",
       "  <thead>\n",
       "    <tr style=\"text-align: right;\">\n",
       "      <th></th>\n",
       "      <th>archétype</th>\n",
       "      <th>période</th>\n",
       "      <th>typologie</th>\n",
       "      <th>usage</th>\n",
       "      <th>territoire</th>\n",
       "      <th>carte_territoire_P1</th>\n",
       "      <th>carte_territoire_P2_P7</th>\n",
       "      <th>typologie_mapuce</th>\n",
       "      <th>typologie_mapuce_sigle</th>\n",
       "      <th>typologie_méthode_bdnb</th>\n",
       "      <th>...</th>\n",
       "      <th>adedpe202006_logtype_s_hab</th>\n",
       "      <th>cerffo2020_nb_prop_gest</th>\n",
       "      <th>cerffo2020_nb_gest_pm</th>\n",
       "      <th>cerffo2020_nb_gest_bailleur</th>\n",
       "      <th>cerffo2020_nb_gest</th>\n",
       "      <th>filosofi_part_proprietaire</th>\n",
       "      <th>filosofi_part_pauvrete</th>\n",
       "      <th>geometry_BDNB</th>\n",
       "      <th>DJU</th>\n",
       "      <th>renovated</th>\n",
       "    </tr>\n",
       "  </thead>\n",
       "  <tbody>\n",
       "    <tr>\n",
       "      <th>97</th>\n",
       "      <td>P3-P-HABITAT-FRANCE_TUILE</td>\n",
       "      <td>P3</td>\n",
       "      <td>P</td>\n",
       "      <td>HABITAT</td>\n",
       "      <td>FRANCE_TUILE</td>\n",
       "      <td>FRANCE_TERRE_TUILE</td>\n",
       "      <td>FRANCE_TUILE</td>\n",
       "      <td>NaN</td>\n",
       "      <td>NaN</td>\n",
       "      <td>P</td>\n",
       "      <td>...</td>\n",
       "      <td>108.0</td>\n",
       "      <td>2.0</td>\n",
       "      <td>NaN</td>\n",
       "      <td>NaN</td>\n",
       "      <td>NaN</td>\n",
       "      <td>0.740741</td>\n",
       "      <td>0.074074</td>\n",
       "      <td>MULTIPOLYGON (((848435.3 6563026.1, 848445.2 6...</td>\n",
       "      <td>2159.017308</td>\n",
       "      <td>False</td>\n",
       "    </tr>\n",
       "    <tr>\n",
       "      <th>103</th>\n",
       "      <td>P3-P-HABITAT-FRANCE_TUILE</td>\n",
       "      <td>P3</td>\n",
       "      <td>P</td>\n",
       "      <td>HABITAT</td>\n",
       "      <td>FRANCE_TUILE</td>\n",
       "      <td>FRANCE_TERRE_TUILE</td>\n",
       "      <td>FRANCE_TUILE</td>\n",
       "      <td>NaN</td>\n",
       "      <td>NaN</td>\n",
       "      <td>P</td>\n",
       "      <td>...</td>\n",
       "      <td>89.0</td>\n",
       "      <td>2.0</td>\n",
       "      <td>NaN</td>\n",
       "      <td>NaN</td>\n",
       "      <td>NaN</td>\n",
       "      <td>0.908333</td>\n",
       "      <td>0.000000</td>\n",
       "      <td>MULTIPOLYGON (((848519.9 6562673.5, 848521.3 6...</td>\n",
       "      <td>2159.017308</td>\n",
       "      <td>True</td>\n",
       "    </tr>\n",
       "  </tbody>\n",
       "</table>\n",
       "<p>2 rows × 332 columns</p>\n",
       "</div>"
      ],
      "text/plain": [
       "                     archétype période typologie    usage    territoire  \\\n",
       "97   P3-P-HABITAT-FRANCE_TUILE      P3         P  HABITAT  FRANCE_TUILE   \n",
       "103  P3-P-HABITAT-FRANCE_TUILE      P3         P  HABITAT  FRANCE_TUILE   \n",
       "\n",
       "    carte_territoire_P1 carte_territoire_P2_P7 typologie_mapuce  \\\n",
       "97   FRANCE_TERRE_TUILE           FRANCE_TUILE              NaN   \n",
       "103  FRANCE_TERRE_TUILE           FRANCE_TUILE              NaN   \n",
       "\n",
       "    typologie_mapuce_sigle typologie_méthode_bdnb  ...  \\\n",
       "97                     NaN                      P  ...   \n",
       "103                    NaN                      P  ...   \n",
       "\n",
       "     adedpe202006_logtype_s_hab  cerffo2020_nb_prop_gest  \\\n",
       "97                        108.0                      2.0   \n",
       "103                        89.0                      2.0   \n",
       "\n",
       "     cerffo2020_nb_gest_pm cerffo2020_nb_gest_bailleur  cerffo2020_nb_gest  \\\n",
       "97                     NaN                         NaN                 NaN   \n",
       "103                    NaN                         NaN                 NaN   \n",
       "\n",
       "    filosofi_part_proprietaire filosofi_part_pauvrete  \\\n",
       "97                    0.740741               0.074074   \n",
       "103                   0.908333               0.000000   \n",
       "\n",
       "                                         geometry_BDNB          DJU renovated  \n",
       "97   MULTIPOLYGON (((848435.3 6563026.1, 848445.2 6...  2159.017308     False  \n",
       "103  MULTIPOLYGON (((848519.9 6562673.5, 848521.3 6...  2159.017308      True  \n",
       "\n",
       "[2 rows x 332 columns]"
      ]
     },
     "execution_count": 102,
     "metadata": {},
     "output_type": "execute_result"
    }
   ],
   "source": [
    "df[\"renovated\"] = df.adedpe202006_logtype_mur_u_ext < u_wall_min\n",
    "df.head(2)"
   ]
  },
  {
   "cell_type": "markdown",
   "id": "951996a9",
   "metadata": {},
   "source": [
    "#### checking pauvreté"
   ]
  },
  {
   "cell_type": "code",
   "execution_count": 124,
   "id": "2e35a2d1",
   "metadata": {},
   "outputs": [],
   "source": [
    "df.dropna(subset=[\"filosofi_part_pauvrete\"], inplace=True)\n",
    "part_pauv_lim = [0.02, 0.18, 0.32]\n",
    "pauv_relations = {        \n",
    "    \"Pauv1\": (df.filosofi_part_pauvrete < part_pauv_lim[0]),\n",
    "    \"Pauv2\": ((df.filosofi_part_pauvrete >= part_pauv_lim[0])&\n",
    "              (df.filosofi_part_pauvrete < part_pauv_lim[1])),\n",
    "    \"Pauv3\": ((df.filosofi_part_pauvrete >= part_pauv_lim[1])&\n",
    "              (df.filosofi_part_pauvrete < part_pauv_lim[2])),\n",
    "    \"Pauv4\": (df.filosofi_part_pauvrete >= part_pauv_lim[2])    \n",
    "                }\n",
    "\n",
    "pauv_values = list(pauv_relations.keys())\n",
    "pauv_conditions = list(pauv_relations.values())\n",
    "\n",
    "df[\"class_pauv\"] = np.select(pauv_conditions, pauv_values, default=None)"
   ]
  },
  {
   "cell_type": "code",
   "execution_count": 139,
   "id": "c974195d",
   "metadata": {},
   "outputs": [
    {
     "data": {
      "text/plain": [
       "Pauv2    0.697882\n",
       "Pauv1    0.201544\n",
       "Pauv3    0.086987\n",
       "Pauv4    0.013587\n",
       "Name: class_pauv, dtype: float64"
      ]
     },
     "execution_count": 139,
     "metadata": {},
     "output_type": "execute_result"
    }
   ],
   "source": [
    "f_pop = df.class_pauv.value_counts() / len(df)\n",
    "f_pop"
   ]
  },
  {
   "cell_type": "code",
   "execution_count": 141,
   "id": "de22598e",
   "metadata": {},
   "outputs": [
    {
     "data": {
      "text/plain": [
       "Pauv2    0.692864\n",
       "Pauv1    0.216391\n",
       "Pauv3    0.079815\n",
       "Pauv4    0.010931\n",
       "Name: class_pauv, dtype: float64"
      ]
     },
     "execution_count": 141,
     "metadata": {},
     "output_type": "execute_result"
    }
   ],
   "source": [
    "df_ren = df[df.renovated == True]\n",
    "f_ren = df_ren.class_pauv.value_counts() / len(df_ren)\n",
    "f_ren"
   ]
  },
  {
   "cell_type": "code",
   "execution_count": 151,
   "id": "5bc7681b",
   "metadata": {},
   "outputs": [
    {
     "data": {
      "text/plain": [
       "Power_divergenceResult(statistic=0.0022405827490472705, pvalue=0.9999718117324183)"
      ]
     },
     "execution_count": 151,
     "metadata": {},
     "output_type": "execute_result"
    }
   ],
   "source": [
    "from scipy.stats import chisquare\n",
    "chisquare(list(f_ren), f_exp=list(f_pop))"
   ]
  },
  {
   "cell_type": "markdown",
   "id": "7f288558",
   "metadata": {},
   "source": [
    "**p-value >> 0.05 => do not reject the null hypothesis that the categorical data has the given frequencies.**\n",
    "The frequency of the categories in the renovated group and population are similar"
   ]
  },
  {
   "cell_type": "markdown",
   "id": "027c0171",
   "metadata": {},
   "source": [
    "#### checking proprieté"
   ]
  },
  {
   "cell_type": "code",
   "execution_count": 152,
   "id": "519bd7a9",
   "metadata": {},
   "outputs": [],
   "source": [
    "df.dropna(subset=[\"filosofi_part_proprietaire\"], inplace=True)\n",
    "part_proprieté_lim = [0.5, 0.75, 0.98]\n",
    "prop_relations = {        \n",
    "    \"Prop1\": (df.filosofi_part_proprietaire < part_proprieté_lim[0]),\n",
    "    \"Prop2\": ((df.filosofi_part_proprietaire >= part_proprieté_lim[0])&\n",
    "              (df.filosofi_part_proprietaire < part_proprieté_lim[1])),\n",
    "    \"Prop3\": ((df.filosofi_part_proprietaire >= part_proprieté_lim[1])&\n",
    "              (df.filosofi_part_proprietaire < part_proprieté_lim[2])),\n",
    "    \"Prop4\": (df.filosofi_part_proprietaire >= part_proprieté_lim[2])    \n",
    "                }\n",
    "\n",
    "prop_values = list(prop_relations.keys())\n",
    "prop_conditions = list(prop_relations.values())\n",
    "\n",
    "df[\"class_prop\"] = np.select(prop_conditions, prop_values, default=None)"
   ]
  },
  {
   "cell_type": "code",
   "execution_count": 153,
   "id": "3469f8aa",
   "metadata": {},
   "outputs": [
    {
     "data": {
      "text/plain": [
       "Prop3    0.632754\n",
       "Prop2    0.192876\n",
       "Prop1    0.091061\n",
       "Prop4    0.083309\n",
       "Name: class_prop, dtype: float64"
      ]
     },
     "execution_count": 153,
     "metadata": {},
     "output_type": "execute_result"
    }
   ],
   "source": [
    "f_pop_prop = df.class_prop.value_counts() / len(df)\n",
    "f_pop_prop"
   ]
  },
  {
   "cell_type": "code",
   "execution_count": 155,
   "id": "ad696554",
   "metadata": {},
   "outputs": [
    {
     "data": {
      "text/plain": [
       "Prop3    0.637744\n",
       "Prop2    0.186771\n",
       "Prop4    0.092307\n",
       "Prop1    0.083179\n",
       "Name: class_prop, dtype: float64"
      ]
     },
     "execution_count": 155,
     "metadata": {},
     "output_type": "execute_result"
    }
   ],
   "source": [
    "df_ren_prop = df[df.renovated == True]\n",
    "f_ren_prop = df_ren_prop.class_prop.value_counts() / len(df_ren_prop)\n",
    "f_ren_prop"
   ]
  },
  {
   "cell_type": "code",
   "execution_count": 156,
   "id": "f3c282af",
   "metadata": {},
   "outputs": [
    {
     "data": {
      "text/plain": [
       "Power_divergenceResult(statistic=0.0002498613179158019, pvalue=0.9999989496481795)"
      ]
     },
     "execution_count": 156,
     "metadata": {},
     "output_type": "execute_result"
    }
   ],
   "source": [
    "from scipy.stats import chisquare\n",
    "chisquare(list(f_ren_prop), f_exp=list(f_pop_prop))"
   ]
  },
  {
   "cell_type": "markdown",
   "id": "3c5e84f3",
   "metadata": {},
   "source": [
    "**p-value >> 0.05 => do not reject the null hypothesis that the categorical data has the given frequencies.**\n",
    "The frequency of the categories in the renovated group and population are similar"
   ]
  }
 ],
 "metadata": {
  "kernelspec": {
   "display_name": "Python 3 (ipykernel)",
   "language": "python",
   "name": "python3"
  },
  "language_info": {
   "codemirror_mode": {
    "name": "ipython",
    "version": 3
   },
   "file_extension": ".py",
   "mimetype": "text/x-python",
   "name": "python",
   "nbconvert_exporter": "python",
   "pygments_lexer": "ipython3",
   "version": "3.9.7"
  },
  "toc": {
   "base_numbering": 1,
   "nav_menu": {},
   "number_sections": true,
   "sideBar": true,
   "skip_h1_title": false,
   "title_cell": "Table of Contents",
   "title_sidebar": "Contents",
   "toc_cell": false,
   "toc_position": {
    "height": "calc(100% - 180px)",
    "left": "10px",
    "top": "150px",
    "width": "165px"
   },
   "toc_section_display": true,
   "toc_window_display": true
  }
 },
 "nbformat": 4,
 "nbformat_minor": 5
}
