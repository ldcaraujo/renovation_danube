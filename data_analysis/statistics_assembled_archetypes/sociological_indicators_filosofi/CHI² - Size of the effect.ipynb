{
 "cells": [
  {
   "cell_type": "code",
   "execution_count": 1,
   "id": "14305318",
   "metadata": {},
   "outputs": [],
   "source": [
    "from pathlib import Path\n",
    "from os import listdir\n",
    "import numpy as np\n",
    "import pandas as pd\n",
    "import matplotlib.pyplot as plt\n",
    "import seaborn as sns"
   ]
  },
  {
   "cell_type": "code",
   "execution_count": 2,
   "id": "892bd82a",
   "metadata": {},
   "outputs": [],
   "source": [
    "from scipy.stats import chi2, chi2_contingency, contingency"
   ]
  },
  {
   "cell_type": "markdown",
   "id": "62f271bd",
   "metadata": {},
   "source": [
    "## Read data "
   ]
  },
  {
   "cell_type": "markdown",
   "id": "89772672",
   "metadata": {},
   "source": [
    "### DPE data"
   ]
  },
  {
   "cell_type": "code",
   "execution_count": 3,
   "id": "c686094e",
   "metadata": {},
   "outputs": [],
   "source": [
    "u_wall_min = 0.5\n",
    "u_wall_max = 1.11\n",
    "u_roof_min = 0.4\n",
    "u_roof_max = 2.3"
   ]
  },
  {
   "cell_type": "code",
   "execution_count": 4,
   "id": "9e1ab8c0",
   "metadata": {},
   "outputs": [],
   "source": [
    "# path = r\"U:\\WORK\\assembled_same_U\\with_complete_dpe_data\\all\\dpe_all3-len_185528-P3-P-HABITAT-FRANCE-toit.csv\""
   ]
  },
  {
   "cell_type": "code",
   "execution_count": 5,
   "id": "f4a55b49",
   "metadata": {},
   "outputs": [],
   "source": [
    "path = r\"E:\\Paendora2\\Paendora2_data\\gpd_sorting_output\\concat_archetypes\\joining_after_final_selection\\assembled_by_roof_and_rock_wall\\len_1995870-P3-P-HABITAT-FRANCE-toit.csv\""
   ]
  },
  {
   "cell_type": "code",
   "execution_count": 6,
   "id": "f4d8beb1",
   "metadata": {},
   "outputs": [
    {
     "name": "stderr",
     "output_type": "stream",
     "text": [
      "C:\\Users\\ldecarva\\Anaconda3\\lib\\site-packages\\IPython\\core\\interactiveshell.py:3444: DtypeWarning: Columns (7,8,20,21,22,24,25,30,31,36,49,50,51,52,53,54,55,56,74,126,127,129,131,132,134,135,136,137,139,140,141,142,143,144,145,147,148,149,150,151,152,153,154,156,157,158,159,161,162,163,164,167,168,169,171,172,173,174,192,194,198,199,200,204,221,247,249,250,294,298,299,300,301,302,303,304) have mixed types.Specify dtype option on import or set low_memory=False.\n",
      "  exec(code_obj, self.user_global_ns, self.user_ns)\n"
     ]
    }
   ],
   "source": [
    "pop = pd.read_csv(path, index_col=0)"
   ]
  },
  {
   "cell_type": "markdown",
   "id": "147119e8",
   "metadata": {},
   "source": [
    "### Weather data"
   ]
  },
  {
   "cell_type": "markdown",
   "id": "c7930ed5",
   "metadata": {},
   "source": [
    "#### DJU"
   ]
  },
  {
   "cell_type": "code",
   "execution_count": 262,
   "id": "c6b6b3f4",
   "metadata": {},
   "outputs": [
    {
     "name": "stderr",
     "output_type": "stream",
     "text": [
      "C:\\Users\\ldecarva\\AppData\\Local\\Temp/ipykernel_19376/783168197.py:4: FutureWarning: Dropping of nuisance columns in DataFrame reductions (with 'numeric_only=None') is deprecated; in a future version this will raise TypeError.  Select only valid columns before calling the reduction.\n",
      "  dju[\"mean\"] = dju.mean(axis=1)\n"
     ]
    },
    {
     "data": {
      "text/html": [
       "<div>\n",
       "<style scoped>\n",
       "    .dataframe tbody tr th:only-of-type {\n",
       "        vertical-align: middle;\n",
       "    }\n",
       "\n",
       "    .dataframe tbody tr th {\n",
       "        vertical-align: top;\n",
       "    }\n",
       "\n",
       "    .dataframe thead th {\n",
       "        text-align: right;\n",
       "    }\n",
       "</style>\n",
       "<table border=\"1\" class=\"dataframe\">\n",
       "  <thead>\n",
       "    <tr style=\"text-align: right;\">\n",
       "      <th></th>\n",
       "      <th>Nom département</th>\n",
       "      <th>1996</th>\n",
       "      <th>1997</th>\n",
       "      <th>1998</th>\n",
       "      <th>1999</th>\n",
       "      <th>2000</th>\n",
       "      <th>2001</th>\n",
       "      <th>2002</th>\n",
       "      <th>2003</th>\n",
       "      <th>2004</th>\n",
       "      <th>...</th>\n",
       "      <th>2013</th>\n",
       "      <th>2014</th>\n",
       "      <th>2015</th>\n",
       "      <th>2016</th>\n",
       "      <th>2017</th>\n",
       "      <th>2018</th>\n",
       "      <th>2019</th>\n",
       "      <th>2020</th>\n",
       "      <th>2021</th>\n",
       "      <th>mean</th>\n",
       "    </tr>\n",
       "    <tr>\n",
       "      <th>Code département</th>\n",
       "      <th></th>\n",
       "      <th></th>\n",
       "      <th></th>\n",
       "      <th></th>\n",
       "      <th></th>\n",
       "      <th></th>\n",
       "      <th></th>\n",
       "      <th></th>\n",
       "      <th></th>\n",
       "      <th></th>\n",
       "      <th></th>\n",
       "      <th></th>\n",
       "      <th></th>\n",
       "      <th></th>\n",
       "      <th></th>\n",
       "      <th></th>\n",
       "      <th></th>\n",
       "      <th></th>\n",
       "      <th></th>\n",
       "      <th></th>\n",
       "      <th></th>\n",
       "    </tr>\n",
       "  </thead>\n",
       "  <tbody>\n",
       "    <tr>\n",
       "      <th>01</th>\n",
       "      <td>AIN</td>\n",
       "      <td>2341.80</td>\n",
       "      <td>2151.50</td>\n",
       "      <td>2349.95</td>\n",
       "      <td>2228.15</td>\n",
       "      <td>2006.70</td>\n",
       "      <td>2132.70</td>\n",
       "      <td>1964.6</td>\n",
       "      <td>2270.30</td>\n",
       "      <td>2323.80</td>\n",
       "      <td>...</td>\n",
       "      <td>2400.05</td>\n",
       "      <td>1759.85</td>\n",
       "      <td>1998.25</td>\n",
       "      <td>2176.65</td>\n",
       "      <td>2138.70</td>\n",
       "      <td>1923.95</td>\n",
       "      <td>2091.85</td>\n",
       "      <td>1937.80</td>\n",
       "      <td>2359.20</td>\n",
       "      <td>2159.017308</td>\n",
       "    </tr>\n",
       "    <tr>\n",
       "      <th>02</th>\n",
       "      <td>AISNE</td>\n",
       "      <td>2741.30</td>\n",
       "      <td>2364.75</td>\n",
       "      <td>2394.05</td>\n",
       "      <td>2266.15</td>\n",
       "      <td>2170.90</td>\n",
       "      <td>2276.00</td>\n",
       "      <td>2139.8</td>\n",
       "      <td>2381.25</td>\n",
       "      <td>2405.10</td>\n",
       "      <td>...</td>\n",
       "      <td>2549.15</td>\n",
       "      <td>1923.25</td>\n",
       "      <td>2105.95</td>\n",
       "      <td>2355.00</td>\n",
       "      <td>2193.80</td>\n",
       "      <td>2143.55</td>\n",
       "      <td>2156.20</td>\n",
       "      <td>1946.90</td>\n",
       "      <td>2368.10</td>\n",
       "      <td>2277.661538</td>\n",
       "    </tr>\n",
       "    <tr>\n",
       "      <th>03</th>\n",
       "      <td>ALLIER</td>\n",
       "      <td>2367.55</td>\n",
       "      <td>2098.35</td>\n",
       "      <td>2304.40</td>\n",
       "      <td>2151.40</td>\n",
       "      <td>1965.70</td>\n",
       "      <td>2161.15</td>\n",
       "      <td>1929.2</td>\n",
       "      <td>2269.30</td>\n",
       "      <td>2312.70</td>\n",
       "      <td>...</td>\n",
       "      <td>2385.75</td>\n",
       "      <td>1794.20</td>\n",
       "      <td>2016.60</td>\n",
       "      <td>2233.00</td>\n",
       "      <td>2096.05</td>\n",
       "      <td>1886.10</td>\n",
       "      <td>1999.90</td>\n",
       "      <td>1789.55</td>\n",
       "      <td>2247.10</td>\n",
       "      <td>2137.478846</td>\n",
       "    </tr>\n",
       "    <tr>\n",
       "      <th>04</th>\n",
       "      <td>ALPES-DE-HAUTE-PROVENCE</td>\n",
       "      <td>2013.85</td>\n",
       "      <td>1736.50</td>\n",
       "      <td>2029.85</td>\n",
       "      <td>1976.75</td>\n",
       "      <td>1844.25</td>\n",
       "      <td>1797.50</td>\n",
       "      <td>1711.8</td>\n",
       "      <td>1989.75</td>\n",
       "      <td>1986.85</td>\n",
       "      <td>...</td>\n",
       "      <td>1955.75</td>\n",
       "      <td>1585.75</td>\n",
       "      <td>1681.50</td>\n",
       "      <td>1776.90</td>\n",
       "      <td>1735.65</td>\n",
       "      <td>1666.55</td>\n",
       "      <td>1728.35</td>\n",
       "      <td>1695.55</td>\n",
       "      <td>1901.95</td>\n",
       "      <td>1841.694231</td>\n",
       "    </tr>\n",
       "    <tr>\n",
       "      <th>05</th>\n",
       "      <td>HAUTES-ALPES</td>\n",
       "      <td>2537.35</td>\n",
       "      <td>2223.70</td>\n",
       "      <td>2497.45</td>\n",
       "      <td>2593.50</td>\n",
       "      <td>2410.90</td>\n",
       "      <td>2338.15</td>\n",
       "      <td>2258.5</td>\n",
       "      <td>2386.50</td>\n",
       "      <td>2472.40</td>\n",
       "      <td>...</td>\n",
       "      <td>2507.00</td>\n",
       "      <td>2125.40</td>\n",
       "      <td>2149.10</td>\n",
       "      <td>2342.45</td>\n",
       "      <td>2275.40</td>\n",
       "      <td>2179.70</td>\n",
       "      <td>2245.55</td>\n",
       "      <td>2080.00</td>\n",
       "      <td>2433.85</td>\n",
       "      <td>2355.130769</td>\n",
       "    </tr>\n",
       "  </tbody>\n",
       "</table>\n",
       "<p>5 rows × 28 columns</p>\n",
       "</div>"
      ],
      "text/plain": [
       "                          Nom département     1996     1997     1998     1999  \\\n",
       "Code département                                                                \n",
       "01                                    AIN  2341.80  2151.50  2349.95  2228.15   \n",
       "02                                  AISNE  2741.30  2364.75  2394.05  2266.15   \n",
       "03                                 ALLIER  2367.55  2098.35  2304.40  2151.40   \n",
       "04                ALPES-DE-HAUTE-PROVENCE  2013.85  1736.50  2029.85  1976.75   \n",
       "05                           HAUTES-ALPES  2537.35  2223.70  2497.45  2593.50   \n",
       "\n",
       "                     2000     2001    2002     2003     2004  ...     2013  \\\n",
       "Code département                                              ...            \n",
       "01                2006.70  2132.70  1964.6  2270.30  2323.80  ...  2400.05   \n",
       "02                2170.90  2276.00  2139.8  2381.25  2405.10  ...  2549.15   \n",
       "03                1965.70  2161.15  1929.2  2269.30  2312.70  ...  2385.75   \n",
       "04                1844.25  1797.50  1711.8  1989.75  1986.85  ...  1955.75   \n",
       "05                2410.90  2338.15  2258.5  2386.50  2472.40  ...  2507.00   \n",
       "\n",
       "                     2014     2015     2016     2017     2018     2019  \\\n",
       "Code département                                                         \n",
       "01                1759.85  1998.25  2176.65  2138.70  1923.95  2091.85   \n",
       "02                1923.25  2105.95  2355.00  2193.80  2143.55  2156.20   \n",
       "03                1794.20  2016.60  2233.00  2096.05  1886.10  1999.90   \n",
       "04                1585.75  1681.50  1776.90  1735.65  1666.55  1728.35   \n",
       "05                2125.40  2149.10  2342.45  2275.40  2179.70  2245.55   \n",
       "\n",
       "                     2020     2021         mean  \n",
       "Code département                                 \n",
       "01                1937.80  2359.20  2159.017308  \n",
       "02                1946.90  2368.10  2277.661538  \n",
       "03                1789.55  2247.10  2137.478846  \n",
       "04                1695.55  1901.95  1841.694231  \n",
       "05                2080.00  2433.85  2355.130769  \n",
       "\n",
       "[5 rows x 28 columns]"
      ]
     },
     "execution_count": 262,
     "metadata": {},
     "output_type": "execute_result"
    }
   ],
   "source": [
    "# path_dju = r\"E:/Paendora2/Paendora2_data/input_data/Others/Climate_zone/input data meteo/dju-dep-1996-2021.xlsx\"\n",
    "path_dju = r\"input data meteo/dju-dep-1996-2021.xlsx\"\n",
    "dju = pd.read_excel(path_dju, header=3)\n",
    "dju.set_index(\"Code département\", inplace=True)\n",
    "dju[\"mean\"] = dju.mean(axis=1)\n",
    "dju.head()"
   ]
  },
  {
   "cell_type": "code",
   "execution_count": 195,
   "id": "07375365",
   "metadata": {},
   "outputs": [],
   "source": [
    "dep_dju_ = dju[[\"mean\"]].dropna().to_dict()[\"mean\"]\n",
    "correct_0_keys = [dep[-1:] if dep.startswith('0') else dep for dep in dep_dju_.keys() ]\n",
    "dep_dju = dict(zip(correct_0_keys, dep_dju_.values()))"
   ]
  },
  {
   "cell_type": "code",
   "execution_count": 196,
   "id": "1a7db5c3",
   "metadata": {},
   "outputs": [
    {
     "data": {
      "text/plain": [
       "str"
      ]
     },
     "execution_count": 196,
     "metadata": {},
     "output_type": "execute_result"
    }
   ],
   "source": [
    "pop['departement'] = pop['departement'].apply(str)\n",
    "type(pop.departement.iloc[0])"
   ]
  },
  {
   "cell_type": "code",
   "execution_count": 197,
   "id": "914c71ea",
   "metadata": {},
   "outputs": [
    {
     "data": {
      "text/html": [
       "<div>\n",
       "<style scoped>\n",
       "    .dataframe tbody tr th:only-of-type {\n",
       "        vertical-align: middle;\n",
       "    }\n",
       "\n",
       "    .dataframe tbody tr th {\n",
       "        vertical-align: top;\n",
       "    }\n",
       "\n",
       "    .dataframe thead th {\n",
       "        text-align: right;\n",
       "    }\n",
       "</style>\n",
       "<table border=\"1\" class=\"dataframe\">\n",
       "  <thead>\n",
       "    <tr style=\"text-align: right;\">\n",
       "      <th></th>\n",
       "      <th>departement</th>\n",
       "      <th>DJU</th>\n",
       "    </tr>\n",
       "    <tr>\n",
       "      <th>archétype</th>\n",
       "      <th></th>\n",
       "      <th></th>\n",
       "    </tr>\n",
       "  </thead>\n",
       "  <tbody>\n",
       "    <tr>\n",
       "      <th>P3-P-HABITAT-FRANCE_ARDOISE</th>\n",
       "      <td>76</td>\n",
       "      <td>2188.682692</td>\n",
       "    </tr>\n",
       "    <tr>\n",
       "      <th>P3-P-HABITAT-FRANCE_ARDOISE</th>\n",
       "      <td>76</td>\n",
       "      <td>2188.682692</td>\n",
       "    </tr>\n",
       "    <tr>\n",
       "      <th>P3-P-HABITAT-FRANCE_ARDOISE</th>\n",
       "      <td>76</td>\n",
       "      <td>2188.682692</td>\n",
       "    </tr>\n",
       "    <tr>\n",
       "      <th>P3-P-HABITAT-FRANCE_ARDOISE</th>\n",
       "      <td>76</td>\n",
       "      <td>2188.682692</td>\n",
       "    </tr>\n",
       "    <tr>\n",
       "      <th>P3-P-HABITAT-FRANCE_ARDOISE</th>\n",
       "      <td>76</td>\n",
       "      <td>2188.682692</td>\n",
       "    </tr>\n",
       "  </tbody>\n",
       "</table>\n",
       "</div>"
      ],
      "text/plain": [
       "                            departement          DJU\n",
       "archétype                                           \n",
       "P3-P-HABITAT-FRANCE_ARDOISE          76  2188.682692\n",
       "P3-P-HABITAT-FRANCE_ARDOISE          76  2188.682692\n",
       "P3-P-HABITAT-FRANCE_ARDOISE          76  2188.682692\n",
       "P3-P-HABITAT-FRANCE_ARDOISE          76  2188.682692\n",
       "P3-P-HABITAT-FRANCE_ARDOISE          76  2188.682692"
      ]
     },
     "execution_count": 197,
     "metadata": {},
     "output_type": "execute_result"
    }
   ],
   "source": [
    "pop[\"DJU\"] = pop[\"departement\"].map(dep_dju)\n",
    "pop[[\"departement\", \"DJU\"]].tail()"
   ]
  },
  {
   "cell_type": "markdown",
   "id": "7f54dd4f",
   "metadata": {},
   "source": [
    "## Add categories "
   ]
  },
  {
   "cell_type": "code",
   "execution_count": 198,
   "id": "87e3bafe",
   "metadata": {},
   "outputs": [
    {
     "data": {
      "text/html": [
       "<div>\n",
       "<style scoped>\n",
       "    .dataframe tbody tr th:only-of-type {\n",
       "        vertical-align: middle;\n",
       "    }\n",
       "\n",
       "    .dataframe tbody tr th {\n",
       "        vertical-align: top;\n",
       "    }\n",
       "\n",
       "    .dataframe thead th {\n",
       "        text-align: right;\n",
       "    }\n",
       "</style>\n",
       "<table border=\"1\" class=\"dataframe\">\n",
       "  <thead>\n",
       "    <tr style=\"text-align: right;\">\n",
       "      <th></th>\n",
       "      <th>mean</th>\n",
       "      <th>std</th>\n",
       "      <th>min</th>\n",
       "      <th>25%</th>\n",
       "      <th>50%</th>\n",
       "      <th>75%</th>\n",
       "      <th>max</th>\n",
       "    </tr>\n",
       "  </thead>\n",
       "  <tbody>\n",
       "    <tr>\n",
       "      <th>Taux de pauvrété</th>\n",
       "      <td>0.082091</td>\n",
       "      <td>0.075801</td>\n",
       "      <td>0.000000</td>\n",
       "      <td>0.028571</td>\n",
       "      <td>0.066667</td>\n",
       "      <td>0.117647</td>\n",
       "      <td>0.783476</td>\n",
       "    </tr>\n",
       "    <tr>\n",
       "      <th>Taux de proprietaire</th>\n",
       "      <td>0.792527</td>\n",
       "      <td>0.193090</td>\n",
       "      <td>0.000000</td>\n",
       "      <td>0.720000</td>\n",
       "      <td>0.851852</td>\n",
       "      <td>0.928571</td>\n",
       "      <td>1.000000</td>\n",
       "    </tr>\n",
       "    <tr>\n",
       "      <th>Degré jour unifié</th>\n",
       "      <td>1937.353567</td>\n",
       "      <td>311.950680</td>\n",
       "      <td>1022.021154</td>\n",
       "      <td>1766.434615</td>\n",
       "      <td>2011.625000</td>\n",
       "      <td>2155.253846</td>\n",
       "      <td>2742.946154</td>\n",
       "    </tr>\n",
       "  </tbody>\n",
       "</table>\n",
       "</div>"
      ],
      "text/plain": [
       "                             mean         std          min          25%  \\\n",
       "Taux de pauvrété         0.082091    0.075801     0.000000     0.028571   \n",
       "Taux de proprietaire     0.792527    0.193090     0.000000     0.720000   \n",
       "Degré jour unifié     1937.353567  311.950680  1022.021154  1766.434615   \n",
       "\n",
       "                              50%          75%          max  \n",
       "Taux de pauvrété         0.066667     0.117647     0.783476  \n",
       "Taux de proprietaire     0.851852     0.928571     1.000000  \n",
       "Degré jour unifié     2011.625000  2155.253846  2742.946154  "
      ]
     },
     "execution_count": 198,
     "metadata": {},
     "output_type": "execute_result"
    }
   ],
   "source": [
    "desc_pauv = samp.filosofi_part_pauvrete.describe()[1:]\n",
    "desc_prop = samp.filosofi_part_proprietaire.describe()[1:]\n",
    "desc_dju = samp.DJU.describe()[1:]\n",
    "desc_vars = pd.concat([desc_pauv,desc_prop, desc_dju], axis=1)\n",
    "desc_vars.columns = [\"Taux de pauvrété\",\"Taux de proprietaire\",\"Degré jour unifié\"]\n",
    "desc_vars.T.to_excel(\"describe_3_var_num.xlsx\")\n",
    "desc_vars.T"
   ]
  },
  {
   "cell_type": "markdown",
   "id": "3eb3e585",
   "metadata": {},
   "source": [
    "### define dju catgories\n",
    "- categories based on the quartiles "
   ]
  },
  {
   "cell_type": "code",
   "execution_count": 199,
   "id": "90af920d",
   "metadata": {},
   "outputs": [
    {
     "data": {
      "text/plain": [
       "count      96.000000\n",
       "mean     1964.803085\n",
       "std       357.959874\n",
       "min      1022.021154\n",
       "25%      1766.212019\n",
       "50%      2015.548077\n",
       "75%      2219.156250\n",
       "max      2742.946154\n",
       "Name: mean, dtype: float64"
      ]
     },
     "execution_count": 199,
     "metadata": {},
     "output_type": "execute_result"
    }
   ],
   "source": [
    "dju[\"mean\"].describe()"
   ]
  },
  {
   "cell_type": "code",
   "execution_count": 200,
   "id": "df57a598",
   "metadata": {},
   "outputs": [],
   "source": [
    "dju_relations = {        \n",
    "    \"niv_dju_1\": (pop.DJU < 1766.20),\n",
    "    \"niv_dju_2\": ((pop.DJU >= 1766.20)&\n",
    "              (pop.DJU < 2015.55)),\n",
    "    \"niv_dju_3\": ((pop.DJU >= 2015.55)&\n",
    "              (pop.DJU < 2219.15)),\n",
    "    \"niv_dju_4\": (pop.DJU >= 2219.15)    \n",
    "                }\n",
    "\n",
    "dju_values = list(dju_relations.keys())\n",
    "dju_conditions = list(dju_relations.values())\n",
    "\n",
    "pop[\"class_dju\"] = np.select(dju_conditions, dju_values, default=None)"
   ]
  },
  {
   "cell_type": "code",
   "execution_count": 201,
   "id": "6486e316",
   "metadata": {},
   "outputs": [
    {
     "data": {
      "text/plain": [
       "Text(0.5, 0, 'DJU')"
      ]
     },
     "execution_count": 201,
     "metadata": {},
     "output_type": "execute_result"
    },
    {
     "data": {
      "image/png": "[encoded data removed]",
      "text/plain": [
       "<Figure size 432x288 with 1 Axes>"
      ]
     },
     "metadata": {
      "needs_background": "light"
     },
     "output_type": "display_data"
    }
   ],
   "source": [
    "dju_lim = [1766.20, 2015.55, 2219.15]\n",
    "ax = pop.DJU.hist(bins=100)\n",
    "for lim in dju_lim:\n",
    "    ax.axvline(x=lim, c='r')\n",
    "plt.title(\"Histogramme degré jour unifié\")\n",
    "plt.ylabel(\"Fréquence\")\n",
    "plt.xlabel(\"DJU\")"
   ]
  },
  {
   "cell_type": "markdown",
   "id": "0248b953",
   "metadata": {},
   "source": [
    "### define filosofi categories\n",
    "- based on Marion's study in the natinal level"
   ]
  },
  {
   "cell_type": "code",
   "execution_count": 202,
   "id": "8661108d",
   "metadata": {},
   "outputs": [],
   "source": [
    "part_pauv_lim = [0.02, 0.18, 0.32]\n",
    "part_prop_lim = [0.5, 0.75, 0.98]"
   ]
  },
  {
   "cell_type": "code",
   "execution_count": 203,
   "id": "c69ac144",
   "metadata": {},
   "outputs": [
    {
     "data": {
      "text/plain": [
       "count    1.961698e+06\n",
       "mean     8.661546e-02\n",
       "std      7.904570e-02\n",
       "min      0.000000e+00\n",
       "25%      3.030300e-02\n",
       "50%      7.032100e-02\n",
       "75%      1.250000e-01\n",
       "max      8.108110e-01\n",
       "Name: filosofi_part_pauvrete, dtype: float64"
      ]
     },
     "execution_count": 203,
     "metadata": {},
     "output_type": "execute_result"
    }
   ],
   "source": [
    "pop.filosofi_part_pauvrete.describe()"
   ]
  },
  {
   "cell_type": "code",
   "execution_count": 204,
   "id": "57e8dbed",
   "metadata": {},
   "outputs": [
    {
     "data": {
      "text/plain": [
       "Text(0.5, 0, 'Taux de pauvreté')"
      ]
     },
     "execution_count": 204,
     "metadata": {},
     "output_type": "execute_result"
    },
    {
     "data": {
      "image/png": "[encoded data removed]",
      "text/plain": [
       "<Figure size 432x288 with 1 Axes>"
      ]
     },
     "metadata": {
      "needs_background": "light"
     },
     "output_type": "display_data"
    }
   ],
   "source": [
    "ax = pop.filosofi_part_pauvrete.hist(bins=100)\n",
    "for lim in part_pauv_lim:\n",
    "    ax.axvline(x=lim, c='r')\n",
    "plt.title(\"Histogramme taux pauvreté\")\n",
    "plt.ylabel(\"Fréquence\")\n",
    "plt.xlabel(\"Taux de pauvreté\")"
   ]
  },
  {
   "cell_type": "code",
   "execution_count": 205,
   "id": "588488c1",
   "metadata": {},
   "outputs": [
    {
     "data": {
      "text/plain": [
       "Text(0.5, 0, 'Taux de propriétaire')"
      ]
     },
     "execution_count": 205,
     "metadata": {},
     "output_type": "execute_result"
    },
    {
     "data": {
      "image/png": "[encoded data removed]",
      "text/plain": [
       "<Figure size 432x288 with 1 Axes>"
      ]
     },
     "metadata": {
      "needs_background": "light"
     },
     "output_type": "display_data"
    }
   ],
   "source": [
    "ax = pop.filosofi_part_proprietaire.hist(bins=100)\n",
    "for lim in part_prop_lim:\n",
    "    ax.axvline(x=lim, c='r')\n",
    "plt.title(\"Histogramme taux propriétaire\")\n",
    "plt.ylabel(\"Fréquence\")\n",
    "plt.xlabel(\"Taux de propriétaire\")"
   ]
  },
  {
   "cell_type": "code",
   "execution_count": 206,
   "id": "f6667791",
   "metadata": {},
   "outputs": [],
   "source": [
    "pop.dropna(subset=[\"filosofi_part_proprietaire\"], inplace=True)\n",
    "prop_relations = {        \n",
    "    \"niv_prop_1\": (pop.filosofi_part_proprietaire < part_prop_lim[0]),\n",
    "    \"niv_prop_2\": ((pop.filosofi_part_proprietaire >= part_prop_lim[0])&\n",
    "              (pop.filosofi_part_proprietaire < part_prop_lim[1])),\n",
    "    \"niv_prop_3\": ((pop.filosofi_part_proprietaire >= part_prop_lim[1])&\n",
    "              (pop.filosofi_part_proprietaire < part_prop_lim[2])),\n",
    "    \"niv_prop_4\": (pop.filosofi_part_proprietaire >= part_prop_lim[2])    \n",
    "                }\n",
    "\n",
    "prop_values = list(prop_relations.keys())\n",
    "prop_conditions = list(prop_relations.values())\n",
    "\n",
    "pop[\"class_prop\"] = np.select(prop_conditions, prop_values, default=None)"
   ]
  },
  {
   "cell_type": "code",
   "execution_count": 207,
   "id": "1702fbe9",
   "metadata": {},
   "outputs": [],
   "source": [
    "pop.dropna(subset=[\"filosofi_part_pauvrete\"], inplace=True)\n",
    "pauv_relations = {        \n",
    "    \"niv_pauv_1\": (pop.filosofi_part_pauvrete < part_pauv_lim[0]),\n",
    "    \"niv_pauv_2\": ((pop.filosofi_part_pauvrete >= part_pauv_lim[0])&\n",
    "              (pop.filosofi_part_pauvrete < part_pauv_lim[1])),\n",
    "    \"niv_pauv_3\": ((pop.filosofi_part_pauvrete >= part_pauv_lim[1])&\n",
    "              (pop.filosofi_part_pauvrete < part_pauv_lim[2])),\n",
    "    \"niv_pauv_4\": (pop.filosofi_part_pauvrete >= part_pauv_lim[2])    \n",
    "                }\n",
    "\n",
    "pauv_values = list(pauv_relations.keys())\n",
    "pauv_conditions = list(pauv_relations.values())\n",
    "\n",
    "pop[\"class_pauv\"] = np.select(pauv_conditions, pauv_values, default=None)"
   ]
  },
  {
   "cell_type": "code",
   "execution_count": 208,
   "id": "efe4dbb3",
   "metadata": {},
   "outputs": [],
   "source": [
    "pauv_relations = {        \n",
    "    \"niv_pauv_1\": (pop.filosofi_part_pauvrete < part_pauv_lim[0]),\n",
    "    \"niv_pauv_2\": ((pop.filosofi_part_pauvrete >= part_pauv_lim[0])&\n",
    "              (pop.filosofi_part_pauvrete < part_pauv_lim[1])),\n",
    "    \"niv_pauv_3\": ((pop.filosofi_part_pauvrete >= part_pauv_lim[1])&\n",
    "              (pop.filosofi_part_pauvrete < part_pauv_lim[2])),\n",
    "    \"niv_pauv_4\": (pop.filosofi_part_pauvrete >= part_pauv_lim[2])    \n",
    "                }\n",
    "\n",
    "pauv_values = list(pauv_relations.keys())\n",
    "pauv_conditions = list(pauv_relations.values())\n",
    "\n",
    "pop[\"class_pauv\"] = np.select(pauv_conditions, pauv_values, default=None)"
   ]
  },
  {
   "cell_type": "markdown",
   "id": "7d108bed",
   "metadata": {},
   "source": [
    "### define if have dpe data "
   ]
  },
  {
   "cell_type": "code",
   "execution_count": 209,
   "id": "cc44464e",
   "metadata": {},
   "outputs": [],
   "source": [
    "cond_have_dpe = (pop.adedpe202006_logtype_ph_u.notnull())&(pop.adedpe202006_logtype_mur_u_ext.notnull())\n",
    "pop[\"dpe_complete\"] = np.where(cond_have_dpe, True, False)"
   ]
  },
  {
   "cell_type": "markdown",
   "id": "26500e19",
   "metadata": {},
   "source": [
    "## Chi square "
   ]
  },
  {
   "cell_type": "markdown",
   "id": "4ef3f756",
   "metadata": {},
   "source": [
    "    - H0 : The two categorical variables have no relationship (independent)\n",
    "    - H1 : There is a relationship (dependent) between two categorical variables"
   ]
  },
  {
   "cell_type": "markdown",
   "id": "ab7ad7e5",
   "metadata": {},
   "source": [
    "### define renovation category"
   ]
  },
  {
   "cell_type": "code",
   "execution_count": 210,
   "id": "254434c6",
   "metadata": {},
   "outputs": [],
   "source": [
    "samp = pop[pop.dpe_complete]"
   ]
  },
  {
   "cell_type": "code",
   "execution_count": 211,
   "id": "069b7750",
   "metadata": {},
   "outputs": [
    {
     "data": {
      "text/plain": [
       "0.09456807316926459"
      ]
     },
     "execution_count": 211,
     "metadata": {},
     "output_type": "execute_result"
    }
   ],
   "source": [
    "len(samp) /len(pop)"
   ]
  },
  {
   "cell_type": "code",
   "execution_count": 212,
   "id": "0ee2d594",
   "metadata": {},
   "outputs": [
    {
     "name": "stderr",
     "output_type": "stream",
     "text": [
      "C:\\Users\\ldecarva\\AppData\\Local\\Temp/ipykernel_19376/3662001061.py:1: SettingWithCopyWarning: \n",
      "A value is trying to be set on a copy of a slice from a DataFrame.\n",
      "Try using .loc[row_indexer,col_indexer] = value instead\n",
      "\n",
      "See the caveats in the documentation: https://pandas.pydata.org/pandas-docs/stable/user_guide/indexing.html#returning-a-view-versus-a-copy\n",
      "  samp[\"renovated_wall\"] = samp.adedpe202006_logtype_mur_u_ext < u_wall_min\n"
     ]
    },
    {
     "data": {
      "text/html": [
       "<div>\n",
       "<style scoped>\n",
       "    .dataframe tbody tr th:only-of-type {\n",
       "        vertical-align: middle;\n",
       "    }\n",
       "\n",
       "    .dataframe tbody tr th {\n",
       "        vertical-align: top;\n",
       "    }\n",
       "\n",
       "    .dataframe thead th {\n",
       "        text-align: right;\n",
       "    }\n",
       "</style>\n",
       "<table border=\"1\" class=\"dataframe\">\n",
       "  <thead>\n",
       "    <tr style=\"text-align: right;\">\n",
       "      <th></th>\n",
       "      <th>période</th>\n",
       "      <th>typologie</th>\n",
       "      <th>usage</th>\n",
       "      <th>territoire</th>\n",
       "      <th>carte_territoire_P1</th>\n",
       "      <th>carte_territoire_P2_P7</th>\n",
       "      <th>typologie_mapuce</th>\n",
       "      <th>typologie_mapuce_sigle</th>\n",
       "      <th>typologie_méthode_bdnb</th>\n",
       "      <th>quant_usage_bdnb_n1</th>\n",
       "      <th>...</th>\n",
       "      <th>cerffo2020_nb_gest</th>\n",
       "      <th>filosofi_part_proprietaire</th>\n",
       "      <th>filosofi_part_pauvrete</th>\n",
       "      <th>geometry_BDNB</th>\n",
       "      <th>DJU</th>\n",
       "      <th>class_dju</th>\n",
       "      <th>class_prop</th>\n",
       "      <th>class_pauv</th>\n",
       "      <th>dpe_complete</th>\n",
       "      <th>renovated_wall</th>\n",
       "    </tr>\n",
       "    <tr>\n",
       "      <th>archétype</th>\n",
       "      <th></th>\n",
       "      <th></th>\n",
       "      <th></th>\n",
       "      <th></th>\n",
       "      <th></th>\n",
       "      <th></th>\n",
       "      <th></th>\n",
       "      <th></th>\n",
       "      <th></th>\n",
       "      <th></th>\n",
       "      <th></th>\n",
       "      <th></th>\n",
       "      <th></th>\n",
       "      <th></th>\n",
       "      <th></th>\n",
       "      <th></th>\n",
       "      <th></th>\n",
       "      <th></th>\n",
       "      <th></th>\n",
       "      <th></th>\n",
       "      <th></th>\n",
       "    </tr>\n",
       "  </thead>\n",
       "  <tbody>\n",
       "    <tr>\n",
       "      <th>P3-P-HABITAT-FRANCE_TUILE</th>\n",
       "      <td>P3</td>\n",
       "      <td>P</td>\n",
       "      <td>HABITAT</td>\n",
       "      <td>FRANCE_TUILE</td>\n",
       "      <td>FRANCE_TERRE_TUILE</td>\n",
       "      <td>FRANCE_TUILE</td>\n",
       "      <td>NaN</td>\n",
       "      <td>NaN</td>\n",
       "      <td>P</td>\n",
       "      <td>1</td>\n",
       "      <td>...</td>\n",
       "      <td>NaN</td>\n",
       "      <td>0.740741</td>\n",
       "      <td>0.074074</td>\n",
       "      <td>MULTIPOLYGON (((848435.3 6563026.1, 848445.2 6...</td>\n",
       "      <td>2159.017308</td>\n",
       "      <td>niv_dju_3</td>\n",
       "      <td>niv_prop_2</td>\n",
       "      <td>niv_pauv_2</td>\n",
       "      <td>True</td>\n",
       "      <td>False</td>\n",
       "    </tr>\n",
       "    <tr>\n",
       "      <th>P3-P-HABITAT-FRANCE_TUILE</th>\n",
       "      <td>P3</td>\n",
       "      <td>P</td>\n",
       "      <td>HABITAT</td>\n",
       "      <td>FRANCE_TUILE</td>\n",
       "      <td>FRANCE_TERRE_TUILE</td>\n",
       "      <td>FRANCE_TUILE</td>\n",
       "      <td>NaN</td>\n",
       "      <td>NaN</td>\n",
       "      <td>P</td>\n",
       "      <td>1</td>\n",
       "      <td>...</td>\n",
       "      <td>NaN</td>\n",
       "      <td>0.908333</td>\n",
       "      <td>0.000000</td>\n",
       "      <td>MULTIPOLYGON (((848519.9 6562673.5, 848521.3 6...</td>\n",
       "      <td>2159.017308</td>\n",
       "      <td>niv_dju_3</td>\n",
       "      <td>niv_prop_3</td>\n",
       "      <td>niv_pauv_1</td>\n",
       "      <td>True</td>\n",
       "      <td>True</td>\n",
       "    </tr>\n",
       "  </tbody>\n",
       "</table>\n",
       "<p>2 rows × 335 columns</p>\n",
       "</div>"
      ],
      "text/plain": [
       "                          période typologie    usage    territoire  \\\n",
       "archétype                                                            \n",
       "P3-P-HABITAT-FRANCE_TUILE      P3         P  HABITAT  FRANCE_TUILE   \n",
       "P3-P-HABITAT-FRANCE_TUILE      P3         P  HABITAT  FRANCE_TUILE   \n",
       "\n",
       "                          carte_territoire_P1 carte_territoire_P2_P7  \\\n",
       "archétype                                                              \n",
       "P3-P-HABITAT-FRANCE_TUILE  FRANCE_TERRE_TUILE           FRANCE_TUILE   \n",
       "P3-P-HABITAT-FRANCE_TUILE  FRANCE_TERRE_TUILE           FRANCE_TUILE   \n",
       "\n",
       "                          typologie_mapuce typologie_mapuce_sigle  \\\n",
       "archétype                                                           \n",
       "P3-P-HABITAT-FRANCE_TUILE              NaN                    NaN   \n",
       "P3-P-HABITAT-FRANCE_TUILE              NaN                    NaN   \n",
       "\n",
       "                          typologie_méthode_bdnb  quant_usage_bdnb_n1  ...  \\\n",
       "archétype                                                              ...   \n",
       "P3-P-HABITAT-FRANCE_TUILE                      P                    1  ...   \n",
       "P3-P-HABITAT-FRANCE_TUILE                      P                    1  ...   \n",
       "\n",
       "                           cerffo2020_nb_gest  filosofi_part_proprietaire  \\\n",
       "archétype                                                                   \n",
       "P3-P-HABITAT-FRANCE_TUILE                 NaN                    0.740741   \n",
       "P3-P-HABITAT-FRANCE_TUILE                 NaN                    0.908333   \n",
       "\n",
       "                          filosofi_part_pauvrete  \\\n",
       "archétype                                          \n",
       "P3-P-HABITAT-FRANCE_TUILE               0.074074   \n",
       "P3-P-HABITAT-FRANCE_TUILE               0.000000   \n",
       "\n",
       "                                                               geometry_BDNB  \\\n",
       "archétype                                                                      \n",
       "P3-P-HABITAT-FRANCE_TUILE  MULTIPOLYGON (((848435.3 6563026.1, 848445.2 6...   \n",
       "P3-P-HABITAT-FRANCE_TUILE  MULTIPOLYGON (((848519.9 6562673.5, 848521.3 6...   \n",
       "\n",
       "                                   DJU  class_dju  class_prop  class_pauv  \\\n",
       "archétype                                                                   \n",
       "P3-P-HABITAT-FRANCE_TUILE  2159.017308  niv_dju_3  niv_prop_2  niv_pauv_2   \n",
       "P3-P-HABITAT-FRANCE_TUILE  2159.017308  niv_dju_3  niv_prop_3  niv_pauv_1   \n",
       "\n",
       "                          dpe_complete renovated_wall  \n",
       "archétype                                              \n",
       "P3-P-HABITAT-FRANCE_TUILE         True          False  \n",
       "P3-P-HABITAT-FRANCE_TUILE         True           True  \n",
       "\n",
       "[2 rows x 335 columns]"
      ]
     },
     "execution_count": 212,
     "metadata": {},
     "output_type": "execute_result"
    }
   ],
   "source": [
    "samp[\"renovated_wall\"] = samp.adedpe202006_logtype_mur_u_ext < u_wall_min\n",
    "samp.head(2)"
   ]
  },
  {
   "cell_type": "code",
   "execution_count": 213,
   "id": "5bc4c791",
   "metadata": {},
   "outputs": [
    {
     "name": "stderr",
     "output_type": "stream",
     "text": [
      "C:\\Users\\ldecarva\\AppData\\Local\\Temp/ipykernel_19376/1827439796.py:1: SettingWithCopyWarning: \n",
      "A value is trying to be set on a copy of a slice from a DataFrame.\n",
      "Try using .loc[row_indexer,col_indexer] = value instead\n",
      "\n",
      "See the caveats in the documentation: https://pandas.pydata.org/pandas-docs/stable/user_guide/indexing.html#returning-a-view-versus-a-copy\n",
      "  samp[\"renovated_roof\"] = samp.adedpe202006_logtype_ph_u < u_roof_min\n"
     ]
    },
    {
     "data": {
      "text/html": [
       "<div>\n",
       "<style scoped>\n",
       "    .dataframe tbody tr th:only-of-type {\n",
       "        vertical-align: middle;\n",
       "    }\n",
       "\n",
       "    .dataframe tbody tr th {\n",
       "        vertical-align: top;\n",
       "    }\n",
       "\n",
       "    .dataframe thead th {\n",
       "        text-align: right;\n",
       "    }\n",
       "</style>\n",
       "<table border=\"1\" class=\"dataframe\">\n",
       "  <thead>\n",
       "    <tr style=\"text-align: right;\">\n",
       "      <th></th>\n",
       "      <th>période</th>\n",
       "      <th>typologie</th>\n",
       "      <th>usage</th>\n",
       "      <th>territoire</th>\n",
       "      <th>carte_territoire_P1</th>\n",
       "      <th>carte_territoire_P2_P7</th>\n",
       "      <th>typologie_mapuce</th>\n",
       "      <th>typologie_mapuce_sigle</th>\n",
       "      <th>typologie_méthode_bdnb</th>\n",
       "      <th>quant_usage_bdnb_n1</th>\n",
       "      <th>...</th>\n",
       "      <th>filosofi_part_proprietaire</th>\n",
       "      <th>filosofi_part_pauvrete</th>\n",
       "      <th>geometry_BDNB</th>\n",
       "      <th>DJU</th>\n",
       "      <th>class_dju</th>\n",
       "      <th>class_prop</th>\n",
       "      <th>class_pauv</th>\n",
       "      <th>dpe_complete</th>\n",
       "      <th>renovated_wall</th>\n",
       "      <th>renovated_roof</th>\n",
       "    </tr>\n",
       "    <tr>\n",
       "      <th>archétype</th>\n",
       "      <th></th>\n",
       "      <th></th>\n",
       "      <th></th>\n",
       "      <th></th>\n",
       "      <th></th>\n",
       "      <th></th>\n",
       "      <th></th>\n",
       "      <th></th>\n",
       "      <th></th>\n",
       "      <th></th>\n",
       "      <th></th>\n",
       "      <th></th>\n",
       "      <th></th>\n",
       "      <th></th>\n",
       "      <th></th>\n",
       "      <th></th>\n",
       "      <th></th>\n",
       "      <th></th>\n",
       "      <th></th>\n",
       "      <th></th>\n",
       "      <th></th>\n",
       "    </tr>\n",
       "  </thead>\n",
       "  <tbody>\n",
       "    <tr>\n",
       "      <th>P3-P-HABITAT-FRANCE_TUILE</th>\n",
       "      <td>P3</td>\n",
       "      <td>P</td>\n",
       "      <td>HABITAT</td>\n",
       "      <td>FRANCE_TUILE</td>\n",
       "      <td>FRANCE_TERRE_TUILE</td>\n",
       "      <td>FRANCE_TUILE</td>\n",
       "      <td>NaN</td>\n",
       "      <td>NaN</td>\n",
       "      <td>P</td>\n",
       "      <td>1</td>\n",
       "      <td>...</td>\n",
       "      <td>0.740741</td>\n",
       "      <td>0.074074</td>\n",
       "      <td>MULTIPOLYGON (((848435.3 6563026.1, 848445.2 6...</td>\n",
       "      <td>2159.017308</td>\n",
       "      <td>niv_dju_3</td>\n",
       "      <td>niv_prop_2</td>\n",
       "      <td>niv_pauv_2</td>\n",
       "      <td>True</td>\n",
       "      <td>False</td>\n",
       "      <td>True</td>\n",
       "    </tr>\n",
       "    <tr>\n",
       "      <th>P3-P-HABITAT-FRANCE_TUILE</th>\n",
       "      <td>P3</td>\n",
       "      <td>P</td>\n",
       "      <td>HABITAT</td>\n",
       "      <td>FRANCE_TUILE</td>\n",
       "      <td>FRANCE_TERRE_TUILE</td>\n",
       "      <td>FRANCE_TUILE</td>\n",
       "      <td>NaN</td>\n",
       "      <td>NaN</td>\n",
       "      <td>P</td>\n",
       "      <td>1</td>\n",
       "      <td>...</td>\n",
       "      <td>0.908333</td>\n",
       "      <td>0.000000</td>\n",
       "      <td>MULTIPOLYGON (((848519.9 6562673.5, 848521.3 6...</td>\n",
       "      <td>2159.017308</td>\n",
       "      <td>niv_dju_3</td>\n",
       "      <td>niv_prop_3</td>\n",
       "      <td>niv_pauv_1</td>\n",
       "      <td>True</td>\n",
       "      <td>True</td>\n",
       "      <td>True</td>\n",
       "    </tr>\n",
       "  </tbody>\n",
       "</table>\n",
       "<p>2 rows × 336 columns</p>\n",
       "</div>"
      ],
      "text/plain": [
       "                          période typologie    usage    territoire  \\\n",
       "archétype                                                            \n",
       "P3-P-HABITAT-FRANCE_TUILE      P3         P  HABITAT  FRANCE_TUILE   \n",
       "P3-P-HABITAT-FRANCE_TUILE      P3         P  HABITAT  FRANCE_TUILE   \n",
       "\n",
       "                          carte_territoire_P1 carte_territoire_P2_P7  \\\n",
       "archétype                                                              \n",
       "P3-P-HABITAT-FRANCE_TUILE  FRANCE_TERRE_TUILE           FRANCE_TUILE   \n",
       "P3-P-HABITAT-FRANCE_TUILE  FRANCE_TERRE_TUILE           FRANCE_TUILE   \n",
       "\n",
       "                          typologie_mapuce typologie_mapuce_sigle  \\\n",
       "archétype                                                           \n",
       "P3-P-HABITAT-FRANCE_TUILE              NaN                    NaN   \n",
       "P3-P-HABITAT-FRANCE_TUILE              NaN                    NaN   \n",
       "\n",
       "                          typologie_méthode_bdnb  quant_usage_bdnb_n1  ...  \\\n",
       "archétype                                                              ...   \n",
       "P3-P-HABITAT-FRANCE_TUILE                      P                    1  ...   \n",
       "P3-P-HABITAT-FRANCE_TUILE                      P                    1  ...   \n",
       "\n",
       "                           filosofi_part_proprietaire  filosofi_part_pauvrete  \\\n",
       "archétype                                                                       \n",
       "P3-P-HABITAT-FRANCE_TUILE                    0.740741                0.074074   \n",
       "P3-P-HABITAT-FRANCE_TUILE                    0.908333                0.000000   \n",
       "\n",
       "                                                               geometry_BDNB  \\\n",
       "archétype                                                                      \n",
       "P3-P-HABITAT-FRANCE_TUILE  MULTIPOLYGON (((848435.3 6563026.1, 848445.2 6...   \n",
       "P3-P-HABITAT-FRANCE_TUILE  MULTIPOLYGON (((848519.9 6562673.5, 848521.3 6...   \n",
       "\n",
       "                                   DJU  class_dju  class_prop  class_pauv  \\\n",
       "archétype                                                                   \n",
       "P3-P-HABITAT-FRANCE_TUILE  2159.017308  niv_dju_3  niv_prop_2  niv_pauv_2   \n",
       "P3-P-HABITAT-FRANCE_TUILE  2159.017308  niv_dju_3  niv_prop_3  niv_pauv_1   \n",
       "\n",
       "                           dpe_complete renovated_wall renovated_roof  \n",
       "archétype                                                              \n",
       "P3-P-HABITAT-FRANCE_TUILE          True          False           True  \n",
       "P3-P-HABITAT-FRANCE_TUILE          True           True           True  \n",
       "\n",
       "[2 rows x 336 columns]"
      ]
     },
     "execution_count": 213,
     "metadata": {},
     "output_type": "execute_result"
    }
   ],
   "source": [
    "samp[\"renovated_roof\"] = samp.adedpe202006_logtype_ph_u < u_roof_min\n",
    "samp.head(2)"
   ]
  },
  {
   "cell_type": "code",
   "execution_count": 214,
   "id": "77f715f6",
   "metadata": {},
   "outputs": [
    {
     "data": {
      "text/plain": [
       "['adedpe202006_logtype_min_classe_ener_ges',\n",
       " 'adedpe202006_logtype_coherence_data_methode_dpe',\n",
       " 'adedpe202006_logtype_is_3cl',\n",
       " 'adedpe202006_logtype_ratio_ges_conso',\n",
       " 'adedpe202006_logtype_ch_gen_lib',\n",
       " 'adedpe202006_logtype_ecs_gen_lib',\n",
       " 'adedpe202006_logtype_numero_dpe',\n",
       " 'adedpe202006_logtype_avancee_masque_max',\n",
       " 'adedpe202006_logtype_baie_fs',\n",
       " 'adedpe202006_logtype_baie_mat',\n",
       " 'adedpe202006_logtype_baie_orientation',\n",
       " 'adedpe202006_logtype_baie_remplissage',\n",
       " 'adedpe202006_logtype_baie_type_vitrage',\n",
       " 'adedpe202006_logtype_baie_u',\n",
       " 'adedpe202006_logtype_ch_gen_lib_appoint',\n",
       " 'adedpe202006_logtype_ch_gen_lib_princ',\n",
       " 'adedpe202006_logtype_ch_is_solaire',\n",
       " 'adedpe202006_logtype_ch_type_ener_corr',\n",
       " 'adedpe202006_logtype_ch_type_inst',\n",
       " 'adedpe202006_logtype_classe_conso_ener',\n",
       " 'adedpe202006_logtype_classe_estim_ges',\n",
       " 'adedpe202006_logtype_conso_ener',\n",
       " 'adedpe202006_logtype_traversant',\n",
       " 'adedpe202006_logtype_date_reception_dpe',\n",
       " 'adedpe202006_logtype_ecs_gen_lib_appoint',\n",
       " 'adedpe202006_logtype_ecs_gen_lib_princ',\n",
       " 'adedpe202006_logtype_ecs_is_solaire',\n",
       " 'adedpe202006_logtype_ecs_type_ener',\n",
       " 'adedpe202006_logtype_ecs_type_inst',\n",
       " 'adedpe202006_logtype_enr',\n",
       " 'adedpe202006_logtype_estim_ges',\n",
       " 'adedpe202006_logtype_inertie',\n",
       " 'adedpe202006_logtype_mur_ep_mat_ext',\n",
       " 'adedpe202006_logtype_mur_mat_ext',\n",
       " 'adedpe202006_logtype_mur_pos_isol_ext',\n",
       " 'adedpe202006_logtype_mur_u_ext',\n",
       " 'adedpe202006_logtype_nom_methode_dpe',\n",
       " 'adedpe202006_logtype_pb_mat',\n",
       " 'adedpe202006_logtype_pb_pos_isol',\n",
       " 'adedpe202006_logtype_pb_type_adjacence',\n",
       " 'adedpe202006_logtype_pb_u',\n",
       " 'adedpe202006_logtype_perc_surf_vitree_ext',\n",
       " 'adedpe202006_logtype_ph_mat',\n",
       " 'adedpe202006_logtype_ph_pos_isol',\n",
       " 'adedpe202006_logtype_ph_type_adjacence',\n",
       " 'adedpe202006_logtype_ph_u',\n",
       " 'adedpe202006_logtype_presence_balcon',\n",
       " 'adedpe202006_logtype_presence_climatisation',\n",
       " 'adedpe202006_logtype_type_batiment',\n",
       " 'adedpe202006_logtype_type_ventilation',\n",
       " 'adedpe202006_logtype_s_hab']"
      ]
     },
     "execution_count": 214,
     "metadata": {},
     "output_type": "execute_result"
    }
   ],
   "source": [
    "[col for col in  samp.columns if \"adedpe202006_logtype\" in col]"
   ]
  },
  {
   "cell_type": "markdown",
   "id": "3975174b",
   "metadata": {},
   "source": [
    "### test by hand "
   ]
  },
  {
   "cell_type": "code",
   "execution_count": 215,
   "id": "98549b59",
   "metadata": {},
   "outputs": [
    {
     "data": {
      "text/html": [
       "<div>\n",
       "<style scoped>\n",
       "    .dataframe tbody tr th:only-of-type {\n",
       "        vertical-align: middle;\n",
       "    }\n",
       "\n",
       "    .dataframe tbody tr th {\n",
       "        vertical-align: top;\n",
       "    }\n",
       "\n",
       "    .dataframe thead th {\n",
       "        text-align: right;\n",
       "    }\n",
       "</style>\n",
       "<table border=\"1\" class=\"dataframe\">\n",
       "  <thead>\n",
       "    <tr style=\"text-align: right;\">\n",
       "      <th>class_pauv</th>\n",
       "      <th>niv_pauv_1</th>\n",
       "      <th>niv_pauv_2</th>\n",
       "      <th>niv_pauv_3</th>\n",
       "      <th>niv_pauv_4</th>\n",
       "      <th>All</th>\n",
       "    </tr>\n",
       "    <tr>\n",
       "      <th>renovated_wall</th>\n",
       "      <th></th>\n",
       "      <th></th>\n",
       "      <th></th>\n",
       "      <th></th>\n",
       "      <th></th>\n",
       "    </tr>\n",
       "  </thead>\n",
       "  <tbody>\n",
       "    <tr>\n",
       "      <th>False</th>\n",
       "      <td>23848</td>\n",
       "      <td>86204</td>\n",
       "      <td>11137</td>\n",
       "      <td>1839</td>\n",
       "      <td>123028</td>\n",
       "    </tr>\n",
       "    <tr>\n",
       "      <th>True</th>\n",
       "      <td>13518</td>\n",
       "      <td>43299</td>\n",
       "      <td>4983</td>\n",
       "      <td>686</td>\n",
       "      <td>62486</td>\n",
       "    </tr>\n",
       "    <tr>\n",
       "      <th>All</th>\n",
       "      <td>37366</td>\n",
       "      <td>129503</td>\n",
       "      <td>16120</td>\n",
       "      <td>2525</td>\n",
       "      <td>185514</td>\n",
       "    </tr>\n",
       "  </tbody>\n",
       "</table>\n",
       "</div>"
      ],
      "text/plain": [
       "class_pauv      niv_pauv_1  niv_pauv_2  niv_pauv_3  niv_pauv_4     All\n",
       "renovated_wall                                                        \n",
       "False                23848       86204       11137        1839  123028\n",
       "True                 13518       43299        4983         686   62486\n",
       "All                  37366      129503       16120        2525  185514"
      ]
     },
     "execution_count": 215,
     "metadata": {},
     "output_type": "execute_result"
    }
   ],
   "source": [
    "cont_tab = pd.crosstab(samp.renovated_wall, samp.class_pauv, margins = True)\n",
    "cont_tab"
   ]
  },
  {
   "cell_type": "code",
   "execution_count": 216,
   "id": "a2e78314",
   "metadata": {},
   "outputs": [
    {
     "data": {
      "text/html": [
       "<div>\n",
       "<style scoped>\n",
       "    .dataframe tbody tr th:only-of-type {\n",
       "        vertical-align: middle;\n",
       "    }\n",
       "\n",
       "    .dataframe tbody tr th {\n",
       "        vertical-align: top;\n",
       "    }\n",
       "\n",
       "    .dataframe thead th {\n",
       "        text-align: right;\n",
       "    }\n",
       "</style>\n",
       "<table border=\"1\" class=\"dataframe\">\n",
       "  <thead>\n",
       "    <tr style=\"text-align: right;\">\n",
       "      <th>class_pauv</th>\n",
       "      <th>niv_pauv_1</th>\n",
       "      <th>niv_pauv_2</th>\n",
       "      <th>niv_pauv_3</th>\n",
       "      <th>niv_pauv_4</th>\n",
       "    </tr>\n",
       "    <tr>\n",
       "      <th>renovated_wall</th>\n",
       "      <th></th>\n",
       "      <th></th>\n",
       "      <th></th>\n",
       "      <th></th>\n",
       "    </tr>\n",
       "  </thead>\n",
       "  <tbody>\n",
       "    <tr>\n",
       "      <th>False</th>\n",
       "      <td>23848</td>\n",
       "      <td>86204</td>\n",
       "      <td>11137</td>\n",
       "      <td>1839</td>\n",
       "    </tr>\n",
       "    <tr>\n",
       "      <th>True</th>\n",
       "      <td>13518</td>\n",
       "      <td>43299</td>\n",
       "      <td>4983</td>\n",
       "      <td>686</td>\n",
       "    </tr>\n",
       "  </tbody>\n",
       "</table>\n",
       "</div>"
      ],
      "text/plain": [
       "class_pauv      niv_pauv_1  niv_pauv_2  niv_pauv_3  niv_pauv_4\n",
       "renovated_wall                                                \n",
       "False                23848       86204       11137        1839\n",
       "True                 13518       43299        4983         686"
      ]
     },
     "execution_count": 216,
     "metadata": {},
     "output_type": "execute_result"
    }
   ],
   "source": [
    "observed = cont_tab.iloc[0:2,0:4]\n",
    "observed"
   ]
  },
  {
   "cell_type": "code",
   "execution_count": 217,
   "id": "674fb317",
   "metadata": {},
   "outputs": [
    {
     "data": {
      "text/html": [
       "<div>\n",
       "<style scoped>\n",
       "    .dataframe tbody tr th:only-of-type {\n",
       "        vertical-align: middle;\n",
       "    }\n",
       "\n",
       "    .dataframe tbody tr th {\n",
       "        vertical-align: top;\n",
       "    }\n",
       "\n",
       "    .dataframe thead th {\n",
       "        text-align: right;\n",
       "    }\n",
       "</style>\n",
       "<table border=\"1\" class=\"dataframe\">\n",
       "  <thead>\n",
       "    <tr style=\"text-align: right;\">\n",
       "      <th>class_pauv</th>\n",
       "      <th>niv_pauv_1</th>\n",
       "      <th>niv_pauv_2</th>\n",
       "      <th>niv_pauv_3</th>\n",
       "      <th>niv_pauv_4</th>\n",
       "    </tr>\n",
       "    <tr>\n",
       "      <th>renovated_wall</th>\n",
       "      <th></th>\n",
       "      <th></th>\n",
       "      <th></th>\n",
       "      <th></th>\n",
       "    </tr>\n",
       "  </thead>\n",
       "  <tbody>\n",
       "    <tr>\n",
       "      <th>False</th>\n",
       "      <td>24780.14731</td>\n",
       "      <td>85882.979635</td>\n",
       "      <td>10690.359542</td>\n",
       "      <td>1674.513514</td>\n",
       "    </tr>\n",
       "    <tr>\n",
       "      <th>True</th>\n",
       "      <td>12585.85269</td>\n",
       "      <td>43620.020365</td>\n",
       "      <td>5429.640458</td>\n",
       "      <td>850.486486</td>\n",
       "    </tr>\n",
       "  </tbody>\n",
       "</table>\n",
       "</div>"
      ],
      "text/plain": [
       "class_pauv       niv_pauv_1    niv_pauv_2    niv_pauv_3   niv_pauv_4\n",
       "renovated_wall                                                      \n",
       "False           24780.14731  85882.979635  10690.359542  1674.513514\n",
       "True            12585.85269  43620.020365   5429.640458   850.486486"
      ]
     },
     "execution_count": 217,
     "metadata": {},
     "output_type": "execute_result"
    }
   ],
   "source": [
    "expected =  np.outer(cont_tab[\"All\"][0:2],\n",
    "                     cont_tab.loc[\"All\"][0:4]) / len(samp)\n",
    "expected = pd.DataFrame(expected)\n",
    "expected.columns = cont_tab.columns[:-1]\n",
    "expected.index = cont_tab.index[:-1]\n",
    "expected"
   ]
  },
  {
   "cell_type": "code",
   "execution_count": 218,
   "id": "a59bbe31",
   "metadata": {},
   "outputs": [
    {
     "data": {
      "text/plain": [
       "211.035086783437"
      ]
     },
     "execution_count": 218,
     "metadata": {},
     "output_type": "execute_result"
    }
   ],
   "source": [
    "chi_squared_stat = (((observed-expected)**2)/expected).sum().sum()\n",
    "chi_squared_stat"
   ]
  },
  {
   "cell_type": "code",
   "execution_count": 219,
   "id": "8b3e2a9c",
   "metadata": {},
   "outputs": [
    {
     "data": {
      "text/plain": [
       "7.814727903251179"
      ]
     },
     "execution_count": 219,
     "metadata": {},
     "output_type": "execute_result"
    }
   ],
   "source": [
    "critical_value = chi2.ppf(q = 0.95, # Find the critical value for 95% confidence*\n",
    "                      df = 3) \n",
    "critical_value"
   ]
  },
  {
   "cell_type": "code",
   "execution_count": 220,
   "id": "b9d611ed",
   "metadata": {},
   "outputs": [
    {
     "data": {
      "text/plain": [
       "0.0"
      ]
     },
     "execution_count": 220,
     "metadata": {},
     "output_type": "execute_result"
    }
   ],
   "source": [
    "p_value = 1 - chi2.cdf(x=chi_squared_stat,  df=8)\n",
    "p_value"
   ]
  },
  {
   "cell_type": "markdown",
   "id": "d8a246c1",
   "metadata": {},
   "source": [
    "### Wall - Is renovated x other variables"
   ]
  },
  {
   "cell_type": "code",
   "execution_count": 221,
   "id": "67881618",
   "metadata": {},
   "outputs": [
    {
     "name": "stdout",
     "output_type": "stream",
     "text": [
      "Help on function chi2_contingency in module scipy.stats.contingency:\n",
      "\n",
      "chi2_contingency(observed, correction=True, lambda_=None)\n",
      "    Chi-square test of independence of variables in a contingency table.\n",
      "    \n",
      "    This function computes the chi-square statistic and p-value for the\n",
      "    hypothesis test of independence of the observed frequencies in the\n",
      "    contingency table [1]_ `observed`.  The expected frequencies are computed\n",
      "    based on the marginal sums under the assumption of independence; see\n",
      "    `scipy.stats.contingency.expected_freq`.  The number of degrees of\n",
      "    freedom is (expressed using numpy functions and attributes)::\n",
      "    \n",
      "        dof = observed.size - sum(observed.shape) + observed.ndim - 1\n",
      "    \n",
      "    \n",
      "    Parameters\n",
      "    ----------\n",
      "    observed : array_like\n",
      "        The contingency table. The table contains the observed frequencies\n",
      "        (i.e. number of occurrences) in each category.  In the two-dimensional\n",
      "        case, the table is often described as an \"R x C table\".\n",
      "    correction : bool, optional\n",
      "        If True, *and* the degrees of freedom is 1, apply Yates' correction\n",
      "        for continuity.  The effect of the correction is to adjust each\n",
      "        observed value by 0.5 towards the corresponding expected value.\n",
      "    lambda_ : float or str, optional\n",
      "        By default, the statistic computed in this test is Pearson's\n",
      "        chi-squared statistic [2]_.  `lambda_` allows a statistic from the\n",
      "        Cressie-Read power divergence family [3]_ to be used instead.  See\n",
      "        `power_divergence` for details.\n",
      "    \n",
      "    Returns\n",
      "    -------\n",
      "    chi2 : float\n",
      "        The test statistic.\n",
      "    p : float\n",
      "        The p-value of the test\n",
      "    dof : int\n",
      "        Degrees of freedom\n",
      "    expected : ndarray, same shape as `observed`\n",
      "        The expected frequencies, based on the marginal sums of the table.\n",
      "    \n",
      "    See Also\n",
      "    --------\n",
      "    contingency.expected_freq\n",
      "    fisher_exact\n",
      "    chisquare\n",
      "    power_divergence\n",
      "    barnard_exact\n",
      "    boschloo_exact\n",
      "    \n",
      "    Notes\n",
      "    -----\n",
      "    An often quoted guideline for the validity of this calculation is that\n",
      "    the test should be used only if the observed and expected frequencies\n",
      "    in each cell are at least 5.\n",
      "    \n",
      "    This is a test for the independence of different categories of a\n",
      "    population. The test is only meaningful when the dimension of\n",
      "    `observed` is two or more.  Applying the test to a one-dimensional\n",
      "    table will always result in `expected` equal to `observed` and a\n",
      "    chi-square statistic equal to 0.\n",
      "    \n",
      "    This function does not handle masked arrays, because the calculation\n",
      "    does not make sense with missing values.\n",
      "    \n",
      "    Like stats.chisquare, this function computes a chi-square statistic;\n",
      "    the convenience this function provides is to figure out the expected\n",
      "    frequencies and degrees of freedom from the given contingency table.\n",
      "    If these were already known, and if the Yates' correction was not\n",
      "    required, one could use stats.chisquare.  That is, if one calls::\n",
      "    \n",
      "        chi2, p, dof, ex = chi2_contingency(obs, correction=False)\n",
      "    \n",
      "    then the following is true::\n",
      "    \n",
      "        (chi2, p) == stats.chisquare(obs.ravel(), f_exp=ex.ravel(),\n",
      "                                     ddof=obs.size - 1 - dof)\n",
      "    \n",
      "    The `lambda_` argument was added in version 0.13.0 of scipy.\n",
      "    \n",
      "    References\n",
      "    ----------\n",
      "    .. [1] \"Contingency table\",\n",
      "           https://en.wikipedia.org/wiki/Contingency_table\n",
      "    .. [2] \"Pearson's chi-squared test\",\n",
      "           https://en.wikipedia.org/wiki/Pearson%27s_chi-squared_test\n",
      "    .. [3] Cressie, N. and Read, T. R. C., \"Multinomial Goodness-of-Fit\n",
      "           Tests\", J. Royal Stat. Soc. Series B, Vol. 46, No. 3 (1984),\n",
      "           pp. 440-464.\n",
      "    \n",
      "    Examples\n",
      "    --------\n",
      "    A two-way example (2 x 3):\n",
      "    \n",
      "    >>> from scipy.stats import chi2_contingency\n",
      "    >>> obs = np.array([[10, 10, 20], [20, 20, 20]])\n",
      "    >>> chi2_contingency(obs)\n",
      "    (2.7777777777777777,\n",
      "     0.24935220877729619,\n",
      "     2,\n",
      "     array([[ 12.,  12.,  16.],\n",
      "            [ 18.,  18.,  24.]]))\n",
      "    \n",
      "    Perform the test using the log-likelihood ratio (i.e. the \"G-test\")\n",
      "    instead of Pearson's chi-squared statistic.\n",
      "    \n",
      "    >>> g, p, dof, expctd = chi2_contingency(obs, lambda_=\"log-likelihood\")\n",
      "    >>> g, p\n",
      "    (2.7688587616781319, 0.25046668010954165)\n",
      "    \n",
      "    A four-way example (2 x 2 x 2 x 2):\n",
      "    \n",
      "    >>> obs = np.array(\n",
      "    ...     [[[[12, 17],\n",
      "    ...        [11, 16]],\n",
      "    ...       [[11, 12],\n",
      "    ...        [15, 16]]],\n",
      "    ...      [[[23, 15],\n",
      "    ...        [30, 22]],\n",
      "    ...       [[14, 17],\n",
      "    ...        [15, 16]]]])\n",
      "    >>> chi2_contingency(obs)\n",
      "    (8.7584514426741897,\n",
      "     0.64417725029295503,\n",
      "     11,\n",
      "     array([[[[ 14.15462386,  14.15462386],\n",
      "              [ 16.49423111,  16.49423111]],\n",
      "             [[ 11.2461395 ,  11.2461395 ],\n",
      "              [ 13.10500554,  13.10500554]]],\n",
      "            [[[ 19.5591166 ,  19.5591166 ],\n",
      "              [ 22.79202844,  22.79202844]],\n",
      "             [[ 15.54012004,  15.54012004],\n",
      "              [ 18.10873492,  18.10873492]]]]))\n",
      "\n"
     ]
    }
   ],
   "source": [
    "help(chi2_contingency)\n",
    "# use the function chi2_contingency that takes as input a contingency table and applies the chi-square test on it"
   ]
  },
  {
   "cell_type": "markdown",
   "id": "47427e87",
   "metadata": {},
   "source": [
    "#### test pauvreté"
   ]
  },
  {
   "cell_type": "code",
   "execution_count": 265,
   "id": "0198083f",
   "metadata": {},
   "outputs": [
    {
     "data": {
      "text/html": [
       "<div>\n",
       "<style scoped>\n",
       "    .dataframe tbody tr th:only-of-type {\n",
       "        vertical-align: middle;\n",
       "    }\n",
       "\n",
       "    .dataframe tbody tr th {\n",
       "        vertical-align: top;\n",
       "    }\n",
       "\n",
       "    .dataframe thead th {\n",
       "        text-align: right;\n",
       "    }\n",
       "</style>\n",
       "<table border=\"1\" class=\"dataframe\">\n",
       "  <thead>\n",
       "    <tr style=\"text-align: right;\">\n",
       "      <th>class_pauv</th>\n",
       "      <th>niv_pauv_1</th>\n",
       "      <th>niv_pauv_2</th>\n",
       "      <th>niv_pauv_3</th>\n",
       "      <th>niv_pauv_4</th>\n",
       "    </tr>\n",
       "    <tr>\n",
       "      <th>renovated_wall</th>\n",
       "      <th></th>\n",
       "      <th></th>\n",
       "      <th></th>\n",
       "      <th></th>\n",
       "    </tr>\n",
       "  </thead>\n",
       "  <tbody>\n",
       "    <tr>\n",
       "      <th>False</th>\n",
       "      <td>23848</td>\n",
       "      <td>86204</td>\n",
       "      <td>11137</td>\n",
       "      <td>1839</td>\n",
       "    </tr>\n",
       "    <tr>\n",
       "      <th>True</th>\n",
       "      <td>13518</td>\n",
       "      <td>43299</td>\n",
       "      <td>4983</td>\n",
       "      <td>686</td>\n",
       "    </tr>\n",
       "  </tbody>\n",
       "</table>\n",
       "</div>"
      ],
      "text/plain": [
       "class_pauv      niv_pauv_1  niv_pauv_2  niv_pauv_3  niv_pauv_4\n",
       "renovated_wall                                                \n",
       "False                23848       86204       11137        1839\n",
       "True                 13518       43299        4983         686"
      ]
     },
     "execution_count": 265,
     "metadata": {},
     "output_type": "execute_result"
    }
   ],
   "source": [
    "obs_pauv = pd.crosstab(samp.renovated_wall, samp.class_pauv)\n",
    "obs_pauv"
   ]
  },
  {
   "cell_type": "code",
   "execution_count": 266,
   "id": "1b8b0d18",
   "metadata": {},
   "outputs": [
    {
     "data": {
      "text/plain": [
       "1.7396987453742837e-45"
      ]
     },
     "execution_count": 266,
     "metadata": {},
     "output_type": "execute_result"
    }
   ],
   "source": [
    "chi2_pauv, p_pauv, dof_pauv, exp_pauv = chi2_contingency(obs_pauv)\n",
    "p_pauv"
   ]
  },
  {
   "cell_type": "code",
   "execution_count": 267,
   "id": "02742666",
   "metadata": {},
   "outputs": [
    {
     "data": {
      "text/plain": [
       "0.01947279812155676"
      ]
     },
     "execution_count": 267,
     "metadata": {},
     "output_type": "execute_result"
    }
   ],
   "source": [
    "v_pauv = np.sqrt(chi2_pauv/ (len(samp)* dof_pauv))\n",
    "v_pauv"
   ]
  },
  {
   "cell_type": "markdown",
   "id": "2068c4a5",
   "metadata": {},
   "source": [
    "#### test proprietaire"
   ]
  },
  {
   "cell_type": "code",
   "execution_count": 268,
   "id": "f17a6d72",
   "metadata": {},
   "outputs": [
    {
     "data": {
      "text/html": [
       "<div>\n",
       "<style scoped>\n",
       "    .dataframe tbody tr th:only-of-type {\n",
       "        vertical-align: middle;\n",
       "    }\n",
       "\n",
       "    .dataframe tbody tr th {\n",
       "        vertical-align: top;\n",
       "    }\n",
       "\n",
       "    .dataframe thead th {\n",
       "        text-align: right;\n",
       "    }\n",
       "</style>\n",
       "<table border=\"1\" class=\"dataframe\">\n",
       "  <thead>\n",
       "    <tr style=\"text-align: right;\">\n",
       "      <th>class_prop</th>\n",
       "      <th>niv_prop_1</th>\n",
       "      <th>niv_prop_2</th>\n",
       "      <th>niv_prop_3</th>\n",
       "      <th>niv_prop_4</th>\n",
       "    </tr>\n",
       "    <tr>\n",
       "      <th>renovated_wall</th>\n",
       "      <th></th>\n",
       "      <th></th>\n",
       "      <th></th>\n",
       "      <th></th>\n",
       "    </tr>\n",
       "  </thead>\n",
       "  <tbody>\n",
       "    <tr>\n",
       "      <th>False</th>\n",
       "      <td>11698</td>\n",
       "      <td>24106</td>\n",
       "      <td>77531</td>\n",
       "      <td>9693</td>\n",
       "    </tr>\n",
       "    <tr>\n",
       "      <th>True</th>\n",
       "      <td>5204</td>\n",
       "      <td>11678</td>\n",
       "      <td>39837</td>\n",
       "      <td>5767</td>\n",
       "    </tr>\n",
       "  </tbody>\n",
       "</table>\n",
       "</div>"
      ],
      "text/plain": [
       "class_prop      niv_prop_1  niv_prop_2  niv_prop_3  niv_prop_4\n",
       "renovated_wall                                                \n",
       "False                11698       24106       77531        9693\n",
       "True                  5204       11678       39837        5767"
      ]
     },
     "execution_count": 268,
     "metadata": {},
     "output_type": "execute_result"
    }
   ],
   "source": [
    "obs_prop = pd.crosstab(samp.renovated_wall, samp.class_prop)\n",
    "obs_prop"
   ]
  },
  {
   "cell_type": "code",
   "execution_count": 269,
   "id": "1c30cca7",
   "metadata": {},
   "outputs": [
    {
     "data": {
      "text/plain": [
       "9.724813683666846e-38"
      ]
     },
     "execution_count": 269,
     "metadata": {},
     "output_type": "execute_result"
    }
   ],
   "source": [
    "chi2_prop, p_prop, dof_prop, exp_prop = chi2_contingency(obs_prop)\n",
    "p_prop"
   ]
  },
  {
   "cell_type": "code",
   "execution_count": 270,
   "id": "1ff8bbf6",
   "metadata": {},
   "outputs": [
    {
     "data": {
      "text/plain": [
       "0.017741246721288156"
      ]
     },
     "execution_count": 270,
     "metadata": {},
     "output_type": "execute_result"
    }
   ],
   "source": [
    "v_prop = np.sqrt(chi2_prop/ (len(samp)* dof_prop))\n",
    "v_prop"
   ]
  },
  {
   "cell_type": "markdown",
   "id": "01f1b3c7",
   "metadata": {},
   "source": [
    "#### test DJU"
   ]
  },
  {
   "cell_type": "code",
   "execution_count": 271,
   "id": "83777e73",
   "metadata": {},
   "outputs": [
    {
     "data": {
      "text/html": [
       "<div>\n",
       "<style scoped>\n",
       "    .dataframe tbody tr th:only-of-type {\n",
       "        vertical-align: middle;\n",
       "    }\n",
       "\n",
       "    .dataframe tbody tr th {\n",
       "        vertical-align: top;\n",
       "    }\n",
       "\n",
       "    .dataframe thead th {\n",
       "        text-align: right;\n",
       "    }\n",
       "</style>\n",
       "<table border=\"1\" class=\"dataframe\">\n",
       "  <thead>\n",
       "    <tr style=\"text-align: right;\">\n",
       "      <th>class_dju</th>\n",
       "      <th>niv_dju_1</th>\n",
       "      <th>niv_dju_2</th>\n",
       "      <th>niv_dju_3</th>\n",
       "      <th>niv_dju_4</th>\n",
       "    </tr>\n",
       "    <tr>\n",
       "      <th>renovated_wall</th>\n",
       "      <th></th>\n",
       "      <th></th>\n",
       "      <th></th>\n",
       "      <th></th>\n",
       "    </tr>\n",
       "  </thead>\n",
       "  <tbody>\n",
       "    <tr>\n",
       "      <th>False</th>\n",
       "      <td>32923</td>\n",
       "      <td>34596</td>\n",
       "      <td>38367</td>\n",
       "      <td>17142</td>\n",
       "    </tr>\n",
       "    <tr>\n",
       "      <th>True</th>\n",
       "      <td>12985</td>\n",
       "      <td>14814</td>\n",
       "      <td>19963</td>\n",
       "      <td>14724</td>\n",
       "    </tr>\n",
       "  </tbody>\n",
       "</table>\n",
       "</div>"
      ],
      "text/plain": [
       "class_dju       niv_dju_1  niv_dju_2  niv_dju_3  niv_dju_4\n",
       "renovated_wall                                            \n",
       "False               32923      34596      38367      17142\n",
       "True                12985      14814      19963      14724"
      ]
     },
     "execution_count": 271,
     "metadata": {},
     "output_type": "execute_result"
    }
   ],
   "source": [
    "obs_dju = pd.crosstab(samp.renovated_wall, samp.class_dju)\n",
    "obs_dju"
   ]
  },
  {
   "cell_type": "code",
   "execution_count": 272,
   "id": "96545828",
   "metadata": {},
   "outputs": [
    {
     "data": {
      "text/plain": [
       "0.0"
      ]
     },
     "execution_count": 272,
     "metadata": {},
     "output_type": "execute_result"
    }
   ],
   "source": [
    "chi2_dju, p_dju, dof_dju, exp_dju = chi2_contingency(obs_dju)\n",
    "p_dju"
   ]
  },
  {
   "cell_type": "code",
   "execution_count": 273,
   "id": "30a09adf",
   "metadata": {},
   "outputs": [
    {
     "data": {
      "text/plain": [
       "0.07519427058344157"
      ]
     },
     "execution_count": 273,
     "metadata": {},
     "output_type": "execute_result"
    }
   ],
   "source": [
    "v_dju = np.sqrt(chi2_dju/ (len(samp)* dof_dju))\n",
    "v_dju"
   ]
  },
  {
   "cell_type": "markdown",
   "id": "85579129",
   "metadata": {},
   "source": [
    "#### conclusions"
   ]
  },
  {
   "cell_type": "markdown",
   "id": "3a076a6e",
   "metadata": {},
   "source": [
    "- Finally, we get a p-value close to zero for all variables, which is much lower than a threshold of 0.5. \n",
    "- Therefore, we will reject the null hypothesis that says there is no relationship between the features. \n",
    "- The test result detects a significant relationship between the variables.\n",
    "- However all of them presented a small effect size, so this influence might not be practically relevant (see explanation below)"
   ]
  },
  {
   "cell_type": "markdown",
   "id": "0413cdd3",
   "metadata": {},
   "source": [
    " For the chi-square test, the Cramer’s V effect size is considered small if V = 0.10, medium if V = 0.30, and large if V = 0.50. An effect size index represents the magnitude of an effect, independent of sample size. Formula of Cramer's size of effect on \n",
    "https://www.real-statistics.com/chi-square-and-f-distributions/effect-size-chi-square/"
   ]
  },
  {
   "cell_type": "markdown",
   "id": "bf6fdb26",
   "metadata": {},
   "source": [
    "Effect size tells you how meaningful the relationship between variables or the difference between groups is. It indicates the practical significance of a research outcome. A large effect size means that a research finding has practical significance, while a small effect size indicates limited practical applications.\n",
    "\n",
    "While statistical significance shows that an effect exists in a study, practical significance shows that the effect is large enough to be meaningful in the real world. Statistical significance is denoted by p values, whereas practical significance is represented by effect sizes.\n",
    "\n",
    "Statistical significance alone can be misleading because it’s influenced by the sample size. Increasing the sample size always makes it more likely to find a statistically significant effect, no matter how small the effect truly is in the real world.\n",
    "\n",
    "In contrast, effect sizes are independent of the sample size. Only the data is used to calculate effect sizes. \n",
    "( https://www.scribbr.com/statistics/effect-size/ )"
   ]
  },
  {
   "cell_type": "markdown",
   "id": "e6bbcd01",
   "metadata": {},
   "source": [
    "#### Resume tables"
   ]
  },
  {
   "cell_type": "code",
   "execution_count": 231,
   "id": "a840852f",
   "metadata": {},
   "outputs": [
    {
     "data": {
      "text/html": [
       "<div>\n",
       "<style scoped>\n",
       "    .dataframe tbody tr th:only-of-type {\n",
       "        vertical-align: middle;\n",
       "    }\n",
       "\n",
       "    .dataframe tbody tr th {\n",
       "        vertical-align: top;\n",
       "    }\n",
       "\n",
       "    .dataframe thead th {\n",
       "        text-align: right;\n",
       "    }\n",
       "</style>\n",
       "<table border=\"1\" class=\"dataframe\">\n",
       "  <thead>\n",
       "    <tr style=\"text-align: right;\">\n",
       "      <th></th>\n",
       "      <th>statistique ${\\chi}^2$</th>\n",
       "      <th>valeur-p</th>\n",
       "      <th>taille d'effet</th>\n",
       "    </tr>\n",
       "    <tr>\n",
       "      <th>Variable catégorique</th>\n",
       "      <th></th>\n",
       "      <th></th>\n",
       "      <th></th>\n",
       "    </tr>\n",
       "  </thead>\n",
       "  <tbody>\n",
       "    <tr>\n",
       "      <th>Taux de pauvrété</th>\n",
       "      <td>211.035087</td>\n",
       "      <td>1.739699e-45</td>\n",
       "      <td>0.019473</td>\n",
       "    </tr>\n",
       "    <tr>\n",
       "      <th>Taux de proprietaire</th>\n",
       "      <td>175.172616</td>\n",
       "      <td>9.724814e-38</td>\n",
       "      <td>0.017741</td>\n",
       "    </tr>\n",
       "    <tr>\n",
       "      <th>Degré jour unifié</th>\n",
       "      <td>3146.787715</td>\n",
       "      <td>0.000000e+00</td>\n",
       "      <td>0.075194</td>\n",
       "    </tr>\n",
       "  </tbody>\n",
       "</table>\n",
       "</div>"
      ],
      "text/plain": [
       "                      statistique ${\\chi}^2$      valeur-p  taille d'effet\n",
       "Variable catégorique                                                      \n",
       "Taux de pauvrété                  211.035087  1.739699e-45        0.019473\n",
       "Taux de proprietaire              175.172616  9.724814e-38        0.017741\n",
       "Degré jour unifié                3146.787715  0.000000e+00        0.075194"
      ]
     },
     "execution_count": 231,
     "metadata": {},
     "output_type": "execute_result"
    }
   ],
   "source": [
    "pauv = [\"Taux de pauvrété\",chi2_pauv, p_pauv, v_pauv]\n",
    "prop = [\"Taux de proprietaire\",chi2_prop, p_prop, v_prop]\n",
    "dju = [\"Degré jour unifié\", chi2_dju, p_dju, v_dju]\n",
    "reno_conv_wall = pd.DataFrame([pauv,prop, dju])\n",
    "reno_conv_wall.columns = [\"Variable catégorique\", \n",
    "                     \"statistique ${\\chi}^2$\", \"valeur-p\", \"taille d'effet\"]\n",
    "reno_conv_wall.set_index(\"Variable catégorique\", inplace=True)\n",
    "reno_conv_wall"
   ]
  },
  {
   "cell_type": "markdown",
   "id": "64fad7a5",
   "metadata": {},
   "source": [
    "### Roof - Is renovated x other variables"
   ]
  },
  {
   "cell_type": "markdown",
   "id": "1338133a",
   "metadata": {},
   "source": [
    "#### test pauvreté"
   ]
  },
  {
   "cell_type": "code",
   "execution_count": 295,
   "id": "5210670e",
   "metadata": {},
   "outputs": [
    {
     "data": {
      "text/html": [
       "<div>\n",
       "<style scoped>\n",
       "    .dataframe tbody tr th:only-of-type {\n",
       "        vertical-align: middle;\n",
       "    }\n",
       "\n",
       "    .dataframe tbody tr th {\n",
       "        vertical-align: top;\n",
       "    }\n",
       "\n",
       "    .dataframe thead th {\n",
       "        text-align: right;\n",
       "    }\n",
       "</style>\n",
       "<table border=\"1\" class=\"dataframe\">\n",
       "  <thead>\n",
       "    <tr style=\"text-align: right;\">\n",
       "      <th>class_pauv</th>\n",
       "      <th>niv_pauv_1</th>\n",
       "      <th>niv_pauv_2</th>\n",
       "      <th>niv_pauv_3</th>\n",
       "      <th>niv_pauv_4</th>\n",
       "    </tr>\n",
       "    <tr>\n",
       "      <th>renovated_roof</th>\n",
       "      <th></th>\n",
       "      <th></th>\n",
       "      <th></th>\n",
       "      <th></th>\n",
       "    </tr>\n",
       "  </thead>\n",
       "  <tbody>\n",
       "    <tr>\n",
       "      <th>False</th>\n",
       "      <td>9541</td>\n",
       "      <td>36288</td>\n",
       "      <td>5142</td>\n",
       "      <td>963</td>\n",
       "    </tr>\n",
       "    <tr>\n",
       "      <th>True</th>\n",
       "      <td>27825</td>\n",
       "      <td>93215</td>\n",
       "      <td>10978</td>\n",
       "      <td>1562</td>\n",
       "    </tr>\n",
       "  </tbody>\n",
       "</table>\n",
       "</div>"
      ],
      "text/plain": [
       "class_pauv      niv_pauv_1  niv_pauv_2  niv_pauv_3  niv_pauv_4\n",
       "renovated_roof                                                \n",
       "False                 9541       36288        5142         963\n",
       "True                 27825       93215       10978        1562"
      ]
     },
     "execution_count": 295,
     "metadata": {},
     "output_type": "execute_result"
    }
   ],
   "source": [
    "obs_pauv = pd.crosstab(samp.renovated_roof, samp.class_pauv)\n",
    "obs_pauv"
   ]
  },
  {
   "cell_type": "code",
   "execution_count": 296,
   "id": "435b1752",
   "metadata": {},
   "outputs": [
    {
     "data": {
      "text/plain": [
       "2.23346223740224e-78"
      ]
     },
     "execution_count": 296,
     "metadata": {},
     "output_type": "execute_result"
    }
   ],
   "source": [
    "chi2_pauv, p_pauv, dof_pauv, exp_pauv = chi2_contingency(obs_pauv)\n",
    "p_pauv"
   ]
  },
  {
   "cell_type": "code",
   "execution_count": 297,
   "id": "c8bb6257",
   "metadata": {},
   "outputs": [
    {
     "data": {
      "text/plain": [
       "0.025540595399562206"
      ]
     },
     "execution_count": 297,
     "metadata": {},
     "output_type": "execute_result"
    }
   ],
   "source": [
    "v_pauv = np.sqrt(chi2_pauv/ (len(samp)* dof_pauv))\n",
    "v_pauv"
   ]
  },
  {
   "cell_type": "markdown",
   "id": "c86989fc",
   "metadata": {},
   "source": [
    "#### test proprietaire"
   ]
  },
  {
   "cell_type": "code",
   "execution_count": 298,
   "id": "c2065db9",
   "metadata": {},
   "outputs": [
    {
     "data": {
      "text/html": [
       "<div>\n",
       "<style scoped>\n",
       "    .dataframe tbody tr th:only-of-type {\n",
       "        vertical-align: middle;\n",
       "    }\n",
       "\n",
       "    .dataframe tbody tr th {\n",
       "        vertical-align: top;\n",
       "    }\n",
       "\n",
       "    .dataframe thead th {\n",
       "        text-align: right;\n",
       "    }\n",
       "</style>\n",
       "<table border=\"1\" class=\"dataframe\">\n",
       "  <thead>\n",
       "    <tr style=\"text-align: right;\">\n",
       "      <th>class_prop</th>\n",
       "      <th>niv_prop_1</th>\n",
       "      <th>niv_prop_2</th>\n",
       "      <th>niv_prop_3</th>\n",
       "      <th>niv_prop_4</th>\n",
       "    </tr>\n",
       "    <tr>\n",
       "      <th>renovated_roof</th>\n",
       "      <th></th>\n",
       "      <th></th>\n",
       "      <th></th>\n",
       "      <th></th>\n",
       "    </tr>\n",
       "  </thead>\n",
       "  <tbody>\n",
       "    <tr>\n",
       "      <th>False</th>\n",
       "      <td>5037</td>\n",
       "      <td>10632</td>\n",
       "      <td>32346</td>\n",
       "      <td>3919</td>\n",
       "    </tr>\n",
       "    <tr>\n",
       "      <th>True</th>\n",
       "      <td>11865</td>\n",
       "      <td>25152</td>\n",
       "      <td>85022</td>\n",
       "      <td>11541</td>\n",
       "    </tr>\n",
       "  </tbody>\n",
       "</table>\n",
       "</div>"
      ],
      "text/plain": [
       "class_prop      niv_prop_1  niv_prop_2  niv_prop_3  niv_prop_4\n",
       "renovated_roof                                                \n",
       "False                 5037       10632       32346        3919\n",
       "True                 11865       25152       85022       11541"
      ]
     },
     "execution_count": 298,
     "metadata": {},
     "output_type": "execute_result"
    }
   ],
   "source": [
    "obs_prop = pd.crosstab(samp.renovated_roof, samp.class_prop)\n",
    "obs_prop"
   ]
  },
  {
   "cell_type": "code",
   "execution_count": 299,
   "id": "d378b2aa",
   "metadata": {},
   "outputs": [
    {
     "data": {
      "text/plain": [
       "4.2632074696353785e-31"
      ]
     },
     "execution_count": 299,
     "metadata": {},
     "output_type": "execute_result"
    }
   ],
   "source": [
    "chi2_prop, p_prop, dof_prop, exp_prop = chi2_contingency(obs_prop)\n",
    "p_prop"
   ]
  },
  {
   "cell_type": "code",
   "execution_count": 300,
   "id": "a41bb473",
   "metadata": {},
   "outputs": [
    {
     "data": {
      "text/plain": [
       "0.016107456675075918"
      ]
     },
     "execution_count": 300,
     "metadata": {},
     "output_type": "execute_result"
    }
   ],
   "source": [
    "v_prop = np.sqrt(chi2_prop/ (len(samp)* dof_prop))\n",
    "v_prop"
   ]
  },
  {
   "cell_type": "markdown",
   "id": "9e254703",
   "metadata": {},
   "source": [
    "#### test DJU"
   ]
  },
  {
   "cell_type": "code",
   "execution_count": 301,
   "id": "b46c87e6",
   "metadata": {},
   "outputs": [
    {
     "data": {
      "text/html": [
       "<div>\n",
       "<style scoped>\n",
       "    .dataframe tbody tr th:only-of-type {\n",
       "        vertical-align: middle;\n",
       "    }\n",
       "\n",
       "    .dataframe tbody tr th {\n",
       "        vertical-align: top;\n",
       "    }\n",
       "\n",
       "    .dataframe thead th {\n",
       "        text-align: right;\n",
       "    }\n",
       "</style>\n",
       "<table border=\"1\" class=\"dataframe\">\n",
       "  <thead>\n",
       "    <tr style=\"text-align: right;\">\n",
       "      <th>class_dju</th>\n",
       "      <th>niv_dju_1</th>\n",
       "      <th>niv_dju_2</th>\n",
       "      <th>niv_dju_3</th>\n",
       "      <th>niv_dju_4</th>\n",
       "    </tr>\n",
       "    <tr>\n",
       "      <th>renovated_roof</th>\n",
       "      <th></th>\n",
       "      <th></th>\n",
       "      <th></th>\n",
       "      <th></th>\n",
       "    </tr>\n",
       "  </thead>\n",
       "  <tbody>\n",
       "    <tr>\n",
       "      <th>False</th>\n",
       "      <td>14884</td>\n",
       "      <td>13056</td>\n",
       "      <td>15959</td>\n",
       "      <td>8035</td>\n",
       "    </tr>\n",
       "    <tr>\n",
       "      <th>True</th>\n",
       "      <td>31024</td>\n",
       "      <td>36354</td>\n",
       "      <td>42371</td>\n",
       "      <td>23831</td>\n",
       "    </tr>\n",
       "  </tbody>\n",
       "</table>\n",
       "</div>"
      ],
      "text/plain": [
       "class_dju       niv_dju_1  niv_dju_2  niv_dju_3  niv_dju_4\n",
       "renovated_roof                                            \n",
       "False               14884      13056      15959       8035\n",
       "True                31024      36354      42371      23831"
      ]
     },
     "execution_count": 301,
     "metadata": {},
     "output_type": "execute_result"
    }
   ],
   "source": [
    "obs_dju = pd.crosstab(samp.renovated_roof, samp.class_dju)\n",
    "obs_dju"
   ]
  },
  {
   "cell_type": "code",
   "execution_count": 302,
   "id": "2ad93108",
   "metadata": {},
   "outputs": [
    {
     "data": {
      "text/plain": [
       "1.609445493345392e-138"
      ]
     },
     "execution_count": 302,
     "metadata": {},
     "output_type": "execute_result"
    }
   ],
   "source": [
    "chi2_dju, p_dju, dof_dju, exp_dju = chi2_contingency(obs_dju)\n",
    "p_dju"
   ]
  },
  {
   "cell_type": "code",
   "execution_count": 303,
   "id": "68c2f41c",
   "metadata": {},
   "outputs": [
    {
     "data": {
      "text/plain": [
       "0.0339262787235909"
      ]
     },
     "execution_count": 303,
     "metadata": {},
     "output_type": "execute_result"
    }
   ],
   "source": [
    "v_dju = np.sqrt(chi2_dju/ (len(samp)* dof_dju))\n",
    "v_dju"
   ]
  },
  {
   "cell_type": "markdown",
   "id": "cbf3b0f5",
   "metadata": {},
   "source": [
    "#### Resume table"
   ]
  },
  {
   "cell_type": "code",
   "execution_count": 286,
   "id": "71de4c82",
   "metadata": {},
   "outputs": [],
   "source": [
    "pauv = [\"Taux de pauvrété\",chi2_pauv, p_pauv, v_pauv]\n",
    "prop = [\"Taux de proprietaire\",chi2_prop, p_prop, v_prop]\n",
    "dju = [\"Degré jour unifié\", chi2_dju, p_dju, v_dju]\n",
    "reno_conv_roof = pd.DataFrame([pauv,prop, dju])\n",
    "reno_conv_roof.columns = [\"Variable catégorique\", \n",
    "                     \"statistique ${\\chi}^2$\", \"valeur-p\", \"taille d'effet\"]\n",
    "reno_conv_roof.set_index(\"Variable catégorique\", inplace=True)\n"
   ]
  },
  {
   "cell_type": "code",
   "execution_count": 287,
   "id": "502d2128",
   "metadata": {},
   "outputs": [],
   "source": [
    "pd.concat([reno_conv_wall,reno_conv_roof]).to_excel(\"resume_chi2.xlsx\")"
   ]
  },
  {
   "cell_type": "markdown",
   "id": "bb5bceb6",
   "metadata": {},
   "source": [
    "### Have DPE x other variables"
   ]
  },
  {
   "cell_type": "markdown",
   "id": "71026897",
   "metadata": {},
   "source": [
    "#### test pauvreté"
   ]
  },
  {
   "cell_type": "code",
   "execution_count": 243,
   "id": "45f7c3c5",
   "metadata": {},
   "outputs": [
    {
     "data": {
      "text/html": [
       "<div>\n",
       "<style scoped>\n",
       "    .dataframe tbody tr th:only-of-type {\n",
       "        vertical-align: middle;\n",
       "    }\n",
       "\n",
       "    .dataframe tbody tr th {\n",
       "        vertical-align: top;\n",
       "    }\n",
       "\n",
       "    .dataframe thead th {\n",
       "        text-align: right;\n",
       "    }\n",
       "</style>\n",
       "<table border=\"1\" class=\"dataframe\">\n",
       "  <thead>\n",
       "    <tr style=\"text-align: right;\">\n",
       "      <th>class_pauv</th>\n",
       "      <th>niv_pauv_1</th>\n",
       "      <th>niv_pauv_2</th>\n",
       "      <th>niv_pauv_3</th>\n",
       "      <th>niv_pauv_4</th>\n",
       "    </tr>\n",
       "    <tr>\n",
       "      <th>dpe_complete</th>\n",
       "      <th></th>\n",
       "      <th></th>\n",
       "      <th></th>\n",
       "      <th></th>\n",
       "    </tr>\n",
       "  </thead>\n",
       "  <tbody>\n",
       "    <tr>\n",
       "      <th>False</th>\n",
       "      <td>349352</td>\n",
       "      <td>1216405</td>\n",
       "      <td>181583</td>\n",
       "      <td>28844</td>\n",
       "    </tr>\n",
       "    <tr>\n",
       "      <th>True</th>\n",
       "      <td>37366</td>\n",
       "      <td>129503</td>\n",
       "      <td>16120</td>\n",
       "      <td>2525</td>\n",
       "    </tr>\n",
       "  </tbody>\n",
       "</table>\n",
       "</div>"
      ],
      "text/plain": [
       "class_pauv    niv_pauv_1  niv_pauv_2  niv_pauv_3  niv_pauv_4\n",
       "dpe_complete                                                \n",
       "False             349352     1216405      181583       28844\n",
       "True               37366      129503       16120        2525"
      ]
     },
     "execution_count": 243,
     "metadata": {},
     "output_type": "execute_result"
    }
   ],
   "source": [
    "obs_pauv_pop = pd.crosstab(pop.dpe_complete, pop.class_pauv)\n",
    "obs_pauv_pop"
   ]
  },
  {
   "cell_type": "code",
   "execution_count": 244,
   "id": "d888f663",
   "metadata": {},
   "outputs": [
    {
     "data": {
      "text/plain": [
       "8.009621222730552e-114"
      ]
     },
     "execution_count": 244,
     "metadata": {},
     "output_type": "execute_result"
    }
   ],
   "source": [
    "chi2_pauv_pop, p_pauv_pop, dof_pauv_pop, exp_pauv_pop = chi2_contingency(obs_pauv_pop)\n",
    "p_pauv_pop"
   ]
  },
  {
   "cell_type": "code",
   "execution_count": 245,
   "id": "2f464531",
   "metadata": {},
   "outputs": [
    {
     "data": {
      "text/plain": [
       "0.009459823704646307"
      ]
     },
     "execution_count": 245,
     "metadata": {},
     "output_type": "execute_result"
    }
   ],
   "source": [
    "v_pauv_pop = np.sqrt(chi2_pauv_pop/ (len(pop)* dof_pauv_pop))\n",
    "v_pauv_pop"
   ]
  },
  {
   "cell_type": "markdown",
   "id": "9c7a7844",
   "metadata": {},
   "source": [
    "#### test proprietaire"
   ]
  },
  {
   "cell_type": "code",
   "execution_count": 246,
   "id": "44a3cbde",
   "metadata": {},
   "outputs": [
    {
     "data": {
      "text/html": [
       "<div>\n",
       "<style scoped>\n",
       "    .dataframe tbody tr th:only-of-type {\n",
       "        vertical-align: middle;\n",
       "    }\n",
       "\n",
       "    .dataframe tbody tr th {\n",
       "        vertical-align: top;\n",
       "    }\n",
       "\n",
       "    .dataframe thead th {\n",
       "        text-align: right;\n",
       "    }\n",
       "</style>\n",
       "<table border=\"1\" class=\"dataframe\">\n",
       "  <thead>\n",
       "    <tr style=\"text-align: right;\">\n",
       "      <th>class_prop</th>\n",
       "      <th>niv_prop_1</th>\n",
       "      <th>niv_prop_2</th>\n",
       "      <th>niv_prop_3</th>\n",
       "      <th>niv_prop_4</th>\n",
       "    </tr>\n",
       "    <tr>\n",
       "      <th>dpe_complete</th>\n",
       "      <th></th>\n",
       "      <th></th>\n",
       "      <th></th>\n",
       "      <th></th>\n",
       "    </tr>\n",
       "  </thead>\n",
       "  <tbody>\n",
       "    <tr>\n",
       "      <th>False</th>\n",
       "      <td>115379</td>\n",
       "      <td>333545</td>\n",
       "      <td>1162439</td>\n",
       "      <td>164821</td>\n",
       "    </tr>\n",
       "    <tr>\n",
       "      <th>True</th>\n",
       "      <td>16902</td>\n",
       "      <td>35784</td>\n",
       "      <td>117368</td>\n",
       "      <td>15460</td>\n",
       "    </tr>\n",
       "  </tbody>\n",
       "</table>\n",
       "</div>"
      ],
      "text/plain": [
       "class_prop    niv_prop_1  niv_prop_2  niv_prop_3  niv_prop_4\n",
       "dpe_complete                                                \n",
       "False             115379      333545     1162439      164821\n",
       "True               16902       35784      117368       15460"
      ]
     },
     "execution_count": 246,
     "metadata": {},
     "output_type": "execute_result"
    }
   ],
   "source": [
    "obs_prop_pop = pd.crosstab(pop.dpe_complete, pop.class_prop)\n",
    "obs_prop_pop"
   ]
  },
  {
   "cell_type": "code",
   "execution_count": 247,
   "id": "ae31f767",
   "metadata": {},
   "outputs": [
    {
     "data": {
      "text/plain": [
       "0.0"
      ]
     },
     "execution_count": 247,
     "metadata": {},
     "output_type": "execute_result"
    }
   ],
   "source": [
    "chi2_prop_pop, p_prop_pop, dof_prop_pop, exp_prop_pop = chi2_contingency(obs_prop_pop)\n",
    "p_prop_pop"
   ]
  },
  {
   "cell_type": "code",
   "execution_count": 248,
   "id": "96440f61",
   "metadata": {},
   "outputs": [
    {
     "data": {
      "text/plain": [
       "0.018492133345432697"
      ]
     },
     "execution_count": 248,
     "metadata": {},
     "output_type": "execute_result"
    }
   ],
   "source": [
    "v_prop_pop = np.sqrt(chi2_prop_pop/ (len(pop)* dof_prop_pop))\n",
    "v_prop_pop"
   ]
  },
  {
   "cell_type": "markdown",
   "id": "e6b348d5",
   "metadata": {},
   "source": [
    "#### test DJU"
   ]
  },
  {
   "cell_type": "code",
   "execution_count": 249,
   "id": "6881ea1e",
   "metadata": {},
   "outputs": [
    {
     "data": {
      "text/html": [
       "<div>\n",
       "<style scoped>\n",
       "    .dataframe tbody tr th:only-of-type {\n",
       "        vertical-align: middle;\n",
       "    }\n",
       "\n",
       "    .dataframe tbody tr th {\n",
       "        vertical-align: top;\n",
       "    }\n",
       "\n",
       "    .dataframe thead th {\n",
       "        text-align: right;\n",
       "    }\n",
       "</style>\n",
       "<table border=\"1\" class=\"dataframe\">\n",
       "  <thead>\n",
       "    <tr style=\"text-align: right;\">\n",
       "      <th>class_dju</th>\n",
       "      <th>niv_dju_1</th>\n",
       "      <th>niv_dju_2</th>\n",
       "      <th>niv_dju_3</th>\n",
       "      <th>niv_dju_4</th>\n",
       "    </tr>\n",
       "    <tr>\n",
       "      <th>dpe_complete</th>\n",
       "      <th></th>\n",
       "      <th></th>\n",
       "      <th></th>\n",
       "      <th></th>\n",
       "    </tr>\n",
       "  </thead>\n",
       "  <tbody>\n",
       "    <tr>\n",
       "      <th>False</th>\n",
       "      <td>488242</td>\n",
       "      <td>452293</td>\n",
       "      <td>501323</td>\n",
       "      <td>334326</td>\n",
       "    </tr>\n",
       "    <tr>\n",
       "      <th>True</th>\n",
       "      <td>45908</td>\n",
       "      <td>49410</td>\n",
       "      <td>58330</td>\n",
       "      <td>31866</td>\n",
       "    </tr>\n",
       "  </tbody>\n",
       "</table>\n",
       "</div>"
      ],
      "text/plain": [
       "class_dju     niv_dju_1  niv_dju_2  niv_dju_3  niv_dju_4\n",
       "dpe_complete                                            \n",
       "False            488242     452293     501323     334326\n",
       "True              45908      49410      58330      31866"
      ]
     },
     "execution_count": 249,
     "metadata": {},
     "output_type": "execute_result"
    }
   ],
   "source": [
    "obs_dju_pop = pd.crosstab(pop.dpe_complete, pop.class_dju)\n",
    "obs_dju_pop"
   ]
  },
  {
   "cell_type": "code",
   "execution_count": 250,
   "id": "b8399fa1",
   "metadata": {},
   "outputs": [
    {
     "data": {
      "text/plain": [
       "9.50978507400414e-305"
      ]
     },
     "execution_count": 250,
     "metadata": {},
     "output_type": "execute_result"
    }
   ],
   "source": [
    "chi2_dju_pop, p_dju_pop, dof_dju_pop, exp_dju_pop = chi2_contingency(obs_dju_pop)\n",
    "p_dju_pop"
   ]
  },
  {
   "cell_type": "code",
   "execution_count": 251,
   "id": "b60075fb",
   "metadata": {},
   "outputs": [
    {
     "data": {
      "text/plain": [
       "0.015461458942040688"
      ]
     },
     "execution_count": 251,
     "metadata": {},
     "output_type": "execute_result"
    }
   ],
   "source": [
    "v_dju_pop = np.sqrt(chi2_dju_pop/ (len(pop)* dof_dju_pop))\n",
    "v_dju_pop"
   ]
  },
  {
   "cell_type": "markdown",
   "id": "1f8371a1",
   "metadata": {},
   "source": [
    "#### conclusions"
   ]
  },
  {
   "cell_type": "markdown",
   "id": "8860f9b7",
   "metadata": {},
   "source": [
    "The conclusions are similar than from the previous section. Although there is an statistical significant difference among the tested groups, the effect size is small in all of them.\n"
   ]
  },
  {
   "cell_type": "markdown",
   "id": "ca3b6611",
   "metadata": {},
   "source": [
    "### Study of the variations"
   ]
  },
  {
   "cell_type": "markdown",
   "id": "6be22fb6",
   "metadata": {},
   "source": [
    "The chi-square test is an overall test for detecting relationships between two\n",
    "categorical variables. If the test is significant, it is important to look at the data to\n",
    "learn the nature of the relationship. There are three ways to look at the data:\n",
    "\n",
    "1) Compare selected percents: which cells occur in very different percentages\n",
    "than the other cells?\n",
    "\n",
    "2) Compare observed and expected cell counts: which cells have more or less observations than would be expected if H0 were true?\n",
    "\n",
    "3) Look at the terms of the chi-square statistic: which cells contribute the most to the value of λ2?\n",
    "\n",
    "(https://www.westga.edu/academics/research/vrc/assets/docs/ChiSquareTest_LectureNotes.pdf)"
   ]
  },
  {
   "cell_type": "markdown",
   "id": "3b29a86f",
   "metadata": {},
   "source": [
    "#### 1 compare percents "
   ]
  },
  {
   "cell_type": "markdown",
   "id": "7b1def8e",
   "metadata": {},
   "source": [
    "##### pauvreté"
   ]
  },
  {
   "cell_type": "code",
   "execution_count": 304,
   "id": "1568efb2",
   "metadata": {},
   "outputs": [
    {
     "data": {
      "text/html": [
       "<div>\n",
       "<style scoped>\n",
       "    .dataframe tbody tr th:only-of-type {\n",
       "        vertical-align: middle;\n",
       "    }\n",
       "\n",
       "    .dataframe tbody tr th {\n",
       "        vertical-align: top;\n",
       "    }\n",
       "\n",
       "    .dataframe thead th {\n",
       "        text-align: right;\n",
       "    }\n",
       "</style>\n",
       "<table border=\"1\" class=\"dataframe\">\n",
       "  <thead>\n",
       "    <tr style=\"text-align: right;\">\n",
       "      <th></th>\n",
       "      <th>0</th>\n",
       "      <th>1</th>\n",
       "      <th>2</th>\n",
       "      <th>3</th>\n",
       "    </tr>\n",
       "  </thead>\n",
       "  <tbody>\n",
       "    <tr>\n",
       "      <th>0</th>\n",
       "      <td>5.6</td>\n",
       "      <td>19.5</td>\n",
       "      <td>2.4</td>\n",
       "      <td>0.4</td>\n",
       "    </tr>\n",
       "    <tr>\n",
       "      <th>1</th>\n",
       "      <td>14.5</td>\n",
       "      <td>50.3</td>\n",
       "      <td>6.3</td>\n",
       "      <td>1.0</td>\n",
       "    </tr>\n",
       "  </tbody>\n",
       "</table>\n",
       "</div>"
      ],
      "text/plain": [
       "      0     1    2    3\n",
       "0   5.6  19.5  2.4  0.4\n",
       "1  14.5  50.3  6.3  1.0"
      ]
     },
     "execution_count": 304,
     "metadata": {},
     "output_type": "execute_result"
    }
   ],
   "source": [
    "(pd.DataFrame(exp_pauv) /exp_pauv.sum().sum() *100).round(1)"
   ]
  },
  {
   "cell_type": "code",
   "execution_count": 305,
   "id": "a22ca391",
   "metadata": {},
   "outputs": [
    {
     "data": {
      "text/html": [
       "<div>\n",
       "<style scoped>\n",
       "    .dataframe tbody tr th:only-of-type {\n",
       "        vertical-align: middle;\n",
       "    }\n",
       "\n",
       "    .dataframe tbody tr th {\n",
       "        vertical-align: top;\n",
       "    }\n",
       "\n",
       "    .dataframe thead th {\n",
       "        text-align: right;\n",
       "    }\n",
       "</style>\n",
       "<table border=\"1\" class=\"dataframe\">\n",
       "  <thead>\n",
       "    <tr style=\"text-align: right;\">\n",
       "      <th>class_pauv</th>\n",
       "      <th>niv_pauv_1</th>\n",
       "      <th>niv_pauv_2</th>\n",
       "      <th>niv_pauv_3</th>\n",
       "      <th>niv_pauv_4</th>\n",
       "    </tr>\n",
       "    <tr>\n",
       "      <th>renovated_roof</th>\n",
       "      <th></th>\n",
       "      <th></th>\n",
       "      <th></th>\n",
       "      <th></th>\n",
       "    </tr>\n",
       "  </thead>\n",
       "  <tbody>\n",
       "    <tr>\n",
       "      <th>False</th>\n",
       "      <td>5.1</td>\n",
       "      <td>19.6</td>\n",
       "      <td>2.8</td>\n",
       "      <td>0.5</td>\n",
       "    </tr>\n",
       "    <tr>\n",
       "      <th>True</th>\n",
       "      <td>15.0</td>\n",
       "      <td>50.2</td>\n",
       "      <td>5.9</td>\n",
       "      <td>0.8</td>\n",
       "    </tr>\n",
       "  </tbody>\n",
       "</table>\n",
       "</div>"
      ],
      "text/plain": [
       "class_pauv      niv_pauv_1  niv_pauv_2  niv_pauv_3  niv_pauv_4\n",
       "renovated_roof                                                \n",
       "False                  5.1        19.6         2.8         0.5\n",
       "True                  15.0        50.2         5.9         0.8"
      ]
     },
     "execution_count": 305,
     "metadata": {},
     "output_type": "execute_result"
    }
   ],
   "source": [
    "(pd.DataFrame(obs_pauv) /obs_pauv.sum().sum() *100).round(1)"
   ]
  },
  {
   "cell_type": "markdown",
   "id": "59d67690",
   "metadata": {},
   "source": [
    "    We can see that the richest has more renovation than expected and less non renovation than expected.\n",
    "    The poorest has the exactily opposite behaviour"
   ]
  },
  {
   "cell_type": "code",
   "execution_count": 306,
   "id": "a009b048",
   "metadata": {},
   "outputs": [
    {
     "data": {
      "text/html": [
       "<div>\n",
       "<style scoped>\n",
       "    .dataframe tbody tr th:only-of-type {\n",
       "        vertical-align: middle;\n",
       "    }\n",
       "\n",
       "    .dataframe tbody tr th {\n",
       "        vertical-align: top;\n",
       "    }\n",
       "\n",
       "    .dataframe thead th {\n",
       "        text-align: right;\n",
       "    }\n",
       "</style>\n",
       "<table border=\"1\" class=\"dataframe\">\n",
       "  <thead>\n",
       "    <tr style=\"text-align: right;\">\n",
       "      <th>class_pauv</th>\n",
       "      <th>niv_pauv_1</th>\n",
       "      <th>niv_pauv_2</th>\n",
       "      <th>niv_pauv_3</th>\n",
       "      <th>niv_pauv_4</th>\n",
       "    </tr>\n",
       "    <tr>\n",
       "      <th>renovated_roof</th>\n",
       "      <th></th>\n",
       "      <th></th>\n",
       "      <th></th>\n",
       "      <th></th>\n",
       "    </tr>\n",
       "  </thead>\n",
       "  <tbody>\n",
       "    <tr>\n",
       "      <th>False</th>\n",
       "      <td>0.255339</td>\n",
       "      <td>0.28021</td>\n",
       "      <td>0.318983</td>\n",
       "      <td>0.381386</td>\n",
       "    </tr>\n",
       "    <tr>\n",
       "      <th>True</th>\n",
       "      <td>0.744661</td>\n",
       "      <td>0.71979</td>\n",
       "      <td>0.681017</td>\n",
       "      <td>0.618614</td>\n",
       "    </tr>\n",
       "  </tbody>\n",
       "</table>\n",
       "</div>"
      ],
      "text/plain": [
       "class_pauv      niv_pauv_1  niv_pauv_2  niv_pauv_3  niv_pauv_4\n",
       "renovated_roof                                                \n",
       "False             0.255339     0.28021    0.318983    0.381386\n",
       "True              0.744661     0.71979    0.681017    0.618614"
      ]
     },
     "execution_count": 306,
     "metadata": {},
     "output_type": "execute_result"
    }
   ],
   "source": [
    "perc_reno_pauv = pd.DataFrame(obs_pauv) /obs_pauv.sum()\n",
    "perc_reno_pauv"
   ]
  },
  {
   "cell_type": "code",
   "execution_count": 307,
   "id": "29e218de",
   "metadata": {},
   "outputs": [
    {
     "data": {
      "text/plain": [
       "(array([0, 1, 2, 3]),\n",
       " [Text(0, 0, 'niv_pauv_1'),\n",
       "  Text(1, 0, 'niv_pauv_2'),\n",
       "  Text(2, 0, 'niv_pauv_3'),\n",
       "  Text(3, 0, 'niv_pauv_4')])"
      ]
     },
     "execution_count": 307,
     "metadata": {},
     "output_type": "execute_result"
    },
    {
     "data": {
      "image/png": "[encoded data removed]",
      "text/plain": [
       "<Figure size 432x288 with 1 Axes>"
      ]
     },
     "metadata": {
      "needs_background": "light"
     },
     "output_type": "display_data"
    }
   ],
   "source": [
    "ax = perc_reno_pauv.T.plot.bar()\n",
    "ax.legend(loc=8)\n",
    "ax.grid('on',which='major', axis='y', linestyle='-', linewidth=0.25, )\n",
    "plt.xlabel(\"Classe taux Pauvreté\")\n",
    "plt.ylabel(\"Pourcentage (%)\")\n",
    "plt.title(\"Hypothèse de rénovation pour les taux de pauvreté\",fontweight=\"bold\")\n",
    "plt.xticks(rotation = 45) # Rotates X-Axis Ticks by 45-degrees"
   ]
  },
  {
   "cell_type": "markdown",
   "id": "fd152f73",
   "metadata": {},
   "source": [
    "##### propriétaire"
   ]
  },
  {
   "cell_type": "code",
   "execution_count": 309,
   "id": "f18349a5",
   "metadata": {},
   "outputs": [
    {
     "data": {
      "text/plain": [
       "(array([0, 1, 2, 3]),\n",
       " [Text(0, 0, 'niv_prop_1'),\n",
       "  Text(1, 0, 'niv_prop_2'),\n",
       "  Text(2, 0, 'niv_prop_3'),\n",
       "  Text(3, 0, 'niv_prop_4')])"
      ]
     },
     "execution_count": 309,
     "metadata": {},
     "output_type": "execute_result"
    },
    {
     "data": {
      "image/png": "[encoded data removed]",
      "text/plain": [
       "<Figure size 432x288 with 1 Axes>"
      ]
     },
     "metadata": {
      "needs_background": "light"
     },
     "output_type": "display_data"
    }
   ],
   "source": [
    "perc_reno_prop = pd.DataFrame(obs_prop) /obs_prop.sum()\n",
    "ax = perc_reno_prop.T.plot.bar()\n",
    "ax.legend(loc=8)\n",
    "ax.grid('on',which='major', axis='y', linestyle='-', linewidth=0.25, )\n",
    "plt.xlabel(\"Classe taux propriétaire\")\n",
    "plt.ylabel(\"Pourcentage (%)\")\n",
    "plt.title(\"Hypothèse de rénovation pour les taux de propriétaire\",fontweight=\"bold\")\n",
    "plt.xticks(rotation = 45) # Rotates X-Axis Ticks by 45-degrees"
   ]
  },
  {
   "cell_type": "code",
   "execution_count": 310,
   "id": "60533f7c",
   "metadata": {},
   "outputs": [
    {
     "data": {
      "text/plain": [
       "(array([0, 1, 2, 3]),\n",
       " [Text(0, 0, 'niv_dju_1'),\n",
       "  Text(1, 0, 'niv_dju_2'),\n",
       "  Text(2, 0, 'niv_dju_3'),\n",
       "  Text(3, 0, 'niv_dju_4')])"
      ]
     },
     "execution_count": 310,
     "metadata": {},
     "output_type": "execute_result"
    },
    {
     "data": {
      "image/png": "[encoded data removed]",
      "text/plain": [
       "<Figure size 432x288 with 1 Axes>"
      ]
     },
     "metadata": {
      "needs_background": "light"
     },
     "output_type": "display_data"
    }
   ],
   "source": [
    "perc_reno_dju = pd.DataFrame(obs_dju) /obs_dju.sum()\n",
    "ax = perc_reno_dju.T.plot.bar()\n",
    "ax.legend(loc=8)\n",
    "ax.grid('on',which='major', axis='y', linestyle='-', linewidth=0.25, )\n",
    "plt.xlabel(\"Classe taux propriétaire\")\n",
    "plt.ylabel(\"Pourcentage (%)\")\n",
    "plt.title(\"Hypothèse de rénovation pour les taux de propriétaire\",fontweight=\"bold\")\n",
    "plt.xticks(rotation = 45) # Rotates X-Axis Ticks by 45-degrees"
   ]
  },
  {
   "cell_type": "markdown",
   "id": "40561df7",
   "metadata": {},
   "source": [
    "#### 2 Check which values are above and which are below the expected"
   ]
  },
  {
   "cell_type": "code",
   "execution_count": 257,
   "id": "b587da31",
   "metadata": {},
   "outputs": [
    {
     "data": {
      "text/html": [
       "<div>\n",
       "<style scoped>\n",
       "    .dataframe tbody tr th:only-of-type {\n",
       "        vertical-align: middle;\n",
       "    }\n",
       "\n",
       "    .dataframe tbody tr th {\n",
       "        vertical-align: top;\n",
       "    }\n",
       "\n",
       "    .dataframe thead th {\n",
       "        text-align: right;\n",
       "    }\n",
       "</style>\n",
       "<table border=\"1\" class=\"dataframe\">\n",
       "  <thead>\n",
       "    <tr style=\"text-align: right;\">\n",
       "      <th>class_pauv</th>\n",
       "      <th>niv_pauv_1</th>\n",
       "      <th>niv_pauv_2</th>\n",
       "      <th>niv_pauv_3</th>\n",
       "      <th>niv_pauv_4</th>\n",
       "    </tr>\n",
       "    <tr>\n",
       "      <th>renovated_wall</th>\n",
       "      <th></th>\n",
       "      <th></th>\n",
       "      <th></th>\n",
       "      <th></th>\n",
       "    </tr>\n",
       "  </thead>\n",
       "  <tbody>\n",
       "    <tr>\n",
       "      <th>False</th>\n",
       "      <td>-932.14731</td>\n",
       "      <td>321.020365</td>\n",
       "      <td>446.640458</td>\n",
       "      <td>164.486486</td>\n",
       "    </tr>\n",
       "    <tr>\n",
       "      <th>True</th>\n",
       "      <td>932.14731</td>\n",
       "      <td>-321.020365</td>\n",
       "      <td>-446.640458</td>\n",
       "      <td>-164.486486</td>\n",
       "    </tr>\n",
       "  </tbody>\n",
       "</table>\n",
       "</div>"
      ],
      "text/plain": [
       "class_pauv      niv_pauv_1  niv_pauv_2  niv_pauv_3  niv_pauv_4\n",
       "renovated_wall                                                \n",
       "False           -932.14731  321.020365  446.640458  164.486486\n",
       "True             932.14731 -321.020365 -446.640458 -164.486486"
      ]
     },
     "execution_count": 257,
     "metadata": {},
     "output_type": "execute_result"
    }
   ],
   "source": [
    "obs_pauv-exp_pauv"
   ]
  },
  {
   "cell_type": "code",
   "execution_count": 258,
   "id": "0671e0cd",
   "metadata": {},
   "outputs": [
    {
     "data": {
      "text/html": [
       "<div>\n",
       "<style scoped>\n",
       "    .dataframe tbody tr th:only-of-type {\n",
       "        vertical-align: middle;\n",
       "    }\n",
       "\n",
       "    .dataframe tbody tr th {\n",
       "        vertical-align: top;\n",
       "    }\n",
       "\n",
       "    .dataframe thead th {\n",
       "        text-align: right;\n",
       "    }\n",
       "</style>\n",
       "<table border=\"1\" class=\"dataframe\">\n",
       "  <thead>\n",
       "    <tr style=\"text-align: right;\">\n",
       "      <th>class_prop</th>\n",
       "      <th>niv_prop_1</th>\n",
       "      <th>niv_prop_2</th>\n",
       "      <th>niv_prop_3</th>\n",
       "      <th>niv_prop_4</th>\n",
       "    </tr>\n",
       "    <tr>\n",
       "      <th>renovated_roof</th>\n",
       "      <th></th>\n",
       "      <th></th>\n",
       "      <th></th>\n",
       "      <th></th>\n",
       "    </tr>\n",
       "  </thead>\n",
       "  <tbody>\n",
       "    <tr>\n",
       "      <th>False</th>\n",
       "      <td>305.343802</td>\n",
       "      <td>614.39348</td>\n",
       "      <td>-510.763975</td>\n",
       "      <td>-408.973307</td>\n",
       "    </tr>\n",
       "    <tr>\n",
       "      <th>True</th>\n",
       "      <td>-305.343802</td>\n",
       "      <td>-614.39348</td>\n",
       "      <td>510.763975</td>\n",
       "      <td>408.973307</td>\n",
       "    </tr>\n",
       "  </tbody>\n",
       "</table>\n",
       "</div>"
      ],
      "text/plain": [
       "class_prop      niv_prop_1  niv_prop_2  niv_prop_3  niv_prop_4\n",
       "renovated_roof                                                \n",
       "False           305.343802   614.39348 -510.763975 -408.973307\n",
       "True           -305.343802  -614.39348  510.763975  408.973307"
      ]
     },
     "execution_count": 258,
     "metadata": {},
     "output_type": "execute_result"
    }
   ],
   "source": [
    "obs_prop-exp_prop"
   ]
  },
  {
   "cell_type": "markdown",
   "id": "53916680",
   "metadata": {},
   "source": [
    "While only the richest category had better results than expected, the 2 higher levels of proprietaire had better results than expected"
   ]
  },
  {
   "cell_type": "markdown",
   "id": "dd594398",
   "metadata": {},
   "source": [
    "#### 3 Contribution of each term to chi2"
   ]
  },
  {
   "cell_type": "code",
   "execution_count": 259,
   "id": "27950a6b",
   "metadata": {},
   "outputs": [
    {
     "data": {
      "text/html": [
       "<div>\n",
       "<style scoped>\n",
       "    .dataframe tbody tr th:only-of-type {\n",
       "        vertical-align: middle;\n",
       "    }\n",
       "\n",
       "    .dataframe tbody tr th {\n",
       "        vertical-align: top;\n",
       "    }\n",
       "\n",
       "    .dataframe thead th {\n",
       "        text-align: right;\n",
       "    }\n",
       "</style>\n",
       "<table border=\"1\" class=\"dataframe\">\n",
       "  <thead>\n",
       "    <tr style=\"text-align: right;\">\n",
       "      <th>class_pauv</th>\n",
       "      <th>niv_pauv_1</th>\n",
       "      <th>niv_pauv_2</th>\n",
       "      <th>niv_pauv_3</th>\n",
       "      <th>niv_pauv_4</th>\n",
       "    </tr>\n",
       "    <tr>\n",
       "      <th>renovated_wall</th>\n",
       "      <th></th>\n",
       "      <th></th>\n",
       "      <th></th>\n",
       "      <th></th>\n",
       "    </tr>\n",
       "  </thead>\n",
       "  <tbody>\n",
       "    <tr>\n",
       "      <th>False</th>\n",
       "      <td>35.064304</td>\n",
       "      <td>1.199936</td>\n",
       "      <td>18.660523</td>\n",
       "      <td>16.157412</td>\n",
       "    </tr>\n",
       "    <tr>\n",
       "      <th>True</th>\n",
       "      <td>69.037723</td>\n",
       "      <td>2.362541</td>\n",
       "      <td>36.740499</td>\n",
       "      <td>31.812151</td>\n",
       "    </tr>\n",
       "  </tbody>\n",
       "</table>\n",
       "</div>"
      ],
      "text/plain": [
       "class_pauv      niv_pauv_1  niv_pauv_2  niv_pauv_3  niv_pauv_4\n",
       "renovated_wall                                                \n",
       "False            35.064304    1.199936   18.660523   16.157412\n",
       "True             69.037723    2.362541   36.740499   31.812151"
      ]
     },
     "execution_count": 259,
     "metadata": {},
     "output_type": "execute_result"
    }
   ],
   "source": [
    "(((obs_pauv-exp_pauv)**2)/exp_pauv)"
   ]
  },
  {
   "cell_type": "code",
   "execution_count": 260,
   "id": "934dcd7c",
   "metadata": {},
   "outputs": [
    {
     "data": {
      "text/html": [
       "<div>\n",
       "<style scoped>\n",
       "    .dataframe tbody tr th:only-of-type {\n",
       "        vertical-align: middle;\n",
       "    }\n",
       "\n",
       "    .dataframe tbody tr th {\n",
       "        vertical-align: top;\n",
       "    }\n",
       "\n",
       "    .dataframe thead th {\n",
       "        text-align: right;\n",
       "    }\n",
       "</style>\n",
       "<table border=\"1\" class=\"dataframe\">\n",
       "  <thead>\n",
       "    <tr style=\"text-align: right;\">\n",
       "      <th>class_prop</th>\n",
       "      <th>niv_prop_1</th>\n",
       "      <th>niv_prop_2</th>\n",
       "      <th>niv_prop_3</th>\n",
       "      <th>niv_prop_4</th>\n",
       "    </tr>\n",
       "    <tr>\n",
       "      <th>renovated_roof</th>\n",
       "      <th></th>\n",
       "      <th></th>\n",
       "      <th></th>\n",
       "      <th></th>\n",
       "    </tr>\n",
       "  </thead>\n",
       "  <tbody>\n",
       "    <tr>\n",
       "      <th>False</th>\n",
       "      <td>19.704483</td>\n",
       "      <td>37.681591</td>\n",
       "      <td>7.939913</td>\n",
       "      <td>38.646071</td>\n",
       "    </tr>\n",
       "    <tr>\n",
       "      <th>True</th>\n",
       "      <td>7.660822</td>\n",
       "      <td>14.650065</td>\n",
       "      <td>3.086925</td>\n",
       "      <td>15.025042</td>\n",
       "    </tr>\n",
       "  </tbody>\n",
       "</table>\n",
       "</div>"
      ],
      "text/plain": [
       "class_prop      niv_prop_1  niv_prop_2  niv_prop_3  niv_prop_4\n",
       "renovated_roof                                                \n",
       "False            19.704483   37.681591    7.939913   38.646071\n",
       "True              7.660822   14.650065    3.086925   15.025042"
      ]
     },
     "execution_count": 260,
     "metadata": {},
     "output_type": "execute_result"
    }
   ],
   "source": [
    "(((obs_prop-exp_prop)**2)/exp_prop)"
   ]
  },
  {
   "cell_type": "markdown",
   "id": "54bb4564",
   "metadata": {},
   "source": [
    "The richest and in places with more house owners are those contributing the most to the difference of the expected"
   ]
  },
  {
   "cell_type": "code",
   "execution_count": null,
   "id": "7ea3c4e8",
   "metadata": {},
   "outputs": [],
   "source": []
  },
  {
   "cell_type": "code",
   "execution_count": null,
   "id": "f57c2b01",
   "metadata": {},
   "outputs": [],
   "source": []
  }
 ],
 "metadata": {
  "kernelspec": {
   "display_name": "Python 3 (ipykernel)",
   "language": "python",
   "name": "python3"
  },
  "language_info": {
   "codemirror_mode": {
    "name": "ipython",
    "version": 3
   },
   "file_extension": ".py",
   "mimetype": "text/x-python",
   "name": "python",
   "nbconvert_exporter": "python",
   "pygments_lexer": "ipython3",
   "version": "3.9.7"
  },
  "toc": {
   "base_numbering": 1,
   "nav_menu": {},
   "number_sections": true,
   "sideBar": true,
   "skip_h1_title": false,
   "title_cell": "Table of Contents",
   "title_sidebar": "Contents",
   "toc_cell": false,
   "toc_position": {
    "height": "calc(100% - 180px)",
    "left": "10px",
    "top": "150px",
    "width": "203.333px"
   },
   "toc_section_display": true,
   "toc_window_display": true
  }
 },
 "nbformat": 4,
 "nbformat_minor": 5
}
