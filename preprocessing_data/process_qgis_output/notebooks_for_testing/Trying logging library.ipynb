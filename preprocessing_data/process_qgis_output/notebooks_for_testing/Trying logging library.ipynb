{
 "cells": [
  {
   "cell_type": "code",
   "execution_count": 22,
   "id": "79c7f861",
   "metadata": {},
   "outputs": [],
   "source": [
    "import logging\n"
   ]
  },
  {
   "cell_type": "code",
   "execution_count": 23,
   "id": "7fa3494c",
   "metadata": {},
   "outputs": [
    {
     "name": "stderr",
     "output_type": "stream",
     "text": [
      "  Hey, this is working!\n"
     ]
    }
   ],
   "source": [
    "level    = logging.INFO\n",
    "format   = '  %(message)s'\n",
    "handlers = [logging.FileHandler('filename.log'), logging.StreamHandler()]\n",
    "\n",
    "logging.basicConfig(level = level, format = format, handlers = handlers)\n",
    "logging.info('Hey, this is working!')"
   ]
  },
  {
   "cell_type": "code",
   "execution_count": 24,
   "id": "d4c1d72d",
   "metadata": {},
   "outputs": [],
   "source": [
    "b = \"one day in life\""
   ]
  },
  {
   "cell_type": "code",
   "execution_count": 14,
   "id": "9baecee3",
   "metadata": {},
   "outputs": [
    {
     "name": "stderr",
     "output_type": "stream",
     "text": [
      "  ['one', 'day', 'in', 'life']\n"
     ]
    },
    {
     "name": "stdout",
     "output_type": "stream",
     "text": [
      "['one', 'day', 'in', 'life']\n"
     ]
    }
   ],
   "source": [
    "logging.info(b.split(\" \"))\n",
    "print(b.split(\" \"))"
   ]
  },
  {
   "cell_type": "code",
   "execution_count": 33,
   "id": "e7c0a140",
   "metadata": {},
   "outputs": [],
   "source": [
    "logging.shutdown()"
   ]
  },
  {
   "cell_type": "code",
   "execution_count": 32,
   "id": "68929b0f",
   "metadata": {},
   "outputs": [
    {
     "name": "stderr",
     "output_type": "stream",
     "text": [
      "  one day in life %\n"
     ]
    }
   ],
   "source": [
    "logging.info(f\"{b} %\")"
   ]
  },
  {
   "cell_type": "code",
   "execution_count": null,
   "id": "ab57bd43",
   "metadata": {},
   "outputs": [],
   "source": []
  }
 ],
 "metadata": {
  "kernelspec": {
   "display_name": "Python 3 (ipykernel)",
   "language": "python",
   "name": "python3"
  },
  "language_info": {
   "codemirror_mode": {
    "name": "ipython",
    "version": 3
   },
   "file_extension": ".py",
   "mimetype": "text/x-python",
   "name": "python",
   "nbconvert_exporter": "python",
   "pygments_lexer": "ipython3",
   "version": "3.9.7"
  },
  "toc": {
   "base_numbering": 1,
   "nav_menu": {},
   "number_sections": true,
   "sideBar": true,
   "skip_h1_title": false,
   "title_cell": "Table of Contents",
   "title_sidebar": "Contents",
   "toc_cell": false,
   "toc_position": {},
   "toc_section_display": true,
   "toc_window_display": false
  }
 },
 "nbformat": 4,
 "nbformat_minor": 5
}
