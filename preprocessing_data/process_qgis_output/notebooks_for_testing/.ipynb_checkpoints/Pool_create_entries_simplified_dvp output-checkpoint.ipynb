{
 "cells": [
  {
   "cell_type": "code",
   "execution_count": 1,
   "metadata": {},
   "outputs": [],
   "source": [
    "import os\n",
    "from time import time\n",
    "    \n",
    "import geopandas as gpd\n",
    "import matplotlib.pyplot as plt\n",
    "import numpy as np\n",
    "import pandas as pd\n",
    "import seaborn as sns\n",
    "import timeit\n",
    "\n",
    "from gdfs_utils import open_gdfs\n",
    "from pool_create_danube_entries import pool_create_danube_entries"
   ]
  },
  {
   "cell_type": "code",
   "execution_count": 2,
   "metadata": {},
   "outputs": [],
   "source": [
    "folder_loc = r\"C:\\Users\\laraujo\\Music\\Work_august\\dados\\_Joined_per_dept\"\n",
    "dept_file_paths = [os.path.join(folder_loc, file) for file in os.listdir(folder_loc)[:3]]"
   ]
  },
  {
   "cell_type": "code",
   "execution_count": 3,
   "metadata": {},
   "outputs": [
    {
     "name": "stdout",
     "output_type": "stream",
     "text": [
      "open_gdfs executed in150.4784s\n"
     ]
    }
   ],
   "source": [
    "# read dept files\n",
    "start_time = time()\n",
    "loaded_gdfs = open_gdfs(dept_file_paths)\n",
    "print(f\"open_gdfs executed in{(time()-start_time):.4f}s\")"
   ]
  },
  {
   "cell_type": "code",
   "execution_count": 4,
   "metadata": {},
   "outputs": [],
   "source": [
    "gdfs = loaded_gdfs.copy()"
   ]
  },
  {
   "cell_type": "code",
   "execution_count": 5,
   "metadata": {},
   "outputs": [
    {
     "data": {
      "text/html": [
       "<div>\n",
       "<style scoped>\n",
       "    .dataframe tbody tr th:only-of-type {\n",
       "        vertical-align: middle;\n",
       "    }\n",
       "\n",
       "    .dataframe tbody tr th {\n",
       "        vertical-align: top;\n",
       "    }\n",
       "\n",
       "    .dataframe thead th {\n",
       "        text-align: right;\n",
       "    }\n",
       "</style>\n",
       "<table border=\"1\" class=\"dataframe\">\n",
       "  <thead>\n",
       "    <tr style=\"text-align: right;\">\n",
       "      <th></th>\n",
       "      <th>bnb_id</th>\n",
       "      <th>altitude_sol</th>\n",
       "      <th>adr_fiabilite_niv_1</th>\n",
       "      <th>adr_fiabilite_niv_2</th>\n",
       "      <th>config_adr</th>\n",
       "      <th>geombui_area</th>\n",
       "      <th>cerffo2020_l_adresse</th>\n",
       "      <th>adedpe202006_logtype_min_classe_ener_ges</th>\n",
       "      <th>adedpe202006_logtype_coherence_data_methode_dpe</th>\n",
       "      <th>adedpe202006_logtype_is_3cl</th>\n",
       "      <th>...</th>\n",
       "      <th>TYPO_count</th>\n",
       "      <th>TYPO_unique</th>\n",
       "      <th>TYPO_min</th>\n",
       "      <th>Part-prop_mean</th>\n",
       "      <th>Part-Pauvr_mean</th>\n",
       "      <th>INSEE_DEP_min</th>\n",
       "      <th>Ter_P1_min</th>\n",
       "      <th>Ter_P2-7_min</th>\n",
       "      <th>TYPO_M</th>\n",
       "      <th>geometry</th>\n",
       "    </tr>\n",
       "  </thead>\n",
       "  <tbody>\n",
       "    <tr>\n",
       "      <th>0</th>\n",
       "      <td>01005000AB0110_bc15409b9aa9d1c</td>\n",
       "      <td>NaN</td>\n",
       "      <td>problème de géocodage</td>\n",
       "      <td>batiment non géocodée au numéro</td>\n",
       "      <td>batiment sans adr correctement géocodée</td>\n",
       "      <td>NaN</td>\n",
       "      <td>{\"5084 LE BOURG\"}</td>\n",
       "      <td>None</td>\n",
       "      <td>None</td>\n",
       "      <td>None</td>\n",
       "      <td>...</td>\n",
       "      <td>NaN</td>\n",
       "      <td>NaN</td>\n",
       "      <td>None</td>\n",
       "      <td>0.517241</td>\n",
       "      <td>0.103448</td>\n",
       "      <td>01</td>\n",
       "      <td>FRANCE_TERRE_TUILE</td>\n",
       "      <td>FRANCE_TUILE</td>\n",
       "      <td>None</td>\n",
       "      <td>MULTIPOLYGON (((847384.100 6546081.977, 847367...</td>\n",
       "    </tr>\n",
       "  </tbody>\n",
       "</table>\n",
       "<p>1 rows × 324 columns</p>\n",
       "</div>"
      ],
      "text/plain": [
       "                           bnb_id  altitude_sol    adr_fiabilite_niv_1  \\\n",
       "0  01005000AB0110_bc15409b9aa9d1c           NaN  problème de géocodage   \n",
       "\n",
       "               adr_fiabilite_niv_2                               config_adr  \\\n",
       "0  batiment non géocodée au numéro  batiment sans adr correctement géocodée   \n",
       "\n",
       "   geombui_area cerffo2020_l_adresse adedpe202006_logtype_min_classe_ener_ges  \\\n",
       "0           NaN    {\"5084 LE BOURG\"}                                     None   \n",
       "\n",
       "  adedpe202006_logtype_coherence_data_methode_dpe adedpe202006_logtype_is_3cl  \\\n",
       "0                                            None                        None   \n",
       "\n",
       "   ...  TYPO_count TYPO_unique TYPO_min  Part-prop_mean  Part-Pauvr_mean  \\\n",
       "0  ...         NaN         NaN     None        0.517241         0.103448   \n",
       "\n",
       "   INSEE_DEP_min          Ter_P1_min  Ter_P2-7_min TYPO_M  \\\n",
       "0             01  FRANCE_TERRE_TUILE  FRANCE_TUILE   None   \n",
       "\n",
       "                                            geometry  \n",
       "0  MULTIPOLYGON (((847384.100 6546081.977, 847367...  \n",
       "\n",
       "[1 rows x 324 columns]"
      ]
     },
     "execution_count": 5,
     "metadata": {},
     "output_type": "execute_result"
    }
   ],
   "source": [
    "gdfs[\"01\"].head(1)"
   ]
  },
  {
   "cell_type": "markdown",
   "metadata": {},
   "source": [
    "# Formatting"
   ]
  },
  {
   "cell_type": "code",
   "execution_count": 6,
   "metadata": {
    "scrolled": true
   },
   "outputs": [
    {
     "name": "stdout",
     "output_type": "stream",
     "text": [
      "pool_create_danube_entries executed in59.2049s\n"
     ]
    }
   ],
   "source": [
    "start_time = time()\n",
    "gdfs = pool_create_danube_entries(gdfs)\n",
    "print(f\"pool_create_danube_entries executed in{(time()-start_time):.4f}s\")"
   ]
  },
  {
   "cell_type": "code",
   "execution_count": 7,
   "metadata": {},
   "outputs": [
    {
     "data": {
      "text/html": [
       "<div>\n",
       "<style scoped>\n",
       "    .dataframe tbody tr th:only-of-type {\n",
       "        vertical-align: middle;\n",
       "    }\n",
       "\n",
       "    .dataframe tbody tr th {\n",
       "        vertical-align: top;\n",
       "    }\n",
       "\n",
       "    .dataframe thead th {\n",
       "        text-align: right;\n",
       "    }\n",
       "</style>\n",
       "<table border=\"1\" class=\"dataframe\">\n",
       "  <thead>\n",
       "    <tr style=\"text-align: right;\">\n",
       "      <th></th>\n",
       "      <th>typology</th>\n",
       "      <th>usage</th>\n",
       "      <th>territory</th>\n",
       "      <th>period</th>\n",
       "      <th>bnb_id</th>\n",
       "      <th>altitude_sol</th>\n",
       "      <th>adr_fiabilite_niv_1</th>\n",
       "      <th>adr_fiabilite_niv_2</th>\n",
       "      <th>config_adr</th>\n",
       "      <th>geombui_area</th>\n",
       "      <th>...</th>\n",
       "      <th>Ter_P1_min</th>\n",
       "      <th>Ter_P2-7_min</th>\n",
       "      <th>TYPO_M</th>\n",
       "      <th>geometry</th>\n",
       "      <th>TYPO_M_S</th>\n",
       "      <th>TYPO_BDNB_S</th>\n",
       "      <th>archetype</th>\n",
       "      <th>L1</th>\n",
       "      <th>L2</th>\n",
       "      <th>L3</th>\n",
       "    </tr>\n",
       "  </thead>\n",
       "  <tbody>\n",
       "    <tr>\n",
       "      <th>0</th>\n",
       "      <td>BA</td>\n",
       "      <td>BATIMENT INDUSTRIEL</td>\n",
       "      <td>None</td>\n",
       "      <td>None</td>\n",
       "      <td>01005000AB0110_bc15409b9aa9d1c</td>\n",
       "      <td>NaN</td>\n",
       "      <td>problème de géocodage</td>\n",
       "      <td>batiment non géocodée au numéro</td>\n",
       "      <td>batiment sans adr correctement géocodée</td>\n",
       "      <td>NaN</td>\n",
       "      <td>...</td>\n",
       "      <td>FRANCE_TERRE_TUILE</td>\n",
       "      <td>FRANCE_TUILE</td>\n",
       "      <td>None</td>\n",
       "      <td>MULTIPOLYGON (((847384.100 6546081.977, 847367...</td>\n",
       "      <td>None</td>\n",
       "      <td>BA</td>\n",
       "      <td>None</td>\n",
       "      <td>1</td>\n",
       "      <td>1</td>\n",
       "      <td>1</td>\n",
       "    </tr>\n",
       "  </tbody>\n",
       "</table>\n",
       "<p>1 rows × 334 columns</p>\n",
       "</div>"
      ],
      "text/plain": [
       "  typology                usage territory period  \\\n",
       "0       BA  BATIMENT INDUSTRIEL      None   None   \n",
       "\n",
       "                           bnb_id  altitude_sol    adr_fiabilite_niv_1  \\\n",
       "0  01005000AB0110_bc15409b9aa9d1c           NaN  problème de géocodage   \n",
       "\n",
       "               adr_fiabilite_niv_2                               config_adr  \\\n",
       "0  batiment non géocodée au numéro  batiment sans adr correctement géocodée   \n",
       "\n",
       "   geombui_area  ...          Ter_P1_min  Ter_P2-7_min TYPO_M  \\\n",
       "0           NaN  ...  FRANCE_TERRE_TUILE  FRANCE_TUILE   None   \n",
       "\n",
       "                                            geometry  TYPO_M_S TYPO_BDNB_S  \\\n",
       "0  MULTIPOLYGON (((847384.100 6546081.977, 847367...      None          BA   \n",
       "\n",
       "  archetype  L1  L2  L3  \n",
       "0      None   1   1   1  \n",
       "\n",
       "[1 rows x 334 columns]"
      ]
     },
     "execution_count": 7,
     "metadata": {},
     "output_type": "execute_result"
    }
   ],
   "source": [
    "gdfs[\"01\"].head(1)"
   ]
  },
  {
   "cell_type": "markdown",
   "metadata": {},
   "source": [
    "# Percentage of data"
   ]
  },
  {
   "cell_type": "code",
   "execution_count": 9,
   "metadata": {},
   "outputs": [],
   "source": [
    "# Percentage of typology data\n",
    "def dept_perc_typology(df):\n",
    "    \n",
    "    def percent_not_null(column):\n",
    "        return df[column].notnull().sum() / len(df) * 100\n",
    "    \n",
    "    def percent_entries_not_null():\n",
    "        entries_not_null = df[(df['period'].notnull()) & \n",
    "                        #            (df['territory'].notnull()) & \n",
    "                                   (df['usage'].notnull()) & \n",
    "                                   (df['typology'].notnull()) ] \n",
    "        return len(entries_not_null) / len(df) * 100\n",
    "      \n",
    " \n",
    "    \n",
    "    dict_perc = {      \n",
    "                    \"all_danube_entries\" : percent_not_null(\"archetype\"),\n",
    "                    \"period\" : percent_not_null(\"period\"),\n",
    "                    \"territory\" : percent_not_null(\"territory\"),\n",
    "                    \"usage\" : percent_not_null(\"usage\"),\n",
    "                    \"typology\" : percent_not_null(\"typology\"),\n",
    "#                     \"mapuce_typo_tot\": percent_not_null(\"TYPO_count\"),\n",
    "                    \"mapuce_typo_uni\": percent_not_null(\"TYPO_M\"),\n",
    "                    \"mapuce_typo_S\" : percent_not_null(\"TYPO_M_S\"),\n",
    "                    \"bdnb_usage_tot\" : percent_not_null(\"cerffo2020_usage_niveau_3_txt\"),\n",
    "                    \"bdnb_typo_S\" : percent_not_null(\"TYPO_BDNB_S\"), # ajouter usage\n",
    "                        }\n",
    "    \n",
    "    def percent_usage_multiple_indicators():\n",
    "        usage_mult_ind = {}\n",
    "        cond_mult = df[\"L3\"]>1\n",
    "        # all multiple usages in bdnb\n",
    "        usage_mult_ind[\"bdnb_all_multiple_usage\"] =  len(df[cond_mult]) \n",
    "        \n",
    "        # usage is defined even though there is multiple usages\n",
    "        usage_mult_ind[\"mult_usage_OK\"] =  len(df[(cond_mult) & (df[\"usage\"].notnull())])\n",
    "        \n",
    "        # usage is NOT defined ((because methodology does not follow logic) ou (ignored case)) and there is multiple usage\n",
    "        usage_mult_ind[\"mult_usage_KO\"] =  len(df[(cond_mult) & (df[\"usage\"].isnull())])\n",
    "        \n",
    "        # typology is defined even though there is multiple usages\n",
    "        usage_mult_ind[\"mult_typo_OK\"] =  len(df[(cond_mult) & (df[\"typology\"].notnull())])\n",
    "        \n",
    "        # typology is NOT defined ((because methodology does not follow logic) ou (ignored case)) and there is multiple usage\n",
    "        usage_mult_ind[\"mult_typo_KO\"] =  len(df[(cond_mult) & (df[\"typology\"].isnull())])\n",
    "        usage_mult_ind = {k:v / len(df) * 100 for (k,v) in usage_mult_ind.items()}\n",
    "        return usage_mult_ind   \n",
    "    \n",
    "    usage_mult_ind = percent_usage_multiple_indicators()\n",
    "    dict_perc.update(usage_mult_ind)\n",
    "    \n",
    "    \n",
    "    percent_dpe = {\n",
    "                \"dpe_classe_conso\" : percent_not_null(\"adedpe202006_logtype_classe_conso_ener\"),\n",
    "                \"dpe_mean_conso\" : percent_not_null(\"adedpe202006_mean_conso_ener\"),\n",
    "\n",
    "                \"dpe_baie_vitrage\" : percent_not_null(\"adedpe202006_logtype_baie_type_vitrage\"),\n",
    "                \"dpe_baie_u\" : percent_not_null(\"adedpe202006_logtype_baie_u\"),\n",
    "\n",
    "                \"dpe_mur_mat\" : percent_not_null(\"adedpe202006_logtype_mur_mat_ext\"),\n",
    "                \"dpe_mur_pos_is\" : percent_not_null(\"adedpe202006_logtype_mur_pos_isol_ext\"),\n",
    "                \"dpe_mur_u\" : percent_not_null(\"adedpe202006_logtype_mur_u_ext\"),\n",
    "\n",
    "                \"dpe_pb_mat\" : percent_not_null(\"adedpe202006_logtype_pb_mat\"),\n",
    "                \"dpe_pb_pos_is\" : percent_not_null(\"adedpe202006_logtype_pb_pos_isol\"),\n",
    "                \"dpe_pb_u\" : percent_not_null(\"adedpe202006_logtype_pb_u\"),\n",
    "\n",
    "                \"dpe_ph_mat\" : percent_not_null(\"adedpe202006_logtype_ph_mat\"),\n",
    "                \"dpe_ph_pos_is\" : percent_not_null(\"adedpe202006_logtype_ph_pos_isol\"),\n",
    "                \"dpe_ph_u\" : percent_not_null(\"adedpe202006_logtype_ph_u\"),\n",
    "                }\n",
    "    \n",
    "    dict_perc.update(percent_dpe)\n",
    "                         \n",
    "    perc_cases = pd.DataFrame.from_dict(dict_perc, orient = 'index')\n",
    "    return perc_cases\n",
    "\n",
    "\n",
    "def all_perc_typology(gdfs):\n",
    "    perc_typologies = [dept_perc_typology(gdfs[one_gdf]).rename(columns={0:one_gdf}) for one_gdf in gdfs]\n",
    "    all_perc_typologies = pd.concat(perc_typologies, axis=1).round(decimals=2)\n",
    "    return all_perc_typologies\n",
    "\n",
    "perc = all_perc_typology(gdfs)"
   ]
  },
  {
   "cell_type": "code",
   "execution_count": 11,
   "metadata": {},
   "outputs": [],
   "source": [
    "first_dept = sorted(gdfs)[0]\n",
    "last_dept = sorted(gdfs)[-1]\n",
    "name_perc_nb_depts_from_to = f\"percent_depts_{first_dept}_to_{last_dept}.csv\"\n",
    "folder = r\"C:\\Users\\laraujo\\Music\\Work_august\\dados\\_output_code\\percentage_of_data_tables\"\n",
    "perc.to_csv(rf\"{folder}/{name_perc_nb_depts_from_to}\")"
   ]
  },
  {
   "cell_type": "code",
   "execution_count": null,
   "metadata": {},
   "outputs": [],
   "source": [
    "perc_description"
   ]
  },
  {
   "cell_type": "markdown",
   "metadata": {},
   "source": [
    "with pd.option_context('display.float_format', lambda x: '%.1f' % x):\n",
    "    display(perc_description)"
   ]
  },
  {
   "cell_type": "markdown",
   "metadata": {},
   "source": [
    "### Archetypes"
   ]
  },
  {
   "cell_type": "markdown",
   "metadata": {},
   "source": [
    "df[\"archetype\"] =  df['period'].astype(str) + \"-\" + df['typology'].astype(str) + \"-\" + df['usage'].astype(str) + \"-\" + df['territory'].astype(str)"
   ]
  },
  {
   "cell_type": "markdown",
   "metadata": {},
   "source": [
    "archs = list(df.archetype.unique())\n",
    "archs"
   ]
  },
  {
   "cell_type": "markdown",
   "metadata": {},
   "source": [
    "acrh_vals  = [arc for arc in archs if \"None\" not in arc ]\n",
    "sorted(acrh_val)"
   ]
  },
  {
   "cell_type": "markdown",
   "metadata": {},
   "source": [
    "archs_gdfs_dict = {arch : gdf[gdf.archetype == arch] for arch in acrh_vals}\n",
    "archs_gdfs_dict['P7-P-TERTIAIRE-FRANCE_TUILE']"
   ]
  },
  {
   "cell_type": "markdown",
   "metadata": {},
   "source": [
    "len(archs_gdfs_dict)"
   ]
  },
  {
   "cell_type": "markdown",
   "metadata": {},
   "source": [
    "for key in DataFrameDict.keys():\n",
    "    DataFrameDict[key].to_csv(fr\"archetypes/{key}.csv\")"
   ]
  },
  {
   "cell_type": "markdown",
   "metadata": {},
   "source": [
    "cond_have_all_entries = ((df['period'].notnull()) & \n",
    "                                   (df['territory'].notnull()) & \n",
    "                                   (df['usage'].notnull()) & \n",
    "                                   (df['typology'].notnull()))\n",
    "\n",
    "df[\"archetype\"] = np.where(cond_have_all_entries, \n",
    "                           (df['period'].astype(str) + \"-\" + \n",
    "                            df['typology'].astype(str) + \"-\" + \n",
    "                            df['usage'].astype(str) + \"-\" + \n",
    "                            df['territory'].astype(str)), \n",
    "                           None)"
   ]
  },
  {
   "cell_type": "code",
   "execution_count": 12,
   "metadata": {},
   "outputs": [],
   "source": [
    "df = gdfs[\"01\"]"
   ]
  },
  {
   "cell_type": "code",
   "execution_count": 13,
   "metadata": {},
   "outputs": [
    {
     "data": {
      "text/html": [
       "<div>\n",
       "<style scoped>\n",
       "    .dataframe tbody tr th:only-of-type {\n",
       "        vertical-align: middle;\n",
       "    }\n",
       "\n",
       "    .dataframe tbody tr th {\n",
       "        vertical-align: top;\n",
       "    }\n",
       "\n",
       "    .dataframe thead th {\n",
       "        text-align: right;\n",
       "    }\n",
       "</style>\n",
       "<table border=\"1\" class=\"dataframe\">\n",
       "  <thead>\n",
       "    <tr style=\"text-align: right;\">\n",
       "      <th></th>\n",
       "      <th>period</th>\n",
       "      <th>territory</th>\n",
       "      <th>usage</th>\n",
       "      <th>typology</th>\n",
       "      <th>archetype</th>\n",
       "    </tr>\n",
       "  </thead>\n",
       "  <tbody>\n",
       "    <tr>\n",
       "      <th>0</th>\n",
       "      <td>None</td>\n",
       "      <td>None</td>\n",
       "      <td>BATIMENT INDUSTRIEL</td>\n",
       "      <td>BA</td>\n",
       "      <td>None</td>\n",
       "    </tr>\n",
       "    <tr>\n",
       "      <th>1</th>\n",
       "      <td>None</td>\n",
       "      <td>None</td>\n",
       "      <td>None</td>\n",
       "      <td>None</td>\n",
       "      <td>None</td>\n",
       "    </tr>\n",
       "    <tr>\n",
       "      <th>2</th>\n",
       "      <td>P7</td>\n",
       "      <td>FRANCE_TUILE</td>\n",
       "      <td>HABITAT</td>\n",
       "      <td>P</td>\n",
       "      <td>P7-P-HABITAT-FRANCE_TUILE</td>\n",
       "    </tr>\n",
       "    <tr>\n",
       "      <th>3</th>\n",
       "      <td>None</td>\n",
       "      <td>None</td>\n",
       "      <td>None</td>\n",
       "      <td>None</td>\n",
       "      <td>None</td>\n",
       "    </tr>\n",
       "    <tr>\n",
       "      <th>4</th>\n",
       "      <td>P6</td>\n",
       "      <td>FRANCE_TUILE</td>\n",
       "      <td>HABITAT</td>\n",
       "      <td>P</td>\n",
       "      <td>P6-P-HABITAT-FRANCE_TUILE</td>\n",
       "    </tr>\n",
       "    <tr>\n",
       "      <th>...</th>\n",
       "      <td>...</td>\n",
       "      <td>...</td>\n",
       "      <td>...</td>\n",
       "      <td>...</td>\n",
       "      <td>...</td>\n",
       "    </tr>\n",
       "    <tr>\n",
       "      <th>225149</th>\n",
       "      <td>P2</td>\n",
       "      <td>FRANCE_TUILE</td>\n",
       "      <td>HABITAT</td>\n",
       "      <td>P</td>\n",
       "      <td>P2-P-HABITAT-FRANCE_TUILE</td>\n",
       "    </tr>\n",
       "    <tr>\n",
       "      <th>225150</th>\n",
       "      <td>P2</td>\n",
       "      <td>FRANCE_TUILE</td>\n",
       "      <td>HABITAT</td>\n",
       "      <td>P</td>\n",
       "      <td>P2-P-HABITAT-FRANCE_TUILE</td>\n",
       "    </tr>\n",
       "    <tr>\n",
       "      <th>225151</th>\n",
       "      <td>P2</td>\n",
       "      <td>FRANCE_TUILE</td>\n",
       "      <td>HABITAT</td>\n",
       "      <td>P</td>\n",
       "      <td>P2-P-HABITAT-FRANCE_TUILE</td>\n",
       "    </tr>\n",
       "    <tr>\n",
       "      <th>225152</th>\n",
       "      <td>P2</td>\n",
       "      <td>FRANCE_TUILE</td>\n",
       "      <td>HABITAT</td>\n",
       "      <td>P</td>\n",
       "      <td>P2-P-HABITAT-FRANCE_TUILE</td>\n",
       "    </tr>\n",
       "    <tr>\n",
       "      <th>225153</th>\n",
       "      <td>P2</td>\n",
       "      <td>FRANCE_TUILE</td>\n",
       "      <td>HABITAT</td>\n",
       "      <td>P</td>\n",
       "      <td>P2-P-HABITAT-FRANCE_TUILE</td>\n",
       "    </tr>\n",
       "  </tbody>\n",
       "</table>\n",
       "<p>225154 rows × 5 columns</p>\n",
       "</div>"
      ],
      "text/plain": [
       "       period     territory                usage typology  \\\n",
       "0        None          None  BATIMENT INDUSTRIEL       BA   \n",
       "1        None          None                 None     None   \n",
       "2          P7  FRANCE_TUILE              HABITAT        P   \n",
       "3        None          None                 None     None   \n",
       "4          P6  FRANCE_TUILE              HABITAT        P   \n",
       "...       ...           ...                  ...      ...   \n",
       "225149     P2  FRANCE_TUILE              HABITAT        P   \n",
       "225150     P2  FRANCE_TUILE              HABITAT        P   \n",
       "225151     P2  FRANCE_TUILE              HABITAT        P   \n",
       "225152     P2  FRANCE_TUILE              HABITAT        P   \n",
       "225153     P2  FRANCE_TUILE              HABITAT        P   \n",
       "\n",
       "                        archetype  \n",
       "0                            None  \n",
       "1                            None  \n",
       "2       P7-P-HABITAT-FRANCE_TUILE  \n",
       "3                            None  \n",
       "4       P6-P-HABITAT-FRANCE_TUILE  \n",
       "...                           ...  \n",
       "225149  P2-P-HABITAT-FRANCE_TUILE  \n",
       "225150  P2-P-HABITAT-FRANCE_TUILE  \n",
       "225151  P2-P-HABITAT-FRANCE_TUILE  \n",
       "225152  P2-P-HABITAT-FRANCE_TUILE  \n",
       "225153  P2-P-HABITAT-FRANCE_TUILE  \n",
       "\n",
       "[225154 rows x 5 columns]"
      ]
     },
     "execution_count": 13,
     "metadata": {},
     "output_type": "execute_result"
    }
   ],
   "source": [
    "df[[\"period\",\"territory\",\"usage\",\"typology\",\"archetype\"]]"
   ]
  },
  {
   "cell_type": "code",
   "execution_count": 16,
   "metadata": {},
   "outputs": [
    {
     "data": {
      "text/plain": [
       "[None,\n",
       " 'P7-P-HABITAT-FRANCE_TUILE',\n",
       " 'P6-P-HABITAT-FRANCE_TUILE',\n",
       " 'P5-P-HABITAT-FRANCE_TUILE',\n",
       " 'P1-P-HABITAT-FRANCE_TERRE_TUILE',\n",
       " 'P2-P-HABITAT-FRANCE_TUILE',\n",
       " 'P4-P-HABITAT-FRANCE_TUILE',\n",
       " 'P3-P-HABITAT-FRANCE_TUILE',\n",
       " 'P1-I-HABITAT-FRANCE_TERRE_TUILE',\n",
       " 'P6-I-HABITAT-FRANCE_TUILE',\n",
       " 'P2-I-HABITAT-FRANCE_TUILE',\n",
       " 'P5-I-HABITAT-FRANCE_TUILE',\n",
       " 'P7-I-HABITAT-FRANCE_TUILE',\n",
       " 'P1-I-TERTIAIRE-FRANCE_TERRE_TUILE',\n",
       " 'P3-I-HABITAT-FRANCE_TUILE',\n",
       " 'P4-I-HABITAT-FRANCE_TUILE',\n",
       " 'P1-I-COMMERCE-FRANCE_TERRE_TUILE',\n",
       " 'P2-I-COMMERCE-FRANCE_TUILE',\n",
       " 'P5-BA-COMMERCE-FRANCE_TUILE',\n",
       " 'P6-I-COMMERCE-FRANCE_TUILE',\n",
       " 'P4-I-TERTIAIRE-FRANCE_TUILE',\n",
       " 'P1-BA-COMMERCE-FRANCE_TERRE_TUILE',\n",
       " 'P6-I-TERTIAIRE-FRANCE_TUILE',\n",
       " 'P1-BA-BATIMENT SPORTIF-FRANCE_TERRE_TUILE',\n",
       " 'P5-I-COMMERCE-FRANCE_TUILE',\n",
       " 'P4-I-COMMERCE-FRANCE_TUILE',\n",
       " 'P7-I-TERTIAIRE-FRANCE_TUILE',\n",
       " 'P2-I-TERTIAIRE-FRANCE_TUILE',\n",
       " 'P3-I-BATIMENT D ENSEIGNEMENT-FRANCE_TUILE',\n",
       " 'P5-I-TERTIAIRE-FRANCE_TUILE',\n",
       " 'P7-BA-BATIMENT SPORTIF-FRANCE_TUILE',\n",
       " 'P6-BA-BATIMENT SPORTIF-FRANCE_TUILE',\n",
       " 'P1-I-BATIMENT D ENSEIGNEMENT-FRANCE_TERRE_TUILE',\n",
       " 'P6-I-BATIMENT D ENSEIGNEMENT-FRANCE_TUILE',\n",
       " 'P6-BA-HABITAT-FRANCE_TUILE',\n",
       " 'P6-BA-COMMERCE-FRANCE_TUILE',\n",
       " 'P3-I-TERTIAIRE-FRANCE_TUILE',\n",
       " 'P7-I-BATIMENT DE SANTE-FRANCE_TUILE',\n",
       " 'P4-BA-BATIMENT SPORTIF-FRANCE_TUILE',\n",
       " 'P1-I-BATIMENT DE SANTE-FRANCE_TERRE_TUILE',\n",
       " 'P7-I-BATIMENT D ENSEIGNEMENT-FRANCE_TUILE',\n",
       " 'P2-BA-HABITAT-FRANCE_TUILE',\n",
       " 'P5-BA-HABITAT-FRANCE_TUILE',\n",
       " 'P5-P-TERTIAIRE-FRANCE_TUILE',\n",
       " 'P1-BA-HABITAT-FRANCE_TERRE_TUILE',\n",
       " 'P6-I-BATIMENT DE SANTE-FRANCE_TUILE',\n",
       " 'P5-BA-BATIMENT SPORTIF-FRANCE_TUILE',\n",
       " 'P7-I-COMMERCE-FRANCE_TUILE',\n",
       " 'P2-I-BATIMENT DE SANTE-FRANCE_TUILE',\n",
       " 'P4-I-BATIMENT D ENSEIGNEMENT-FRANCE_TUILE',\n",
       " 'P2-I-BATIMENT D ENSEIGNEMENT-FRANCE_TUILE',\n",
       " 'P3-BA-BATIMENT SPORTIF-FRANCE_TUILE',\n",
       " 'P3-I-COMMERCE-FRANCE_TUILE',\n",
       " 'P3-I-BATIMENT DE SANTE-FRANCE_TUILE',\n",
       " 'P5-I-BATIMENT D ENSEIGNEMENT-FRANCE_TUILE',\n",
       " 'P1-P-TERTIAIRE-FRANCE_TERRE_TUILE',\n",
       " 'P4-BA-HABITAT-FRANCE_TUILE',\n",
       " 'P3-BA-HABITAT-FRANCE_TUILE',\n",
       " 'P6-BA-TERTIAIRE-FRANCE_TUILE',\n",
       " 'P1-P-COMMERCE-FRANCE_TERRE_TUILE',\n",
       " 'P2-BA-BATIMENT SPORTIF-FRANCE_TUILE',\n",
       " 'P4-BA-COMMERCE-FRANCE_TUILE',\n",
       " 'P7-BA-BATIMENT DE SANTE-FRANCE_TUILE',\n",
       " 'P7-BA-HABITAT-FRANCE_TUILE',\n",
       " 'P7-BA-TERTIAIRE-FRANCE_TUILE',\n",
       " 'P2-BA-COMMERCE-FRANCE_TUILE',\n",
       " 'P7-P-COMMERCE-FRANCE_TUILE',\n",
       " 'P5-I-BATIMENT DE SANTE-FRANCE_TUILE',\n",
       " 'P7-P-TERTIAIRE-FRANCE_TUILE',\n",
       " 'P2-P-COMMERCE-FRANCE_TUILE',\n",
       " 'P1-P-COMMERCE-FRANCE_PIERRE_CALCAIRE_TUILE',\n",
       " 'P6-P-TERTIAIRE-FRANCE_TUILE',\n",
       " 'P1-P-HABITAT-FRANCE_PIERRE_CALCAIRE_TUILE',\n",
       " 'P7-BA-COMMERCE-FRANCE_TUILE',\n",
       " 'P3-BA-COMMERCE-FRANCE_TUILE',\n",
       " 'P5-P-COMMERCE-FRANCE_TUILE',\n",
       " 'P6-P-COMMERCE-FRANCE_TUILE',\n",
       " 'P4-I-BATIMENT DE SANTE-FRANCE_TUILE',\n",
       " 'P2-BA-BATIMENT D ENSEIGNEMENT-FRANCE_TUILE',\n",
       " 'P2-P-TERTIAIRE-FRANCE_TUILE']"
      ]
     },
     "execution_count": 16,
     "metadata": {},
     "output_type": "execute_result"
    }
   ],
   "source": [
    "list(df.archetype.unique()) # take none out later"
   ]
  },
  {
   "cell_type": "code",
   "execution_count": null,
   "metadata": {},
   "outputs": [],
   "source": [
    "def split_per_archetype(dep):\n",
    "    archs = list(dep.archetype.unique())\n",
    "    acrh_vals  = [arc for arc in archs if \"None\" not in arc ] \n",
    "    archs_gdfs_dict = {arch : dep[dep.archetype == arch] for arch in sorted(acrh_vals)}\n",
    "    return archs_gdfs_dict\n",
    "\n"
   ]
  },
  {
   "cell_type": "code",
   "execution_count": null,
   "metadata": {},
   "outputs": [],
   "source": [
    "for dep in gdfs.values():\n",
    "    split_per_archetype(dep)"
   ]
  },
  {
   "cell_type": "code",
   "execution_count": null,
   "metadata": {},
   "outputs": [],
   "source": [
    "def split_per_archetype(dep):\n",
    "    dep[\"archetype\"] =  (dep['period'].astype(str) + \n",
    "                         \"-\" + dep['typology'].astype(str) + \n",
    "                         \"-\" + dep['usage'].astype(str) + \n",
    "                         \"-\" + dep['territory'].astype(str)\n",
    "                        )"
   ]
  },
  {
   "cell_type": "code",
   "execution_count": null,
   "metadata": {},
   "outputs": [],
   "source": [
    "type(a)"
   ]
  },
  {
   "cell_type": "code",
   "execution_count": null,
   "metadata": {},
   "outputs": [],
   "source": [
    " "
   ]
  }
 ],
 "metadata": {
  "kernelspec": {
   "display_name": "Python [conda env:geo_env]",
   "language": "python",
   "name": "conda-env-geo_env-py"
  },
  "language_info": {
   "codemirror_mode": {
    "name": "ipython",
    "version": 3
   },
   "file_extension": ".py",
   "mimetype": "text/x-python",
   "name": "python",
   "nbconvert_exporter": "python",
   "pygments_lexer": "ipython3",
   "version": "3.10.5"
  }
 },
 "nbformat": 4,
 "nbformat_minor": 2
}
