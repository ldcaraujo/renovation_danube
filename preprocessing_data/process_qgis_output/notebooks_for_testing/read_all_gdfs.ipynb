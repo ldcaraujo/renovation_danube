{
 "cells": [
  {
   "cell_type": "code",
   "execution_count": 1,
   "metadata": {},
   "outputs": [],
   "source": [
    "import timeit\n",
    "import os\n",
    "import numpy as np\n",
    "import pandas as pd\n",
    "import seaborn as sns\n",
    "import matplotlib.pyplot as plt\n",
    "import geopandas as gpd\n",
    "from datetime import datetime, timezone, timedelta"
   ]
  },
  {
   "cell_type": "code",
   "execution_count": 2,
   "metadata": {},
   "outputs": [],
   "source": [
    "def timenow():\n",
    "    time = datetime.utcnow() + timedelta(hours=2)\n",
    "    return time.strftime('%H:%M:%S')"
   ]
  },
  {
   "cell_type": "code",
   "execution_count": 3,
   "metadata": {},
   "outputs": [
    {
     "data": {
      "text/plain": [
       "['C:\\\\Users\\\\laraujo\\\\Music\\\\Work_august\\\\dados\\\\_Joined_per_dept\\\\joined_departement_01.gpkg',\n",
       " 'C:\\\\Users\\\\laraujo\\\\Music\\\\Work_august\\\\dados\\\\_Joined_per_dept\\\\joined_departement_02.gpkg',\n",
       " 'C:\\\\Users\\\\laraujo\\\\Music\\\\Work_august\\\\dados\\\\_Joined_per_dept\\\\joined_departement_03.gpkg',\n",
       " 'C:\\\\Users\\\\laraujo\\\\Music\\\\Work_august\\\\dados\\\\_Joined_per_dept\\\\joined_departement_04.gpkg',\n",
       " 'C:\\\\Users\\\\laraujo\\\\Music\\\\Work_august\\\\dados\\\\_Joined_per_dept\\\\joined_departement_05.gpkg',\n",
       " 'C:\\\\Users\\\\laraujo\\\\Music\\\\Work_august\\\\dados\\\\_Joined_per_dept\\\\joined_departement_06.gpkg',\n",
       " 'C:\\\\Users\\\\laraujo\\\\Music\\\\Work_august\\\\dados\\\\_Joined_per_dept\\\\joined_departement_07.gpkg',\n",
       " 'C:\\\\Users\\\\laraujo\\\\Music\\\\Work_august\\\\dados\\\\_Joined_per_dept\\\\joined_departement_08.gpkg',\n",
       " 'C:\\\\Users\\\\laraujo\\\\Music\\\\Work_august\\\\dados\\\\_Joined_per_dept\\\\joined_departement_09.gpkg',\n",
       " 'C:\\\\Users\\\\laraujo\\\\Music\\\\Work_august\\\\dados\\\\_Joined_per_dept\\\\joined_departement_10.gpkg',\n",
       " 'C:\\\\Users\\\\laraujo\\\\Music\\\\Work_august\\\\dados\\\\_Joined_per_dept\\\\joined_departement_11.gpkg',\n",
       " 'C:\\\\Users\\\\laraujo\\\\Music\\\\Work_august\\\\dados\\\\_Joined_per_dept\\\\joined_departement_12.gpkg',\n",
       " 'C:\\\\Users\\\\laraujo\\\\Music\\\\Work_august\\\\dados\\\\_Joined_per_dept\\\\joined_departement_13.gpkg',\n",
       " 'C:\\\\Users\\\\laraujo\\\\Music\\\\Work_august\\\\dados\\\\_Joined_per_dept\\\\joined_departement_14.gpkg',\n",
       " 'C:\\\\Users\\\\laraujo\\\\Music\\\\Work_august\\\\dados\\\\_Joined_per_dept\\\\joined_departement_15.gpkg',\n",
       " 'C:\\\\Users\\\\laraujo\\\\Music\\\\Work_august\\\\dados\\\\_Joined_per_dept\\\\joined_departement_16.gpkg',\n",
       " 'C:\\\\Users\\\\laraujo\\\\Music\\\\Work_august\\\\dados\\\\_Joined_per_dept\\\\joined_departement_17.gpkg',\n",
       " 'C:\\\\Users\\\\laraujo\\\\Music\\\\Work_august\\\\dados\\\\_Joined_per_dept\\\\joined_departement_18.gpkg',\n",
       " 'C:\\\\Users\\\\laraujo\\\\Music\\\\Work_august\\\\dados\\\\_Joined_per_dept\\\\joined_departement_19.gpkg',\n",
       " 'C:\\\\Users\\\\laraujo\\\\Music\\\\Work_august\\\\dados\\\\_Joined_per_dept\\\\joined_departement_21.gpkg',\n",
       " 'C:\\\\Users\\\\laraujo\\\\Music\\\\Work_august\\\\dados\\\\_Joined_per_dept\\\\joined_departement_22.gpkg',\n",
       " 'C:\\\\Users\\\\laraujo\\\\Music\\\\Work_august\\\\dados\\\\_Joined_per_dept\\\\joined_departement_23.gpkg',\n",
       " 'C:\\\\Users\\\\laraujo\\\\Music\\\\Work_august\\\\dados\\\\_Joined_per_dept\\\\joined_departement_24.gpkg',\n",
       " 'C:\\\\Users\\\\laraujo\\\\Music\\\\Work_august\\\\dados\\\\_Joined_per_dept\\\\joined_departement_25.gpkg',\n",
       " 'C:\\\\Users\\\\laraujo\\\\Music\\\\Work_august\\\\dados\\\\_Joined_per_dept\\\\joined_departement_26.gpkg',\n",
       " 'C:\\\\Users\\\\laraujo\\\\Music\\\\Work_august\\\\dados\\\\_Joined_per_dept\\\\joined_departement_27.gpkg',\n",
       " 'C:\\\\Users\\\\laraujo\\\\Music\\\\Work_august\\\\dados\\\\_Joined_per_dept\\\\joined_departement_28.gpkg',\n",
       " 'C:\\\\Users\\\\laraujo\\\\Music\\\\Work_august\\\\dados\\\\_Joined_per_dept\\\\joined_departement_29.gpkg',\n",
       " 'C:\\\\Users\\\\laraujo\\\\Music\\\\Work_august\\\\dados\\\\_Joined_per_dept\\\\joined_departement_2A.gpkg',\n",
       " 'C:\\\\Users\\\\laraujo\\\\Music\\\\Work_august\\\\dados\\\\_Joined_per_dept\\\\joined_departement_2B.gpkg',\n",
       " 'C:\\\\Users\\\\laraujo\\\\Music\\\\Work_august\\\\dados\\\\_Joined_per_dept\\\\joined_departement_30.gpkg',\n",
       " 'C:\\\\Users\\\\laraujo\\\\Music\\\\Work_august\\\\dados\\\\_Joined_per_dept\\\\joined_departement_31.gpkg',\n",
       " 'C:\\\\Users\\\\laraujo\\\\Music\\\\Work_august\\\\dados\\\\_Joined_per_dept\\\\joined_departement_32.gpkg',\n",
       " 'C:\\\\Users\\\\laraujo\\\\Music\\\\Work_august\\\\dados\\\\_Joined_per_dept\\\\joined_departement_33.gpkg',\n",
       " 'C:\\\\Users\\\\laraujo\\\\Music\\\\Work_august\\\\dados\\\\_Joined_per_dept\\\\joined_departement_34.gpkg',\n",
       " 'C:\\\\Users\\\\laraujo\\\\Music\\\\Work_august\\\\dados\\\\_Joined_per_dept\\\\joined_departement_35.gpkg',\n",
       " 'C:\\\\Users\\\\laraujo\\\\Music\\\\Work_august\\\\dados\\\\_Joined_per_dept\\\\joined_departement_36.gpkg',\n",
       " 'C:\\\\Users\\\\laraujo\\\\Music\\\\Work_august\\\\dados\\\\_Joined_per_dept\\\\joined_departement_37.gpkg']"
      ]
     },
     "execution_count": 3,
     "metadata": {},
     "output_type": "execute_result"
    }
   ],
   "source": [
    "folder_loc = r\"C:\\Users\\laraujo\\Music\\Work_august\\dados\\_Joined_per_dept\"\n",
    "dept_files = os.listdir(folder_loc)\n",
    "dept_files_path = [os.path.join(folder_loc, file) for file in dept_files ]\n",
    "dept_files_path"
   ]
  },
  {
   "cell_type": "code",
   "execution_count": 4,
   "metadata": {},
   "outputs": [
    {
     "data": {
      "text/plain": [
       "range(0, 38)"
      ]
     },
     "execution_count": 4,
     "metadata": {},
     "output_type": "execute_result"
    }
   ],
   "source": [
    "range(len(dept_files))"
   ]
  },
  {
   "cell_type": "code",
   "execution_count": 5,
   "metadata": {},
   "outputs": [
    {
     "name": "stdout",
     "output_type": "stream",
     "text": [
      "0 - start gpd-  11:33:12\n",
      "0 - end gpd-  11:35:11\n",
      "1 - start gpd-  11:35:11\n",
      "1 - end gpd-  11:36:52\n",
      "2 - start gpd-  11:36:52\n",
      "2 - end gpd-  11:38:01\n",
      "3 - start gpd-  11:38:01\n",
      "3 - end gpd-  11:38:38\n",
      "4 - start gpd-  11:38:38\n",
      "4 - end gpd-  11:39:07\n",
      "5 - start gpd-  11:39:07\n",
      "5 - end gpd-  11:40:35\n",
      "6 - start gpd-  11:40:35\n",
      "6 - end gpd-  11:41:45\n",
      "7 - start gpd-  11:41:45\n",
      "7 - end gpd-  11:42:33\n",
      "8 - start gpd-  11:42:33\n",
      "8 - end gpd-  11:43:14\n",
      "9 - start gpd-  11:43:14\n",
      "9 - end gpd-  11:44:07\n",
      "10 - start gpd-  11:44:07\n",
      "10 - end gpd-  11:45:29\n",
      "11 - start gpd-  11:45:29\n",
      "11 - end gpd-  11:46:36\n",
      "12 - start gpd-  11:46:36\n",
      "12 - end gpd-  11:49:44\n",
      "13 - start gpd-  11:49:44\n",
      "13 - end gpd-  11:51:43\n",
      "14 - start gpd-  11:51:43\n",
      "14 - end gpd-  11:52:21\n",
      "15 - start gpd-  11:52:21\n",
      "15 - end gpd-  11:53:40\n",
      "16 - start gpd-  11:53:40\n",
      "16 - end gpd-  11:56:12\n",
      "17 - start gpd-  11:56:12\n",
      "17 - end gpd-  11:57:17\n",
      "18 - start gpd-  11:57:17\n",
      "18 - end gpd-  11:58:12\n",
      "19 - start gpd-  11:58:12\n",
      "19 - end gpd-  11:59:31\n",
      "20 - start gpd-  11:59:31\n",
      "20 - end gpd-  12:01:44\n",
      "21 - start gpd-  12:01:44\n",
      "21 - end gpd-  12:02:21\n",
      "22 - start gpd-  12:02:21\n",
      "22 - end gpd-  12:03:55\n",
      "23 - start gpd-  12:03:55\n",
      "23 - end gpd-  12:05:08\n",
      "24 - start gpd-  12:05:08\n",
      "24 - end gpd-  12:06:28\n",
      "25 - start gpd-  12:06:28\n",
      "25 - end gpd-  12:08:08\n",
      "26 - start gpd-  12:08:08\n",
      "26 - end gpd-  12:09:21\n",
      "27 - start gpd-  12:09:21\n",
      "27 - end gpd-  12:12:24\n",
      "28 - start gpd-  12:12:24\n",
      "28 - end gpd-  12:12:50\n",
      "29 - start gpd-  12:12:50\n",
      "29 - end gpd-  12:13:19\n",
      "30 - start gpd-  12:13:19\n",
      "30 - end gpd-  12:15:34\n",
      "31 - start gpd-  12:15:34\n",
      "31 - end gpd-  12:18:23\n",
      "32 - start gpd-  12:18:23\n",
      "32 - end gpd-  12:19:08\n",
      "33 - start gpd-  12:19:08\n",
      "33 - end gpd-  12:23:28\n",
      "34 - start gpd-  12:23:28\n",
      "34 - end gpd-  12:26:22\n",
      "35 - start gpd-  12:26:22\n",
      "35 - end gpd-  12:29:05\n",
      "36 - start gpd-  12:29:05\n",
      "36 - end gpd-  12:30:00\n",
      "37 - start gpd-  12:30:00\n",
      "37 - end gpd-  12:31:46\n",
      "CPU times: total: 56min 59s\n",
      "Wall time: 58min 33s\n"
     ]
    }
   ],
   "source": [
    "%%time\n",
    "gdfs = []\n",
    "for n in range(len(dept_files)):\n",
    "    print(f\"{n} - start gpd- \",timenow() )\n",
    "\n",
    "    dep_x_gdf = gpd.read_file(dept_files_path[n])\n",
    "    \n",
    "    print(f\"{n} - end gpd- \",timenow() )\n",
    "    \n",
    "    gdfs.append(dep_x_gdf)\n"
   ]
  },
  {
   "cell_type": "markdown",
   "metadata": {},
   "source": [
    "%%time\n",
    "print(\"start gpd- \",timenow() )\n",
    "dep1 = gpd.read_file(file_loc)\n",
    "print(\"end gpd- \",timenow() )"
   ]
  },
  {
   "cell_type": "code",
   "execution_count": 6,
   "metadata": {},
   "outputs": [
    {
     "ename": "NameError",
     "evalue": "name 'dep1' is not defined",
     "output_type": "error",
     "traceback": [
      "\u001b[1;31m---------------------------------------------------------------------------\u001b[0m",
      "\u001b[1;31mNameError\u001b[0m                                 Traceback (most recent call last)",
      "Input \u001b[1;32mIn [6]\u001b[0m, in \u001b[0;36m<cell line: 1>\u001b[1;34m()\u001b[0m\n\u001b[1;32m----> 1\u001b[0m \u001b[43mdep1\u001b[49m\u001b[38;5;241m.\u001b[39mhead()\n",
      "\u001b[1;31mNameError\u001b[0m: name 'dep1' is not defined"
     ]
    }
   ],
   "source": [
    "dep1.head()"
   ]
  },
  {
   "cell_type": "code",
   "execution_count": null,
   "metadata": {},
   "outputs": [],
   "source": [
    "dep1.TYPO_count.notnull().sum()"
   ]
  },
  {
   "cell_type": "code",
   "execution_count": null,
   "metadata": {},
   "outputs": [],
   "source": [
    "dep1.TYPO_M.notnull().sum()"
   ]
  },
  {
   "cell_type": "code",
   "execution_count": null,
   "metadata": {},
   "outputs": [],
   "source": [
    "len(dep1)"
   ]
  },
  {
   "cell_type": "code",
   "execution_count": null,
   "metadata": {},
   "outputs": [],
   "source": [
    "dep1.TYPO_M.notnull().sum()/len(dep1)"
   ]
  },
  {
   "cell_type": "code",
   "execution_count": null,
   "metadata": {},
   "outputs": [],
   "source": [
    "dep1.adr_fiabilite_niv_1.unique()"
   ]
  },
  {
   "cell_type": "code",
   "execution_count": null,
   "metadata": {},
   "outputs": [],
   "source": [
    "dep1.groupby(\"adr_fiabilite_niv_1\").count()/len(dep1)*100"
   ]
  },
  {
   "cell_type": "code",
   "execution_count": null,
   "metadata": {},
   "outputs": [],
   "source": [
    "[col for col in list(dep1.columns) if \"fiab\" in col]"
   ]
  },
  {
   "cell_type": "code",
   "execution_count": null,
   "metadata": {},
   "outputs": [],
   "source": [
    "%%time\n",
    "fig, ax = plt.subplots(1, 1)\n",
    "dep1.plot(columns='Part-prop_mean', ax=ax, legend=True,\n",
    "          cmap='OrRd', scheme='quantiles')"
   ]
  }
 ],
 "metadata": {
  "kernelspec": {
   "display_name": "Python [conda env:geo_env]",
   "language": "python",
   "name": "conda-env-geo_env-py"
  },
  "language_info": {
   "codemirror_mode": {
    "name": "ipython",
    "version": 3
   },
   "file_extension": ".py",
   "mimetype": "text/x-python",
   "name": "python",
   "nbconvert_exporter": "python",
   "pygments_lexer": "ipython3",
   "version": "3.10.5"
  }
 },
 "nbformat": 4,
 "nbformat_minor": 2
}
