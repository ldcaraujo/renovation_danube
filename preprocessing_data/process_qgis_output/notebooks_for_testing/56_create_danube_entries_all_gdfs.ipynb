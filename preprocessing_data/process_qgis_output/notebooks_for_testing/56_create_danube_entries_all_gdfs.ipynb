{
 "cells": [
  {
   "cell_type": "code",
   "execution_count": 1,
   "metadata": {},
   "outputs": [],
   "source": [
    "import timeit\n",
    "import os\n",
    "import numpy as np\n",
    "import pandas as pd\n",
    "import seaborn as sns\n",
    "import matplotlib.pyplot as plt\n",
    "import geopandas as gpd\n",
    "from datetime import datetime, timezone, timedelta\n",
    "from time import time\n"
   ]
  },
  {
   "cell_type": "code",
   "execution_count": 2,
   "metadata": {},
   "outputs": [],
   "source": [
    "def timenow():\n",
    "    time = datetime.utcnow() + timedelta(hours=2)\n",
    "    return time.strftime('%H:%M:%S')"
   ]
  },
  {
   "cell_type": "code",
   "execution_count": 3,
   "metadata": {},
   "outputs": [],
   "source": [
    "def timer_func(func):\n",
    "    # This function shows the execution time of \n",
    "    # the function object passed\n",
    "    def wrap_func(*args, **kwargs):\n",
    "        t1 = time()\n",
    "        result = func(*args, **kwargs)\n",
    "        t2 = time()\n",
    "        print(f'Function {func.__name__!r} executed in {(t2-t1):.4f}s')\n",
    "        return result\n",
    "    return wrap_func"
   ]
  },
  {
   "cell_type": "code",
   "execution_count": 4,
   "metadata": {},
   "outputs": [],
   "source": [
    "folder_loc = r\"C:\\Users\\laraujo\\Music\\Work_august\\dados\\_Joined_per_dept\""
   ]
  },
  {
   "cell_type": "code",
   "execution_count": null,
   "metadata": {},
   "outputs": [
    {
     "name": "stdout",
     "output_type": "stream",
     "text": [
      "01\n",
      "Function 'read_1dept' executed in 77.3730s\n",
      "02\n",
      "Function 'read_1dept' executed in 78.7939s\n",
      "03\n",
      "Function 'read_1dept' executed in 57.7151s\n",
      "04\n",
      "Function 'read_1dept' executed in 30.6920s\n",
      "05\n",
      "Function 'read_1dept' executed in 23.6137s\n",
      "06\n",
      "Function 'read_1dept' executed in 75.0290s\n",
      "07\n",
      "Function 'read_1dept' executed in 58.3135s\n",
      "08\n",
      "Function 'read_1dept' executed in 40.6946s\n",
      "09\n",
      "Function 'read_1dept' executed in 34.6514s\n",
      "10\n",
      "Function 'read_1dept' executed in 43.8002s\n",
      "11\n",
      "Function 'read_1dept' executed in 67.8359s\n",
      "12\n",
      "Function 'read_1dept' executed in 57.1585s\n",
      "13\n",
      "Function 'read_1dept' executed in 153.3890s\n",
      "14\n",
      "Function 'read_1dept' executed in 99.3483s\n",
      "15\n",
      "Function 'read_1dept' executed in 32.1569s\n",
      "16\n",
      "Function 'read_1dept' executed in 69.9321s\n",
      "17\n",
      "Function 'read_1dept' executed in 136.0533s\n",
      "18\n",
      "Function 'read_1dept' executed in 62.3808s\n",
      "19\n",
      "Function 'read_1dept' executed in 51.6538s\n",
      "21\n",
      "Function 'read_1dept' executed in 72.0981s\n",
      "22\n"
     ]
    }
   ],
   "source": [
    "def dept_nb_from_path(path):\n",
    "    return path.split(\"_\")[-1].split('.')[0]\n",
    "\n",
    "@timer_func\n",
    "def read_1dept(file_path):\n",
    "    dept = dept_nb_from_path(file_path)\n",
    "    print(dept)\n",
    "    dept_gdf = gpd.read_file(file_path)\n",
    "    return dept_gdf\n",
    "    \n",
    "dept_file_names = os.listdir(folder_loc)\n",
    "dept_file_paths = [os.path.join(folder_loc, file) for file in dept_file_names]\n",
    "\n",
    "# take out the :3 to read all\n",
    "charged_gdfs = {dept_nb_from_path(dept_file_path): read_1dept(dept_file_path) for dept_file_path in dept_file_paths}\n"
   ]
  },
  {
   "cell_type": "code",
   "execution_count": null,
   "metadata": {},
   "outputs": [],
   "source": [
    "gdfs = charged_gdfs.copy()"
   ]
  },
  {
   "cell_type": "code",
   "execution_count": null,
   "metadata": {},
   "outputs": [],
   "source": [
    "gdfs[\"01\"].head(2)"
   ]
  },
  {
   "cell_type": "code",
   "execution_count": null,
   "metadata": {},
   "outputs": [],
   "source": [
    "list(gdfs[\"01\"].columns)"
   ]
  },
  {
   "cell_type": "markdown",
   "metadata": {},
   "source": [
    "### Reliable address"
   ]
  },
  {
   "cell_type": "code",
   "execution_count": null,
   "metadata": {},
   "outputs": [],
   "source": [
    "# Percentage of reliable addresse per department\n",
    "\n",
    "def dept_adr_reliable(df):\n",
    "    reliable = df[[\"bnb_id\",\"adr_fiabilite_niv_1\"]].groupby(\"adr_fiabilite_niv_1\").count()/len(df)*100 \n",
    "    return reliable\n",
    "\n",
    "def all_adr_reliable(gdfs):\n",
    "    reliables = [dept_adr_reliable(gdfs[one_gdf]).rename(columns = {'bnb_id':f\"{one_gdf} (%)\"}) for one_gdf in gdfs]\n",
    "    all_reliable = pd.concat(reliables, axis=1).round(decimals=1)\n",
    "    return all_reliable\n",
    "\n",
    "all_adr_reliable(gdfs)\n",
    "with pd.option_context('display.float_format', lambda x: '%.1f' % x):\n",
    "    display(perc_description)"
   ]
  },
  {
   "cell_type": "markdown",
   "metadata": {},
   "source": [
    "# Formatting"
   ]
  },
  {
   "cell_type": "markdown",
   "metadata": {},
   "source": [
    "## Important columns first"
   ]
  },
  {
   "cell_type": "markdown",
   "metadata": {},
   "source": [
    "def change_cols_position(dep):\n",
    "    \"\"\" Changes the position of columns of territoire and filosofi\n",
    "    These are important entries that are not going to be altered\"\"\"\n",
    "\n",
    "    cols_change_position = dep[[\"Part-prop_mean\" , \"Part-Pauvr_mean\" ,]]\n",
    "    dep = dep.drop(list(cols_change_position.columns), axis=1)\n",
    "    dep_new_order = pd.concat([cols_change_position, dep], axis=1)\n",
    "\n",
    "    return dep_new_order\n",
    "\n",
    "gdfs = {k:change_cols_position(v) for (k,v) in gdfs.items()}"
   ]
  },
  {
   "cell_type": "markdown",
   "metadata": {},
   "source": [
    "## Function generate Danube entries"
   ]
  },
  {
   "cell_type": "markdown",
   "metadata": {},
   "source": [
    "### Period"
   ]
  },
  {
   "cell_type": "code",
   "execution_count": null,
   "metadata": {},
   "outputs": [],
   "source": [
    "gdfs[\"01\"]['cerffo2020_annee_construction'] "
   ]
  },
  {
   "cell_type": "code",
   "execution_count": null,
   "metadata": {},
   "outputs": [],
   "source": [
    "def create_period(dep):\n",
    "    \"\"\"  Transform BDNB 'cerffo2020_annee_construction' into Danube periods.\"\"\"    \n",
    "    period_relations = {           \n",
    "                 'P1' :\n",
    "                     (dep['cerffo2020_annee_construction'] <= 1948 ),\n",
    "\n",
    "                 'P2':\n",
    "                     (dep['cerffo2020_annee_construction'] > 1948 ) &\n",
    "                     (dep['cerffo2020_annee_construction'] <= 1973 ),\n",
    "\n",
    "\n",
    "                 'P3':\n",
    "                     (dep['cerffo2020_annee_construction'] > 1973 ) &\n",
    "                     (dep['cerffo2020_annee_construction'] <= 1981 ),\n",
    "\n",
    "                 'P4':\n",
    "                     (dep['cerffo2020_annee_construction'] > 1981 ) &\n",
    "                     (dep['cerffo2020_annee_construction'] <= 1989 ),\n",
    "\n",
    "                 'P5':\n",
    "                     (dep['cerffo2020_annee_construction'] > 1989 ) &\n",
    "                     (dep['cerffo2020_annee_construction'] <= 2000 ),\n",
    "\n",
    "                 'P6':\n",
    "                     (dep['cerffo2020_annee_construction'] > 2000 ) &\n",
    "                     (dep['cerffo2020_annee_construction'] <= 2012 ),\n",
    "\n",
    "                 'P7':\n",
    "                     (dep['cerffo2020_annee_construction'] > 2012 )\n",
    "                }\n",
    "\n",
    "\n",
    "    period_values = list(period_relations.keys())\n",
    "    period_conditions = list(period_relations.values())\n",
    "\n",
    "    dep['period'] = np.select(period_conditions, period_values, default=None)\n",
    "\n",
    "    # put into first column\n",
    "    first_column = dep.pop('period')\n",
    "    dep.insert(0, 'period', first_column)"
   ]
  },
  {
   "cell_type": "markdown",
   "metadata": {},
   "source": [
    "### Territory"
   ]
  },
  {
   "cell_type": "code",
   "execution_count": null,
   "metadata": {},
   "outputs": [],
   "source": [
    "def create_territory_1dep(dep):\n",
    "    dep['territory'] = dep.apply(\n",
    "        lambda x: (\n",
    "            None if x[\"period\"] is None\n",
    "            else x[\"Ter_P1_min\"] if x[\"period\"] == \"P1\" \n",
    "            else x[\"Ter_P2-7_min\"]\n",
    "        ), axis=1\n",
    "    ) \n",
    "    # put into first column\n",
    "    first_column = dep.pop('territory')\n",
    "    dep.insert(0, 'territory', first_column)"
   ]
  },
  {
   "cell_type": "markdown",
   "metadata": {},
   "source": [
    "### Usage"
   ]
  },
  {
   "cell_type": "code",
   "execution_count": null,
   "metadata": {},
   "outputs": [],
   "source": [
    "def create_usage_1dep(dep):\n",
    "    \"\"\"  Transform BDNB Usages into Danube Usages. \n",
    "    All usages in Danube are create with exception of the below: \n",
    "                                                                    Usages_ignored = [\n",
    "                                                                    'BATIMENT AGRICOLE',\n",
    "                                                                    'BATIMENT RELIGIEUX',\n",
    "                                                                    'CHATEAU',\n",
    "                                                                    'LOCAL NON CHAUFFE']\"\"\"\n",
    "    relations = {           \n",
    "                 'BATIMENT INDUSTRIEL' :\n",
    "                     (dep['cerffo2020_usage_niveau_2_txt'] == 'Industrie' )\n",
    "                     | (dep['cerffo2020_usage_niveau_3_txt'] == 'Etablissement industriel autre que carrière' ),       \n",
    "\n",
    "                 'SERRE AGRICOLE':\n",
    "                     (dep['cerffo2020_usage_niveau_3_txt'] == 'Serre' ),\n",
    "\n",
    "                 'BATIMENT D ENSEIGNEMENT':\n",
    "                     (dep['cerffo2020_usage_niveau_2_txt'] == 'Enseignement' ),\n",
    "\n",
    "                 'BATIMENT DE SANTE':\n",
    "                     (dep['cerffo2020_usage_niveau_2_txt'] == 'Centre de santé' ),\n",
    "\n",
    "                 'COMMERCE':\n",
    "                     (dep['cerffo2020_usage_niveau_2_txt'] == 'Commerce' ),\n",
    "\n",
    "                 'HABITAT':\n",
    "                     (dep['cerffo2020_usage_niveau_1_txt'] == 'Résidentiel individuel' )\n",
    "                     | (dep['cerffo2020_usage_niveau_1_txt'] == 'Résidentiel collectif' ) # not described in BDNB methodology\n",
    "                     | (dep['cerffo2020_usage_niveau_3_txt'] == 'Maison exceptionnelle' ),\n",
    "\n",
    "                 'TERTIAIRE':\n",
    "                     (dep['cerffo2020_usage_niveau_2_txt'] == 'Bureau' )\n",
    "                     | (dep['cerffo2020_usage_niveau_2_txt'] == 'Hôtel' ),      \n",
    "\n",
    "                 'BATIMENT SPORTIF':\n",
    "                     (dep['cerffo2020_usage_niveau_3_txt'] == 'Espace sportif' )\n",
    "                     | (dep['cerffo2020_usage_niveau_3_txt'] == 'Espace loisir' ),}\n",
    "\n",
    "\n",
    "    usages = list(relations.keys())\n",
    "    conditions = list(relations.values())\n",
    "\n",
    "    dep['usage'] = np.select(conditions, usages, default=None)\n",
    "\n",
    "    # put into first column\n",
    "    first_column = dep.pop('usage')\n",
    "    dep.insert(0, 'usage', first_column)"
   ]
  },
  {
   "cell_type": "markdown",
   "metadata": {},
   "source": [
    "gdfs = {k:create_usage_1dep(v) for (k,v) in gdfs.items()}"
   ]
  },
  {
   "cell_type": "markdown",
   "metadata": {},
   "source": [
    "### Typology"
   ]
  },
  {
   "cell_type": "markdown",
   "metadata": {},
   "source": [
    "#### Mapuce"
   ]
  },
  {
   "cell_type": "code",
   "execution_count": null,
   "metadata": {},
   "outputs": [],
   "source": [
    "# Should I take out the local? Or should I pass it to final typology? take it out\n",
    "def create_typo_mapuce_S_1dep(dep):\n",
    "\n",
    "    conditions_mapuce = [\n",
    "        (dep['TYPO_M'] == 'pcif') |  \n",
    "            (dep['TYPO_M'] == 'pcio') | \n",
    "            (dep['TYPO_M'] == 'pd')| \n",
    "            (dep['TYPO_M'] == 'psc') ,\n",
    "\n",
    "        (dep['TYPO_M'] == 'icif') |  \n",
    "            (dep['TYPO_M'] == 'icio') | \n",
    "            (dep['TYPO_M'] == 'id') ,\n",
    "\n",
    "        (dep['TYPO_M'] == 'ba') ,\n",
    "        (dep['TYPO_M'] == 'bgh'),\n",
    "#         (dep['TYPO_M'] == 'local')    \n",
    "        ]\n",
    "\n",
    "#     values_mapuce = ['P', 'I', 'BA', 'IGH', \"local\"]\n",
    "    values_mapuce = ['P', 'I', 'BA', 'IGH']\n",
    "\n",
    "    dep['TYPO_M_S'] = np.select(conditions_mapuce, values_mapuce, default=None)"
   ]
  },
  {
   "cell_type": "markdown",
   "metadata": {},
   "source": [
    "gdfs = {k:create_typo_mapuce_S_1dep(v) for (k,v) in gdfs.items()}"
   ]
  },
  {
   "cell_type": "markdown",
   "metadata": {},
   "source": [
    "#### BDNB"
   ]
  },
  {
   "cell_type": "code",
   "execution_count": null,
   "metadata": {},
   "outputs": [],
   "source": [
    "def create_typo_bdnb_S_1dep(dep):\n",
    "    conditions_typo_bdnb = [\n",
    "        (dep['cerffo2020_usage_niveau_2_txt'] == 'Maison individuelle' ) |\n",
    "            (dep['cerffo2020_usage_niveau_2_txt'] == 'Maisons groupées' )| \n",
    "            (dep['cerffo2020_usage_niveau_2_txt'] == 'Maison exceptionnelle' ), \n",
    "\n",
    "        (dep['cerffo2020_usage_niveau_2_txt'] == 'Immeuble collectif')|\n",
    "            (dep['cerffo2020_usage_niveau_2_txt'] == 'Résidentiel collectif autre')|\n",
    "            (dep['cerffo2020_usage_niveau_2_txt'] == 'Hôtel' )| \n",
    "            (dep['cerffo2020_usage_niveau_2_txt'] == 'Bureau') |  \n",
    "            (dep['cerffo2020_usage_niveau_2_txt'] == 'Centre de santé') |  \n",
    "            (dep['cerffo2020_usage_niveau_2_txt'] == 'Enseignement') | \n",
    "            (dep['cerffo2020_usage_niveau_3_txt'] == 'Magasin sans accès à la rue avec surface < 400m²')| \n",
    "            (dep['cerffo2020_usage_niveau_3_txt'] == 'Magasin de centre commercial avec surface < 400m²')| \n",
    "            (dep['cerffo2020_usage_niveau_3_txt'] == 'Magasin sur rue avec surface < 400m²'), \n",
    "\n",
    "        (dep['cerffo2020_usage_niveau_2_txt'] == 'Industrie') |  \n",
    "            (dep['cerffo2020_usage_niveau_3_txt'] == 'Magasin grande surface (entre 400m² et 2499m²)')| \n",
    "            (dep['cerffo2020_usage_niveau_3_txt'] == 'Magasin très grande surface (> 2500m²)') | \n",
    "            (dep['cerffo2020_usage_niveau_3_txt'] == 'Serre')| \n",
    "            (dep['cerffo2020_usage_niveau_3_txt'] == 'Espace sportif') ,\n",
    "\n",
    "        (dep['igntop202103_bat_hauteur'] >= 39), \n",
    "        ]\n",
    "\n",
    "    # create a list of the values we want to assign for each condition\n",
    "    values_typo_bdnb = ['P', 'I', 'BA', 'IGH']\n",
    "\n",
    "    dep['TYPO_BDNB_S'] = np.select(conditions_typo_bdnb, values_typo_bdnb, default=None)"
   ]
  },
  {
   "cell_type": "markdown",
   "metadata": {},
   "source": [
    "gdfs = {k:create_typo_bdnb_S_1dep(v) for (k,v) in gdfs.items()}"
   ]
  },
  {
   "cell_type": "markdown",
   "metadata": {},
   "source": [
    "### Combine both typos"
   ]
  },
  {
   "cell_type": "code",
   "execution_count": null,
   "metadata": {},
   "outputs": [],
   "source": [
    "def combine_typo_mapuce_bdnb(dep):\n",
    "    dep['typology'] = np.where(dep.TYPO_M_S.notnull(), dep.TYPO_M_S, \n",
    "         (np.where(dep.TYPO_M_S.isnull(), dep.TYPO_BDNB_S, None)))\n",
    "#     dep.fillna(np.nan)\n",
    "    \n",
    "    # put into first column\n",
    "    first_column = dep.pop('typology')\n",
    "    dep.insert(0, 'typology', first_column)"
   ]
  },
  {
   "cell_type": "markdown",
   "metadata": {},
   "source": [
    "gdfs = {k:combine_typo_mapuce_bdnb(v) for (k,v) in gdfs.items()}"
   ]
  },
  {
   "cell_type": "markdown",
   "metadata": {},
   "source": [
    "# Create all entries"
   ]
  },
  {
   "cell_type": "code",
   "execution_count": null,
   "metadata": {},
   "outputs": [],
   "source": [
    "@timer_func\n",
    "def create_danube_entries(dep):\n",
    "    create_period(dep)\n",
    "    create_territory_1dep(dep)\n",
    "    create_usage_1dep(dep)\n",
    "    create_typo_mapuce_S_1dep(dep)\n",
    "    create_typo_bdnb_S_1dep(dep)\n",
    "    combine_typo_mapuce_bdnb(dep)\n"
   ]
  },
  {
   "cell_type": "code",
   "execution_count": null,
   "metadata": {},
   "outputs": [],
   "source": [
    "for dep in gdfs.values():\n",
    "    create_danube_entries(dep)"
   ]
  },
  {
   "cell_type": "markdown",
   "metadata": {},
   "source": [
    "### Checking output"
   ]
  },
  {
   "cell_type": "code",
   "execution_count": null,
   "metadata": {},
   "outputs": [],
   "source": [
    "dep1 = gdfs[\"01\"]\n",
    "dep1.head(2)"
   ]
  },
  {
   "cell_type": "code",
   "execution_count": null,
   "metadata": {},
   "outputs": [],
   "source": [
    "dep1[dep1.period.notnull()][[\"period\",\"cerffo2020_annee_construction\"]].head()"
   ]
  },
  {
   "cell_type": "code",
   "execution_count": null,
   "metadata": {},
   "outputs": [],
   "source": [
    "dep1[dep1.territory.notnull()][[\"territory\",\"period\",\"Ter_P1_min\" , \"Ter_P2-7_min\",]].head()"
   ]
  },
  {
   "cell_type": "code",
   "execution_count": null,
   "metadata": {},
   "outputs": [],
   "source": [
    "dep1[[\"usage\",\n",
    "        \"typology\",\n",
    "        \"TYPO_M\" ,\n",
    "        \"TYPO_M_S\",\n",
    "        \"cerffo2020_usage_niveau_1_txt\" ,\n",
    "        \"cerffo2020_usage_niveau_2_txt\",\n",
    "        \"cerffo2020_usage_niveau_3_txt\", \n",
    "        \"cerffo2020_l_usage_niveau_3_txt\"]].head(10)"
   ]
  },
  {
   "cell_type": "markdown",
   "metadata": {},
   "source": [
    "# Mixed usage"
   ]
  },
  {
   "cell_type": "markdown",
   "metadata": {},
   "source": [
    "## For dept 1"
   ]
  },
  {
   "cell_type": "code",
   "execution_count": null,
   "metadata": {},
   "outputs": [],
   "source": [
    "dep1[\"L1\"] = dep1['cerffo2020_l_usage_niveau_1_txt'].str.split(\",\", expand=False).map(len)\n",
    "dep1[\"L2\"] = dep1['cerffo2020_l_usage_niveau_2_txt'].str.split(\",\", expand=False).map(len)\n",
    "dep1[\"L3\"] = dep1['cerffo2020_l_usage_niveau_3_txt'].str.split(\",\", expand=False).map(len)"
   ]
  },
  {
   "cell_type": "code",
   "execution_count": null,
   "metadata": {},
   "outputs": [],
   "source": [
    "len(dep1[dep1[\"L3\"]>1]) / len(dep1) * 100"
   ]
  },
  {
   "cell_type": "code",
   "execution_count": null,
   "metadata": {},
   "outputs": [],
   "source": [
    "# usage is defined even though there is multiple usages\n",
    "len(dep1[(dep1[\"L3\"]>1) &\n",
    "     (dep1[\"usage\"].notnull())]) / len(dep1) * 100"
   ]
  },
  {
   "cell_type": "code",
   "execution_count": null,
   "metadata": {},
   "outputs": [],
   "source": [
    "# usage is NOT defined because methodology does not follow logic when there is multiple usage\n",
    "len(dep1[(dep1[\"L3\"]>1) &\n",
    "     (dep1[\"usage\"].isnull())]) / len(dep1) * 100"
   ]
  },
  {
   "cell_type": "code",
   "execution_count": null,
   "metadata": {},
   "outputs": [],
   "source": [
    "# typology is defined even though there is multiple usages\n",
    "len(dep1[(dep1[\"L3\"]>1) &\n",
    "     (dep1[\"typology\"].notnull())]) / len(dep1) * 100"
   ]
  },
  {
   "cell_type": "code",
   "execution_count": null,
   "metadata": {},
   "outputs": [],
   "source": [
    "# typology is NOT defined because methodology does not follow logic when there is multiple usage\n",
    "\n",
    "len(dep1[(dep1[\"L3\"]>1) &\n",
    "     (dep1[\"typology\"].isnull())]) / len(dep1) * 100"
   ]
  },
  {
   "cell_type": "markdown",
   "metadata": {},
   "source": [
    "## Generalize "
   ]
  },
  {
   "cell_type": "code",
   "execution_count": null,
   "metadata": {},
   "outputs": [],
   "source": [
    "def create_col_num_multiple_usage(dep):\n",
    "    def count_multiple_usage(col):\n",
    "        return dep[col].str.split(\",\", expand=False).map(len)\n",
    "    \n",
    "    dep[\"L1\"] = count_multiple_usage('cerffo2020_l_usage_niveau_1_txt')\n",
    "    dep[\"L2\"] = count_multiple_usage('cerffo2020_l_usage_niveau_2_txt')\n",
    "    dep[\"L3\"] = count_multiple_usage('cerffo2020_l_usage_niveau_3_txt')\n"
   ]
  },
  {
   "cell_type": "code",
   "execution_count": null,
   "metadata": {},
   "outputs": [],
   "source": [
    "for dep in gdfs.values():\n",
    "    create_col_num_multiple_usage(dep)"
   ]
  },
  {
   "cell_type": "code",
   "execution_count": null,
   "metadata": {},
   "outputs": [],
   "source": [
    "gdfs[\"02\"].head()"
   ]
  },
  {
   "cell_type": "markdown",
   "metadata": {},
   "source": [
    "# Percentage of data"
   ]
  },
  {
   "cell_type": "code",
   "execution_count": null,
   "metadata": {},
   "outputs": [],
   "source": [
    "# Percentage of typology data\n",
    "@timer_func\n",
    "def dept_perc_typology(df):\n",
    "    \n",
    "    def percent_not_null(column):\n",
    "        return df[column].notnull().sum() / len(df) * 100\n",
    "    \n",
    "    def percent_entries_not_null():\n",
    "        entries_not_null = df[(df['period'].notnull()) & \n",
    "                        #            (df['territory'].notnull()) & \n",
    "                                   (df['usage'].notnull()) & \n",
    "                                   (df['typology'].notnull()) ] \n",
    "        return len(entries_not_null) / len(df) * 100\n",
    "      \n",
    " \n",
    "    \n",
    "    percent_typo = {\n",
    "                    \"dpe_3cl_u_mur\" : percent_not_null(\"adedpe202006_logtype_mur_u_ext\"),\n",
    "                    \"all_danube_entries\" : percent_entries_not_null(),\n",
    "                    \"period\" : percent_not_null(\"period\"),\n",
    "                    \"territory\" : percent_not_null(\"territory\"),\n",
    "                    \"usage\" : percent_not_null(\"usage\"),\n",
    "                    \"typology\" : percent_not_null(\"typology\"),\n",
    "                    \"mapuce_typo_tot\": percent_not_null(\"TYPO_count\"),\n",
    "                    \"mapuce_typo_uni\": percent_not_null(\"TYPO_M\"),\n",
    "                    \"mapuce_typo_S\" : percent_not_null(\"TYPO_M_S\"),\n",
    "                    \"bdnb_usage_tot\" : percent_not_null(\"cerffo2020_usage_niveau_3_txt\"),\n",
    "                    \"bdnb_typo_S\" : percent_not_null(\"TYPO_BDNB_S\"), # ajouter usage\n",
    "                        }\n",
    "    \n",
    "    def percent_usage_multiple_indicators():\n",
    "        usage_mult_ind = {}\n",
    "        cond_mult = df[\"L3\"]>1\n",
    "        # all multiple usages in bdnb\n",
    "        usage_mult_ind[\"bdnb_all_multiple_usage\"] =  len(df[cond_mult]) \n",
    "        \n",
    "        # usage is defined even though there is multiple usages\n",
    "        usage_mult_ind[\"mult_usage_OK\"] =  len(df[(cond_mult) & (df[\"usage\"].notnull())])\n",
    "        \n",
    "        # usage is NOT defined ((because methodology does not follow logic) ou (ignored case)) and there is multiple usage\n",
    "        usage_mult_ind[\"mult_usage_KO\"] =  len(df[(cond_mult) & (df[\"usage\"].isnull())])\n",
    "        \n",
    "        # typology is defined even though there is multiple usages\n",
    "        usage_mult_ind[\"mult_typo_OK\"] =  len(df[(cond_mult) & (df[\"typology\"].notnull())])\n",
    "        \n",
    "        # typology is NOT defined ((because methodology does not follow logic) ou (ignored case)) and there is multiple usage\n",
    "        usage_mult_ind[\"mult_typo_KO\"] =  len(df[(cond_mult) & (df[\"typology\"].isnull())])\n",
    "        usage_mult_ind = {k:v / len(df) * 100 for (k,v) in usage_mult_ind.items()}\n",
    "        return usage_mult_ind   \n",
    "    \n",
    "    usage_mult_ind = percent_usage_multiple_indicators()\n",
    "    percent_typo.update(usage_mult_ind)\n",
    "                         \n",
    "    perc_cases = pd.DataFrame.from_dict(percent_typo, orient = 'index')\n",
    "    return perc_cases\n",
    "\n",
    "\n",
    "def all_perc_typology(gdfs):\n",
    "    perc_typologies = [dept_perc_typology(gdfs[one_gdf]).rename(columns={0:one_gdf}) for one_gdf in gdfs]\n",
    "    all_perc_typologies = pd.concat(perc_typologies, axis=1).round(decimals=1)\n",
    "    return all_perc_typologies\n",
    "\n",
    "perc = all_perc_typology(gdfs)\n",
    "\n",
    "# check df4-5 if no typo_count"
   ]
  },
  {
   "cell_type": "code",
   "execution_count": null,
   "metadata": {},
   "outputs": [],
   "source": [
    "with pd.option_context(\"display.max_columns\", None):\n",
    "    display(perc)"
   ]
  },
  {
   "cell_type": "code",
   "execution_count": null,
   "metadata": {},
   "outputs": [],
   "source": [
    "perc_description = perc.T.describe().T.round(decimals=1)\n",
    "perc_description[[\"mean\",\"min\", \"max\"]]"
   ]
  },
  {
   "cell_type": "code",
   "execution_count": null,
   "metadata": {},
   "outputs": [],
   "source": [
    "3.7/4.3\n",
    "# ne pas prendre en compte les cas multiples pour l'analyse"
   ]
  },
  {
   "cell_type": "code",
   "execution_count": null,
   "metadata": {},
   "outputs": [],
   "source": [
    "perc_description"
   ]
  },
  {
   "cell_type": "markdown",
   "metadata": {},
   "source": [
    "with pd.option_context('display.float_format', lambda x: '%.1f' % x):\n",
    "    display(perc_description)"
   ]
  },
  {
   "cell_type": "code",
   "execution_count": null,
   "metadata": {},
   "outputs": [],
   "source": []
  },
  {
   "cell_type": "code",
   "execution_count": null,
   "metadata": {},
   "outputs": [],
   "source": []
  },
  {
   "cell_type": "code",
   "execution_count": null,
   "metadata": {},
   "outputs": [],
   "source": []
  },
  {
   "cell_type": "code",
   "execution_count": null,
   "metadata": {},
   "outputs": [],
   "source": []
  }
 ],
 "metadata": {
  "kernelspec": {
   "display_name": "Python [conda env:geo_env]",
   "language": "python",
   "name": "conda-env-geo_env-py"
  },
  "language_info": {
   "codemirror_mode": {
    "name": "ipython",
    "version": 3
   },
   "file_extension": ".py",
   "mimetype": "text/x-python",
   "name": "python",
   "nbconvert_exporter": "python",
   "pygments_lexer": "ipython3",
   "version": "3.10.5"
  }
 },
 "nbformat": 4,
 "nbformat_minor": 2
}
