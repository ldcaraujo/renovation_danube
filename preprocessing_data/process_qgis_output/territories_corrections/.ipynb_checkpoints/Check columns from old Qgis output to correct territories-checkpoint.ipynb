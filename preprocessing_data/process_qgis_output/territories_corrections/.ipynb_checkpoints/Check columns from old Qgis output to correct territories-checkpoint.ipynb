{
 "cells": [
  {
   "cell_type": "code",
   "execution_count": 14,
   "id": "4f804847",
   "metadata": {},
   "outputs": [],
   "source": [
    "import pandas as pd\n",
    "from os import listdir\n",
    "from pathlib import Path"
   ]
  },
  {
   "cell_type": "code",
   "execution_count": 22,
   "id": "a89e49b0",
   "metadata": {},
   "outputs": [],
   "source": [
    "folder = Path(r\"C:\\Users\\ldecarva\\Documents\\Data\\working_data\\qgis_output\\france_old_territory\\old_territory_csvs_per_department\")"
   ]
  },
  {
   "cell_type": "code",
   "execution_count": 32,
   "id": "e31ea9a7",
   "metadata": {},
   "outputs": [
    {
     "data": {
      "text/plain": [
       "325"
      ]
     },
     "execution_count": 32,
     "metadata": {},
     "output_type": "execute_result"
    }
   ],
   "source": [
    "path = folder / \"joined_departement_01.csv\"\n",
    "len(pd.read_csv(path, nrows= 10).columns)"
   ]
  },
  {
   "cell_type": "code",
   "execution_count": 27,
   "id": "d2701cae",
   "metadata": {},
   "outputs": [
    {
     "name": "stdout",
     "output_type": "stream",
     "text": [
      "joined_departement_05.csv\n",
      "joined_departement_2A.csv\n",
      "joined_departement_35.csv\n"
     ]
    }
   ],
   "source": [
    "for csv_file in listdir(folder):\n",
    "    path = folder / csv_file\n",
    "    df = pd.read_csv(path, nrows= 2)\n",
    "    if len(df.columns) != 325:\n",
    "        print(csv_file)"
   ]
  },
  {
   "cell_type": "code",
   "execution_count": 39,
   "id": "ec92cf78",
   "metadata": {},
   "outputs": [
    {
     "data": {
      "text/html": [
       "<div>\n",
       "<style scoped>\n",
       "    .dataframe tbody tr th:only-of-type {\n",
       "        vertical-align: middle;\n",
       "    }\n",
       "\n",
       "    .dataframe tbody tr th {\n",
       "        vertical-align: top;\n",
       "    }\n",
       "\n",
       "    .dataframe thead th {\n",
       "        text-align: right;\n",
       "    }\n",
       "</style>\n",
       "<table border=\"1\" class=\"dataframe\">\n",
       "  <thead>\n",
       "    <tr style=\"text-align: right;\">\n",
       "      <th></th>\n",
       "      <th>cerffo2020_nb_gest_bailleur</th>\n",
       "      <th>cerffo2020_nb_gest</th>\n",
       "      <th>TYPO_count</th>\n",
       "      <th>TYPO_unique</th>\n",
       "      <th>TYPO_min</th>\n",
       "      <th>INSEE_DEP_min</th>\n",
       "      <th>Ter_P1_min</th>\n",
       "      <th>Ter_P2-7_min</th>\n",
       "      <th>TYPO_M</th>\n",
       "      <th>geometry</th>\n",
       "    </tr>\n",
       "  </thead>\n",
       "  <tbody>\n",
       "    <tr>\n",
       "      <th>0</th>\n",
       "      <td>NaN</td>\n",
       "      <td>NaN</td>\n",
       "      <td>NaN</td>\n",
       "      <td>NaN</td>\n",
       "      <td>NaN</td>\n",
       "      <td>35</td>\n",
       "      <td>FRANCE_PIERRE_GRES_ARDOISE</td>\n",
       "      <td>FRANCE_ARDOISE</td>\n",
       "      <td>NaN</td>\n",
       "      <td>MULTIPOLYGON (((367973.38102848036 6827113.940...</td>\n",
       "    </tr>\n",
       "    <tr>\n",
       "      <th>1</th>\n",
       "      <td>NaN</td>\n",
       "      <td>NaN</td>\n",
       "      <td>NaN</td>\n",
       "      <td>NaN</td>\n",
       "      <td>NaN</td>\n",
       "      <td>35</td>\n",
       "      <td>FRANCE_PIERRE_GRES_ARDOISE</td>\n",
       "      <td>FRANCE_ARDOISE</td>\n",
       "      <td>NaN</td>\n",
       "      <td>MULTIPOLYGON (((371238.0291457809 6827408.0578...</td>\n",
       "    </tr>\n",
       "  </tbody>\n",
       "</table>\n",
       "</div>"
      ],
      "text/plain": [
       "   cerffo2020_nb_gest_bailleur  cerffo2020_nb_gest  TYPO_count  TYPO_unique  \\\n",
       "0                          NaN                 NaN         NaN          NaN   \n",
       "1                          NaN                 NaN         NaN          NaN   \n",
       "\n",
       "   TYPO_min  INSEE_DEP_min                  Ter_P1_min    Ter_P2-7_min  \\\n",
       "0       NaN             35  FRANCE_PIERRE_GRES_ARDOISE  FRANCE_ARDOISE   \n",
       "1       NaN             35  FRANCE_PIERRE_GRES_ARDOISE  FRANCE_ARDOISE   \n",
       "\n",
       "   TYPO_M                                           geometry  \n",
       "0     NaN  MULTIPOLYGON (((367973.38102848036 6827113.940...  \n",
       "1     NaN  MULTIPOLYGON (((371238.0291457809 6827408.0578...  "
      ]
     },
     "execution_count": 39,
     "metadata": {},
     "output_type": "execute_result"
    }
   ],
   "source": [
    "path = folder / \"joined_departement_35.csv\"\n",
    "df = pd.read_csv(path, nrows= 10)\n",
    "df.head(2).iloc[:, -10:]\n",
    "# It is missing the data from filosofi for dept 35. \n",
    "# I should redo the assembling at home, maybe the file was not selected well during the "
   ]
  },
  {
   "cell_type": "code",
   "execution_count": 37,
   "id": "d389e5f2",
   "metadata": {},
   "outputs": [
    {
     "data": {
      "text/html": [
       "<div>\n",
       "<style scoped>\n",
       "    .dataframe tbody tr th:only-of-type {\n",
       "        vertical-align: middle;\n",
       "    }\n",
       "\n",
       "    .dataframe tbody tr th {\n",
       "        vertical-align: top;\n",
       "    }\n",
       "\n",
       "    .dataframe thead th {\n",
       "        text-align: right;\n",
       "    }\n",
       "</style>\n",
       "<table border=\"1\" class=\"dataframe\">\n",
       "  <thead>\n",
       "    <tr style=\"text-align: right;\">\n",
       "      <th></th>\n",
       "      <th>cerffo2020_nb_gest_pm</th>\n",
       "      <th>cerffo2020_nb_gest_bailleur</th>\n",
       "      <th>cerffo2020_nb_gest</th>\n",
       "      <th>Part-prop_mean</th>\n",
       "      <th>Part-Pauvr_mean</th>\n",
       "      <th>INSEE_DEP_min</th>\n",
       "      <th>Ter_P1_min</th>\n",
       "      <th>Ter_P2-7_min</th>\n",
       "      <th>TYPO_M</th>\n",
       "      <th>geometry</th>\n",
       "    </tr>\n",
       "  </thead>\n",
       "  <tbody>\n",
       "    <tr>\n",
       "      <th>0</th>\n",
       "      <td>NaN</td>\n",
       "      <td>NaN</td>\n",
       "      <td>NaN</td>\n",
       "      <td>NaN</td>\n",
       "      <td>NaN</td>\n",
       "      <td>5</td>\n",
       "      <td>FRANCE_PIERRE_MEULIERE_TUILE</td>\n",
       "      <td>FRANCE_TUILE</td>\n",
       "      <td>NaN</td>\n",
       "      <td>MULTIPOLYGON (((993339.0970380264 6410260.8014...</td>\n",
       "    </tr>\n",
       "    <tr>\n",
       "      <th>1</th>\n",
       "      <td>NaN</td>\n",
       "      <td>NaN</td>\n",
       "      <td>NaN</td>\n",
       "      <td>NaN</td>\n",
       "      <td>NaN</td>\n",
       "      <td>5</td>\n",
       "      <td>FRANCE_PIERRE_MEULIERE_TUILE</td>\n",
       "      <td>FRANCE_TUILE</td>\n",
       "      <td>NaN</td>\n",
       "      <td>MULTIPOLYGON (((995247.5172571447 6423557.6052...</td>\n",
       "    </tr>\n",
       "  </tbody>\n",
       "</table>\n",
       "</div>"
      ],
      "text/plain": [
       "   cerffo2020_nb_gest_pm  cerffo2020_nb_gest_bailleur  cerffo2020_nb_gest  \\\n",
       "0                    NaN                          NaN                 NaN   \n",
       "1                    NaN                          NaN                 NaN   \n",
       "\n",
       "   Part-prop_mean  Part-Pauvr_mean  INSEE_DEP_min  \\\n",
       "0             NaN              NaN              5   \n",
       "1             NaN              NaN              5   \n",
       "\n",
       "                     Ter_P1_min  Ter_P2-7_min  TYPO_M  \\\n",
       "0  FRANCE_PIERRE_MEULIERE_TUILE  FRANCE_TUILE     NaN   \n",
       "1  FRANCE_PIERRE_MEULIERE_TUILE  FRANCE_TUILE     NaN   \n",
       "\n",
       "                                            geometry  \n",
       "0  MULTIPOLYGON (((993339.0970380264 6410260.8014...  \n",
       "1  MULTIPOLYGON (((995247.5172571447 6423557.6052...  "
      ]
     },
     "execution_count": 37,
     "metadata": {},
     "output_type": "execute_result"
    }
   ],
   "source": [
    "path = folder / \"joined_departement_05.csv\"\n",
    "df = pd.read_csv(path, nrows= 10)\n",
    "df.head(2).iloc[:, -10:]\n",
    "# It is missing some data from Mapuce (TYPO count, min, unique)\n",
    "# Not a problem, since these columns are not used later"
   ]
  },
  {
   "cell_type": "code",
   "execution_count": 38,
   "id": "1de44fd7",
   "metadata": {},
   "outputs": [
    {
     "data": {
      "text/html": [
       "<div>\n",
       "<style scoped>\n",
       "    .dataframe tbody tr th:only-of-type {\n",
       "        vertical-align: middle;\n",
       "    }\n",
       "\n",
       "    .dataframe tbody tr th {\n",
       "        vertical-align: top;\n",
       "    }\n",
       "\n",
       "    .dataframe thead th {\n",
       "        text-align: right;\n",
       "    }\n",
       "</style>\n",
       "<table border=\"1\" class=\"dataframe\">\n",
       "  <thead>\n",
       "    <tr style=\"text-align: right;\">\n",
       "      <th></th>\n",
       "      <th>cerffo2020_nb_gest_pm</th>\n",
       "      <th>cerffo2020_nb_gest_bailleur</th>\n",
       "      <th>cerffo2020_nb_gest</th>\n",
       "      <th>Part-prop_mean</th>\n",
       "      <th>Part-Pauvr_mean</th>\n",
       "      <th>INSEE_DEP_min</th>\n",
       "      <th>Ter_P1_min</th>\n",
       "      <th>Ter_P2-7_min</th>\n",
       "      <th>TYPO_M</th>\n",
       "      <th>geometry</th>\n",
       "    </tr>\n",
       "  </thead>\n",
       "  <tbody>\n",
       "    <tr>\n",
       "      <th>0</th>\n",
       "      <td>NaN</td>\n",
       "      <td>NaN</td>\n",
       "      <td>NaN</td>\n",
       "      <td>0.407572</td>\n",
       "      <td>0.216036</td>\n",
       "      <td>2A</td>\n",
       "      <td>FRANCE_PIERRE_GRANITE_TUILE</td>\n",
       "      <td>FRANCE_TUILE</td>\n",
       "      <td>NaN</td>\n",
       "      <td>MULTIPOLYGON (((1176403.6496235286 6109229.784...</td>\n",
       "    </tr>\n",
       "    <tr>\n",
       "      <th>1</th>\n",
       "      <td>NaN</td>\n",
       "      <td>NaN</td>\n",
       "      <td>NaN</td>\n",
       "      <td>0.383152</td>\n",
       "      <td>0.263587</td>\n",
       "      <td>2A</td>\n",
       "      <td>FRANCE_PIERRE_GRANITE_TUILE</td>\n",
       "      <td>FRANCE_TUILE</td>\n",
       "      <td>NaN</td>\n",
       "      <td>MULTIPOLYGON (((1176620.3421798204 6108409.055...</td>\n",
       "    </tr>\n",
       "  </tbody>\n",
       "</table>\n",
       "</div>"
      ],
      "text/plain": [
       "   cerffo2020_nb_gest_pm  cerffo2020_nb_gest_bailleur  cerffo2020_nb_gest  \\\n",
       "0                    NaN                          NaN                 NaN   \n",
       "1                    NaN                          NaN                 NaN   \n",
       "\n",
       "   Part-prop_mean  Part-Pauvr_mean INSEE_DEP_min                   Ter_P1_min  \\\n",
       "0        0.407572         0.216036            2A  FRANCE_PIERRE_GRANITE_TUILE   \n",
       "1        0.383152         0.263587            2A  FRANCE_PIERRE_GRANITE_TUILE   \n",
       "\n",
       "   Ter_P2-7_min  TYPO_M                                           geometry  \n",
       "0  FRANCE_TUILE     NaN  MULTIPOLYGON (((1176403.6496235286 6109229.784...  \n",
       "1  FRANCE_TUILE     NaN  MULTIPOLYGON (((1176620.3421798204 6108409.055...  "
      ]
     },
     "execution_count": 38,
     "metadata": {},
     "output_type": "execute_result"
    }
   ],
   "source": [
    "path = folder / \"joined_departement_2A.csv\"\n",
    "df = pd.read_csv(path, nrows= 10)\n",
    "df.head(2).iloc[:, -10:]\n",
    "# It is missing some data from Mapuce (TYPO count, min, unique)\n",
    "# Not a problem, since these columns are not used later"
   ]
  },
  {
   "cell_type": "code",
   "execution_count": null,
   "id": "66072bce",
   "metadata": {},
   "outputs": [],
   "source": []
  }
 ],
 "metadata": {
  "kernelspec": {
   "display_name": "Python 3 (ipykernel)",
   "language": "python",
   "name": "python3"
  },
  "language_info": {
   "codemirror_mode": {
    "name": "ipython",
    "version": 3
   },
   "file_extension": ".py",
   "mimetype": "text/x-python",
   "name": "python",
   "nbconvert_exporter": "python",
   "pygments_lexer": "ipython3",
   "version": "3.9.7"
  },
  "toc": {
   "base_numbering": 1,
   "nav_menu": {},
   "number_sections": true,
   "sideBar": true,
   "skip_h1_title": false,
   "title_cell": "Table of Contents",
   "title_sidebar": "Contents",
   "toc_cell": false,
   "toc_position": {},
   "toc_section_display": true,
   "toc_window_display": false
  }
 },
 "nbformat": 4,
 "nbformat_minor": 5
}
